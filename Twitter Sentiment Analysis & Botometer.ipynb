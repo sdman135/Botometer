{
 "cells": [
  {
   "cell_type": "markdown",
   "metadata": {},
   "source": [
    "# Imports"
   ]
  },
  {
   "cell_type": "code",
   "execution_count": 72,
   "metadata": {
    "ExecuteTime": {
     "end_time": "2020-07-10T17:22:42.835371Z",
     "start_time": "2020-07-10T17:22:42.832161Z"
    }
   },
   "outputs": [],
   "source": [
    "import tweepy\n",
    "from botometer import Botometer\n",
    "import pandas as pd\n",
    "import requests"
   ]
  },
  {
   "cell_type": "code",
   "execution_count": 47,
   "metadata": {
    "ExecuteTime": {
     "end_time": "2020-07-10T16:34:16.983517Z",
     "start_time": "2020-07-10T16:34:16.953663Z"
    },
    "scrolled": true
   },
   "outputs": [],
   "source": [
    "# Running file with my Twitter API keys\n",
    "%run config/config.py"
   ]
  },
  {
   "cell_type": "markdown",
   "metadata": {},
   "source": [
    "# API setup"
   ]
  },
  {
   "cell_type": "code",
   "execution_count": 10,
   "metadata": {
    "ExecuteTime": {
     "end_time": "2020-07-05T00:04:15.011217Z",
     "start_time": "2020-07-05T00:04:15.006754Z"
    }
   },
   "outputs": [],
   "source": [
    "# OAuthHandler instance , passing consumer API keys and Access tokens\n",
    "auth = tweepy.OAuthHandler(consumer_key, consumer_secret)\n",
    "auth.set_access_token(access_token,access_token_secret)"
   ]
  },
  {
   "cell_type": "code",
   "execution_count": 11,
   "metadata": {
    "ExecuteTime": {
     "end_time": "2020-07-05T00:07:48.406577Z",
     "start_time": "2020-07-05T00:07:48.403666Z"
    }
   },
   "outputs": [],
   "source": [
    "# Passing API method to OAuthHandler instance\n",
    "api = tweepy.API(auth)"
   ]
  },
  {
   "cell_type": "markdown",
   "metadata": {},
   "source": [
    "# Pulling Tweets"
   ]
  },
  {
   "cell_type": "code",
   "execution_count": 14,
   "metadata": {
    "ExecuteTime": {
     "end_time": "2020-07-05T00:21:16.506874Z",
     "start_time": "2020-07-05T00:21:16.501255Z"
    }
   },
   "outputs": [],
   "source": [
    "# function to query tweets containing the \"key_word\", limited to 1000 items\n",
    "\n",
    "def get_related_tweets(key_word):\n",
    "    \n",
    "    twitter_users = []\n",
    "    tweet_time = []\n",
    "    tweet_string = [] \n",
    "    \n",
    "    for tweet in tweepy.Cursor(api.search,q=key_word, count=1000).items(1000):\n",
    "            # Using orginal tweets not retweets\n",
    "            if (not tweet.retweeted) and ('RT @' not in tweet.text):\n",
    "                # Only using english tweets\n",
    "                if tweet.lang == \"en\":\n",
    "                    # Tweeter's username \n",
    "                    twitter_users.append(tweet.user.name)\n",
    "                    # Date and Time tweet was created\n",
    "                    tweet_time.append(tweet.created_at)\n",
    "                    # Actual tweet\n",
    "                    tweet_string.append(tweet.text)\n",
    "                    print([tweet.user.name,tweet.created_at,tweet.text])\n",
    "    # Creating dataframe with desired info\n",
    "    df = pd.DataFrame({'name':twitter_users, 'time': tweet_time, 'tweet': tweet_string})\n",
    "    \n",
    "    return df"
   ]
  },
  {
   "cell_type": "code",
   "execution_count": null,
   "metadata": {},
   "outputs": [],
   "source": []
  },
  {
   "cell_type": "code",
   "execution_count": 112,
   "metadata": {
    "ExecuteTime": {
     "end_time": "2020-07-11T06:28:29.123818Z",
     "start_time": "2020-07-11T06:28:20.601539Z"
    }
   },
   "outputs": [
    {
     "name": "stdout",
     "output_type": "stream",
     "text": [
      "['FactsMatter', datetime.datetime(2020, 7, 11, 6, 28, 19), '@washingtonpost Becoming? There is no deep state. Roger Stone is a criminal not victim of political conspiracy. Cov… https://t.co/N5W99zFd5B']\n",
      "['Roy Parret', datetime.datetime(2020, 7, 11, 6, 28, 18), 'What a major load of crap the media and Dems are dishing out now, complaining about Trump commuting Roger Stone’s s… https://t.co/XalOhD2ijz']\n",
      "['NINJA', datetime.datetime(2020, 7, 11, 6, 28, 18), 'If you @GOP, senate, &amp; the house don’t file charges immediately you are just as guilty as Trump. Fuck all of you.']\n",
      "['ashutosh singhal', datetime.datetime(2020, 7, 11, 6, 28, 18), '@HuXijin_GT You know what will trump respond after hearing your tweet will be F*** o** A******.\\nThis is the reality… https://t.co/An0AiL2tA1']\n",
      "['The AssarV10 Team™©', datetime.datetime(2020, 7, 11, 6, 28, 18), \"President Trump's Joint Press Statement with the President https://t.co/dOjKInjNnH #news #covid19 #coronavirus… https://t.co/EfNKx7XMv7\"]\n",
      "['Patrick munsell', datetime.datetime(2020, 7, 11, 6, 28, 17), '@DailyCaller @realDonaldTrump Hawley is a trump butt kisser.']\n",
      "['Hailey 🌷', datetime.datetime(2020, 7, 11, 6, 28, 17), '@TempResident2 @itsJeffTiedrich @realDonaldTrump @kilmeade @foxandfriends Donald Trump is a racist']\n",
      "['Gaëtan Daviau', datetime.datetime(2020, 7, 11, 6, 28, 16), 'Top story: Trump Commutes Sentence of Roger Stone in Case He Long Denounced https://t.co/YmABJ6gO8P, see more https://t.co/N8a2CFgq44']\n",
      "['Pedro Lopes', datetime.datetime(2020, 7, 11, 6, 28, 16), \"@IndySpanglish @AOC It's freedom vs Trump's fascism. There. Fixed it for you.\"]\n",
      "['NoGuff ❌', datetime.datetime(2020, 7, 11, 6, 28, 16), '@1776Stonewall Donald Trump Junior, with VP Eric Trump.']\n",
      "['Will Ens', datetime.datetime(2020, 7, 11, 6, 28, 15), \"explains to CNN's Wolf Blitzer his decision to sue the Trump administration to allow international students to stay… https://t.co/qZlFyWN0Bd\"]\n",
      "['Ignoble Jim Houghton', datetime.datetime(2020, 7, 11, 6, 28, 15), 'Translation: Trump only discovered Lincoln was a Republican since he took office. https://t.co/ymYWyXmjbr']\n",
      "['bobby hill', datetime.datetime(2020, 7, 11, 6, 28, 14), 'Smfh someone find these racist mfers fuck trump https://t.co/6U4KogWXyc']\n",
      "['UK Politics Live', datetime.datetime(2020, 7, 11, 6, 28, 13), \"Roger Stone: Trump commutes ex-adviser's sentence - BBC News https://t.co/NkW52QnaBA\"]\n",
      "['Kyle khaos', datetime.datetime(2020, 7, 11, 6, 28, 13), '@covfefeshadila @davidcicilline Out of all the possible out comes, why is it you never say trump raping her is one?… https://t.co/21DIv4jXFD']\n",
      "['Jason Frazier', datetime.datetime(2020, 7, 11, 6, 28, 12), \"@glennkirschner2 He can't pardon anyone if they aren't charged until January 20th. Pardon b4 the charges would be a… https://t.co/xFg8sBWDt8\"]\n",
      "['Lady Bouachir', datetime.datetime(2020, 7, 11, 6, 28, 12), '@ericswalwell @LindseyGrahamSC What does Trump have on Graham!!! Ffs']\n",
      "['OneOfMany', datetime.datetime(2020, 7, 11, 6, 28, 12), '@statuesque1 @dvillella @realDonaldTrump @GoyaFoods Actually the US sent a lot of aid to PR but the PR government w… https://t.co/QeBTZabIBt']\n",
      "['Fluffy Phoenix #MilitantCentrist', datetime.datetime(2020, 7, 11, 6, 28, 12), '@adamfrankenberg It\\'s more the kompromat that Stone has on Trump.\\n\\nSame way that Lindsey is \"loyal\" to Trump.']\n",
      "['ang ✩', datetime.datetime(2020, 7, 11, 6, 28, 12), 'It’s still fuck Donald trump Poosieboi https://t.co/i0rQEvV2zY']\n",
      "['AdamGoesHam', datetime.datetime(2020, 7, 11, 6, 28, 12), 'If you aren’t familiar with the pro-trump QAnon conspiracy theorists (where most of these child sex trafficking &amp; p… https://t.co/S55OfSMZnX']\n",
      "['Kori Akuiyibo', datetime.datetime(2020, 7, 11, 6, 28, 12), '@AshaRangappa_ @SpeakerPelosi That will only make a joke of the impeachment process.. Trump must go to jail for his… https://t.co/MtvYdL8Tbk']\n",
      "['Your_new_god', datetime.datetime(2020, 7, 11, 6, 28, 11), '@ProjectLincoln America deserves trump . Garbage in garbage out. Selfish and ignorant people will select selfish and ignorant leaders.']\n",
      "['snips', datetime.datetime(2020, 7, 11, 6, 28, 11), 'https://t.co/mf59X0TPNv phew trump']\n",
      "['ludger mercier', datetime.datetime(2020, 7, 11, 6, 28, 11), '@GoyaFoods @mng2mala Thank you Goya. Trump. Trump. Trump.']\n",
      "['LegendofZ', datetime.datetime(2020, 7, 11, 6, 28, 11), \"@Wulfkat something something Trump?\\n\\nAmericans don't listen to authority. It is kind of our thing. Sometimes it wor… https://t.co/wfFnHmhhNs\"]\n",
      "['ANGIE', datetime.datetime(2020, 7, 11, 6, 28, 11), '@umthandazeli sounds like trump lol']\n",
      "['John Merzetti 🇨🇦🇲🇽🇮🇹', datetime.datetime(2020, 7, 11, 6, 28, 11), \"#tRUMP Commutes Sentence of #RogerStone\\n\\nHow's that #DrainTheSwamp thingy going, Sparky?\\n\\n https://t.co/Ma4dnnBryW\"]\n",
      "['Samuel Paul', datetime.datetime(2020, 7, 11, 6, 28, 10), '@realDonaldTrump @TheRickWilson @ProjectLincoln @CNNPolitics @MSNBC @Comrade Trump is a Traitor. Comrade Trump is a… https://t.co/lfx5Aq3yYf']\n",
      "['Maria Lalama', datetime.datetime(2020, 7, 11, 6, 28, 10), '@stevenbward oh you mean like Trump!? if so then absolutely! I too question how on Gods good earth he as president… https://t.co/7NBLXp3tnK']\n",
      "['Gil McAuliff', datetime.datetime(2020, 7, 11, 6, 28, 9), \"@missidawest @RealMattCouch If they don't fix it, then that's on them. All Trump can do is repeal Obama's EO on DAC… https://t.co/La6wb0g1Qi\"]\n",
      "['Matthew Wilson 刘星 🇺🇸', datetime.datetime(2020, 7, 11, 6, 28, 9), 'President Trump’s move to formalize a path to citizenship for DACA recipients is a dangerous political gamble — he… https://t.co/SyYqfOPbmD']\n",
      "['April Bites🏊🌊🌊🌊#bluewave2020', datetime.datetime(2020, 7, 11, 6, 28, 9), '@MaryTee10 @GovWhitmer So all doctors hate trump ?😂']\n",
      "['𝔟𝔞𝔡 𝔟𝔦𝔱𝔠𝔥 𝔟𝔞𝔦𝔩𝔢𝔶', datetime.datetime(2020, 7, 11, 6, 28, 9), '@bathbodyworks supports trump 😔 i always knew they were trash']\n",
      "['Hank Perez', datetime.datetime(2020, 7, 11, 6, 28, 9), '@gtconway3d @ProjectLincoln Adolf Mussolini hitler trump \\n\\nBeyond ignorance \\nWay beyond stupid \\n\\nWhat? Good old Abe… https://t.co/1jCnTyETUH']\n",
      "['John Churchill', datetime.datetime(2020, 7, 11, 6, 28, 8), '@RAICESACTION White supremacist agenda? Name one trump policy against America citizens that supports this supposed agenda.']\n",
      "['HuffPost Life', datetime.datetime(2020, 7, 11, 6, 28, 8), 'The American Academy of Pediatrics supports reopening schools. But its latest statement is a sharp rebuke of Presid… https://t.co/yzmZUKRh77']\n",
      "['HuffPost Politics', datetime.datetime(2020, 7, 11, 6, 28, 8), 'The president repeated his baseless wishful thinking about COVID-19, saying states like Florida and Texas are \"goin… https://t.co/cmf4xjwz5m']\n",
      "['matt', datetime.datetime(2020, 7, 11, 6, 28, 7), 'Yet Trump was called every name in the book by the dems and a lot of citizens because he shut down travel from Chin… https://t.co/Y32XVIlmvE']\n",
      "['❄️', datetime.datetime(2020, 7, 11, 6, 28, 7), 'Meek and trump need to deactivate 😂😂😂😂💀💀']\n",
      "['Andrew Stratton', datetime.datetime(2020, 7, 11, 6, 28, 7), '@JJ_McCullough Being anti-Trump is not the same as anti-Americanism.']\n",
      "['Big T ™️', datetime.datetime(2020, 7, 11, 6, 28, 7), 'I mean we all know Trump is  dickhead but when did you pardon people who are convicted in your own administration w… https://t.co/43jQcScBYu']\n",
      "['Juan de Dios Serrano', datetime.datetime(2020, 7, 11, 6, 28, 5), '@CHI_SOX35 @CdsadieCindy @Nation2Trick @joe_marraccini @HKrassenstein @realDonaldTrump You mean the hearings where… https://t.co/aI2T0MfmGz']\n",
      "['Enough', datetime.datetime(2020, 7, 11, 6, 28, 5), '@Scaramucci That’s a good one,Trump claims all the metrics are in his head it’s to bad his head is empty and hollow… https://t.co/wJtMxSfaFw']\n",
      "['Spring Forward💙 🥁', datetime.datetime(2020, 7, 11, 6, 28, 4), '@danie5794 @Jwheels_74 @og_dbl_lo_g @RuleChicago @TalkToMeForReal @RedHairnBlkLthr @KikiAdine @rsmale @lizzy_bee2… https://t.co/5MTYkh6Dhy']\n",
      "['(T.L.G.) The Lava Ghost', datetime.datetime(2020, 7, 11, 6, 28, 4), 'Trump attends $10M fundraiser hosted by beef jerky CEO during trip to coronavirus-ravaged Florida -… https://t.co/mbLIWZ6vMK']\n",
      "['Baron Paul', datetime.datetime(2020, 7, 11, 6, 28, 4), '@fredbarboo @MarcherLord1 @spectatorindex They will blame Trump... and you know it']\n",
      "['Walrus Fren', datetime.datetime(2020, 7, 11, 6, 28, 4), \"@SkepticallyNumb @MarkFaceBk @GOP Yeah, if we're slick about it we can even get the left to support strong locals a… https://t.co/c9XLysxfOX\"]\n",
      "['TalesFromTomorrow', datetime.datetime(2020, 7, 11, 6, 28, 3), '@existentialfish Honestly this is weirdly endearing. It sounds like a toddler trying to impress his parents. Way to… https://t.co/jb4WcguGNW']\n",
      "['MAR', datetime.datetime(2020, 7, 11, 6, 28, 3), 'Trump’s defund the police campaign ad is stupid af. They act like we won’t take matters into our own hands']\n",
      "['rdetagle', datetime.datetime(2020, 7, 11, 6, 28, 3), '@mojo_girl @trevhowie @volcanicvents @SusanTrifiletti @Twiterislame2 @soloyochapin @itsJeffTiedrich… https://t.co/DGKI1PBMMP']\n",
      "['juche mane', datetime.datetime(2020, 7, 11, 6, 28, 2), 'trump talking about \"liking soldiers who didnt get captured\" was one of the best things he ever did']\n",
      "['Outlaw Suggs', datetime.datetime(2020, 7, 11, 6, 28, 2), '@colbertlateshow Ya know even an 11 year old heartbroken little girl would have moved from getting dumped faster th… https://t.co/eolTpBLmmq']\n",
      "['CNN', datetime.datetime(2020, 7, 11, 6, 28, 2), \"A tell-all book by President Trump's niece Mary, a licensed clinical psychologist, will now be published next week,… https://t.co/YBWtDHGZcZ\"]\n",
      "['NBCWashington', datetime.datetime(2020, 7, 11, 6, 28, 2), 'The president’s trip to Florida puts more focus on a state grappling with a rapidly rising tide of COVID-19 hospita… https://t.co/rpVCgLG1FA']\n",
      "['❌❌Gramma2-6', datetime.datetime(2020, 7, 11, 6, 28, 2), 'Oh John, remember when you smarted off to the Highway Patrol, trying to throw your position around like you are the… https://t.co/2NKC7xNAmX']\n",
      "['ana 🐉', datetime.datetime(2020, 7, 11, 6, 28, 2), 'or how anyone could support trump. like i just dont understand how you could do that']\n",
      "['🌿Eleni D. Kring', datetime.datetime(2020, 7, 11, 6, 28, 2), \"@adria_stone1 @realDonaldTrump @DonaldJTrumpJr Criminality is a compulsion for Stone and Trump. It's a matter of time for each of them.\"]\n",
      "['Haaretz.com', datetime.datetime(2020, 7, 11, 6, 28, 1), 'Roger Stone ‘suffered greatly’: Trump commutes longtime adviser’s prison sentence https://t.co/Ao5I4QzWyq']\n",
      "['Your other Grandma is For Joe.BLM.Mask up', datetime.datetime(2020, 7, 11, 6, 28, 1), 'President Trump vows executive order on immigration in coming weeks https://t.co/I6CT9hjMfF via @msnbc']\n"
     ]
    },
    {
     "name": "stdout",
     "output_type": "stream",
     "text": [
      "['I Meant What I Said', datetime.datetime(2020, 7, 11, 6, 27, 59), '@bathbodyworks supports Trump and further demonstrates it if anything happens to that employee']\n",
      "['TonyD', datetime.datetime(2020, 7, 11, 6, 27, 58), '@ZHaberman @maggieNYT @NBCNews Trump be worried Stone going Tessio on his ass. Except Tessio got the Italian neckti… https://t.co/JIxuMx504n']\n",
      "['Chris Daily ◀️USAF▶️', datetime.datetime(2020, 7, 11, 6, 27, 58), \"I don't care if Joe Biden picks Ye as his VP as long as Trump is removed. We can sort everything else out once America is safe again.\"]\n",
      "['Trump Army', datetime.datetime(2020, 7, 11, 6, 27, 58), '@realDonaldTrump This man...he gives a shit.  Trump 2020!!']\n",
      "['Dwayne Williams', datetime.datetime(2020, 7, 11, 6, 27, 58), '“Donald Trump Is Wounded” by Ty Wycoff https://t.co/Yr2CzbntC9']\n",
      "['Debbie Hammond', datetime.datetime(2020, 7, 11, 6, 27, 58), '@SpryGuy Just like trump, she doesn’t read...']\n",
      "['Sarah Brown', datetime.datetime(2020, 7, 11, 6, 27, 57), \"@mmartin0464 @FUFIGHTER76 @JonniLynch @JRubinBlogger 😂😂😂 I'll say it again for you: Trump has done more in less tha… https://t.co/DjIvNyBBle\"]\n",
      "['martijn12', datetime.datetime(2020, 7, 11, 6, 27, 57), '@MollyMcKew Interesting read! Putin has been very successful. We will never know the kompromat Putin has on Trump,… https://t.co/9pg2G1IDwQ']\n",
      "['Raj das', datetime.datetime(2020, 7, 11, 6, 27, 57), '@LacyJohnsonMN Mr Donald Trump must declare life time president of America\\nInterest of America interest of world in… https://t.co/FdAIHnm3of']\n",
      "['Nani 👩🏻\\u200d⚕️', datetime.datetime(2020, 7, 11, 6, 27, 57), 'Seriously...Who did not see that coming?...Stone knows too much...Knows where the bodies are buried...Trump had no… https://t.co/EyE29pZYLz']\n",
      "['Mando Ramirez', datetime.datetime(2020, 7, 11, 6, 27, 57), \"@Fly_Sistah @gtconway3d But ain't shit going to happen except dems clutching their pearls and quietly whispering th… https://t.co/b6fLjNcMDB\"]\n",
      "['Robert Petrichs', datetime.datetime(2020, 7, 11, 6, 27, 56), \"@OutFrontCNN @CNN There you see again how the American citizen is fooled by Trump. And its voters don't even notice… https://t.co/MyGJQpKCB4\"]\n",
      "['Andy Dent', datetime.datetime(2020, 7, 11, 6, 27, 56), '@theJeremyVine @RishiSunak Another Morgan and trump situation brewing here.']\n",
      "['Frank van de Heuvel', datetime.datetime(2020, 7, 11, 6, 27, 56), \"@IanMasters15 @LilBobChu1 @waltshaub @realDonaldTrump I was quoting Trump, dude.\\n\\nIf people don't respect him he sh… https://t.co/jPhGKCy4cp\"]\n",
      "['REPvotingtrumpOUT2020', datetime.datetime(2020, 7, 11, 6, 27, 55), '@realDonaldTrump \\n\\nYOU BETTER NOT GET US KILLED\\n\\nhttps://t.co/4zFNbTaz7d']\n",
      "['Missy46', datetime.datetime(2020, 7, 11, 6, 27, 55), '@CNNPolitics She had no problem when Bill Clinton pardoned Marc Rich who was hanging out in Switzerland -  after hi… https://t.co/QBw7QxY33z']\n",
      "['ynot', datetime.datetime(2020, 7, 11, 6, 27, 54), \"@JoeBiden This wasn't about trumps taxes the irs see them every year this was a way for trumps team to be able to l… https://t.co/Bk5lomhujq\"]\n",
      "['J. C. Young', datetime.datetime(2020, 7, 11, 6, 27, 54), \"@JLfromFL @jacobljaffe @ChadRJones12 @Tymaret1 @MNFerrara22 @RussJanes @Yamiche So, then there's delivery. Corona w… https://t.co/Pynufsrxz1\"]\n",
      "['teresa', datetime.datetime(2020, 7, 11, 6, 27, 54), '@JoeBiden NEVER EVER EVER WOULD ME OR MY FAMILY OR ANY OF MY FRIENDS ( EVER) VOTE FOR YOU!!!!\\nTRUMP LANDSLIDE']\n",
      "['TayloredByA', datetime.datetime(2020, 7, 11, 6, 27, 54), '@kpolantz Look we should all see what’s going on. Trump is Putin 16 years ago. Its almost a play by play.']\n",
      "['Mary Lou Dorazio 🌊🌊🌊🌈😍 🇺🇸😺💙💙💙', datetime.datetime(2020, 7, 11, 6, 27, 54), 'Trump Aide Quits Just Hours After Media Report on Collecting Intel for Lobbyist Pals https://t.co/2h0bJVstqv via @thedailybeast']\n",
      "['mike smith', datetime.datetime(2020, 7, 11, 6, 27, 53), '@FoxNews Trump Goes Loco']\n",
      "['Jeremy S', datetime.datetime(2020, 7, 11, 6, 27, 53), 'What’s the over under @TuckerCarlson loses his job if Trump isn’t re-elected?']\n",
      "['azul💗 || TPWK', datetime.datetime(2020, 7, 11, 6, 27, 52), '@infiltraded people just don’t like to cancel the people they’re going for ... but when it’s trump all of a sudden… https://t.co/4tZEErPO1P']\n",
      "['_Anon', datetime.datetime(2020, 7, 11, 6, 27, 51), 'Trump gets away, with breaking the law.\\n\\nImpeachment is similar to levying charges. Impeachment will be remembered,… https://t.co/OGv22pyOI6']\n",
      "[\"BEA💙Tweets🗳🌊VoteBlue2020🗳🌊🍄RUmp's a POS💩\", datetime.datetime(2020, 7, 11, 6, 27, 51), 'Another oldie but goody worth sharing again!! 🤭👍⤵️\\n\\nDonald Trump\\'s Ghostwriter Thinks He\\'s The \"Most Purely Evil Hu… https://t.co/kNmsxa3dlX']\n",
      "['Brutal Publicist', datetime.datetime(2020, 7, 11, 6, 27, 51), 'This is rich -- the guy who made his name as a dirty truckster for Nixon AND Trump claims he REALLY WANTS continue… https://t.co/gKAaZ9R9ON']\n",
      "['Suspect1776', datetime.datetime(2020, 7, 11, 6, 27, 50), \"@RedEaglePatriot 2/3 of military supported Trump but I think they want a return to Obama's foreign policy\"]\n",
      "['Mc Harding', datetime.datetime(2020, 7, 11, 6, 27, 49), 'trump just made it very easy for the people in the middle to see that he is indeed a criminal. After all, he just c… https://t.co/oRcDGSvYkv']\n",
      "['paperbacknovel.com', datetime.datetime(2020, 7, 11, 6, 27, 49), '@AmberDirks @rsan916 @TIME Trump’s justice dept is TAKING THEM DOWN']\n",
      "['Devin Knight', datetime.datetime(2020, 7, 11, 6, 27, 49), '@jeannius @mmpadellan AND this nightmare will last until at least the end of the year. Even if (when) Biden wins, T… https://t.co/Aw9cG3lCMA']\n",
      "['Mr John', datetime.datetime(2020, 7, 11, 6, 27, 48), \"@ajsteelshow @DeAnna4Congress Hey I get, but don't forget Trump has beat them all. Everything the socialists have t… https://t.co/yu0a1eLZuS\"]\n",
      "['Hailey 🌷', datetime.datetime(2020, 7, 11, 6, 27, 48), '@TempResident2 @itsJeffTiedrich @realDonaldTrump @kilmeade @foxandfriends Donald Trump is a pedohile and was close… https://t.co/94BOYGGGbM']\n",
      "['fuck d*nald tr*mp', datetime.datetime(2020, 7, 11, 6, 27, 48), '@cathymcmorris This is embarrassing. Try to use big words (throw in a “quantum” and u think u sound smart) but say… https://t.co/9cdxlFghic']\n",
      "['ell', datetime.datetime(2020, 7, 11, 6, 27, 48), \"@glennkirschner2 I hope there are video ads by Harrison that hit Graham in his gut!!! About Graham's defense of trump's insult to justice\"]\n",
      "['Bonita Campbell', datetime.datetime(2020, 7, 11, 6, 27, 47), '@Canadabuster Trump and Trudeau are just two sides of the same coin...opposite in some ways but very similar in other ways']\n",
      "['ZENITH NEWS®', datetime.datetime(2020, 7, 11, 6, 27, 47), \"NEWSMAX reported: Seattle Mayor Denies Trump Warned of Clearing CHOP If City Didn't  https://t.co/FqmrsVGwUA\"]\n",
      "['milton johnson', datetime.datetime(2020, 7, 11, 6, 27, 47), '@electrikmonk @getgoing100 @dragnetizen @djrothkopf @AshaRangappa_ @SpeakerPelosi PLAIN AND SIMPLE !  THE CORRUPT G… https://t.co/gWmC1IKMWK']\n",
      "['Tony', datetime.datetime(2020, 7, 11, 6, 27, 47), \"@RealDealAxelrod I'm Hispanic and support trump. I wont have ppl telling me who to vote for because of my race. Lib… https://t.co/DYCJSWPage\"]\n",
      "['Vic Ivory Jr', datetime.datetime(2020, 7, 11, 6, 27, 46), '@GilbertDurinho Can I PLEASE see you beat the 💩out of Donald Trump so called best friend @ColbyCovMMA ? Usman didn’t beat him bad enough']\n",
      "['Stacey K', datetime.datetime(2020, 7, 11, 6, 27, 46), '@blackOrpheus7 Yes, tRUMP IS a disgrace to the office of President. \\nI cannot wait to see President Biden take office. 🇺🇲🇺🇲']\n",
      "['Discerning Domains', datetime.datetime(2020, 7, 11, 6, 27, 45), 'https://t.co/RplFTi5D6b\\n\\nPremium domain name for sale only £149\\n\\neasypayments .com SOLD for $65,000… https://t.co/DV9rPEsxt9']\n",
      "['Odianyadri', datetime.datetime(2020, 7, 11, 6, 27, 45), '@realDonaldTrump @TuckerCarlson @FoxNews Dotart Trump has not only been the \"perfect empty vessel\" to transform thi… https://t.co/8alLceDABR']\n",
      "['D Sharp', datetime.datetime(2020, 7, 11, 6, 27, 45), 'Trump a fool. Dude could still flip on him lol']\n",
      "['Jerry gann', datetime.datetime(2020, 7, 11, 6, 27, 44), '@BillKristol That’s a lie traitor Vindman didn’t tell the truth.He just didn’t like Trumps policy. Trump did absolu… https://t.co/HJybwlE7xn']\n",
      "['Action Jackson', datetime.datetime(2020, 7, 11, 6, 27, 44), 'other countries used a chastity belt.\\n\\ntrump opted to protect us with crotchless panties.\\n\\ncovid is grabbing us by the pussy.']\n",
      "['Phoenix', datetime.datetime(2020, 7, 11, 6, 27, 44), \"Roger Stone: President Trump 'saved my life' https://t.co/4zulqu7bEZ \\nOf course, he did! Birds of a feather flock t… https://t.co/tAgChctu5Y\"]\n",
      "['Sally Harris', datetime.datetime(2020, 7, 11, 6, 27, 43), '@MeidasTouch Wish I could, but I am Australian. Unlike Trump, neither of us are up for foreign election interference.']\n",
      "['Bird2fish', datetime.datetime(2020, 7, 11, 6, 27, 43), 'Who listens to Trump? Obviously he’s shown us how stupid he is. We aren’t listening to him at all. We are listening… https://t.co/x4cloY2iIw']\n"
     ]
    },
    {
     "name": "stdout",
     "output_type": "stream",
     "text": [
      "['N. Close', datetime.datetime(2020, 7, 11, 6, 27, 42), 'Trump Brags Doctors Were “Very Surprised” At His Secret Cognitive Test |... https://t.co/Z5CUZOzvOz via @YouTube Co… https://t.co/cvzcwT0x43']\n",
      "['Alexis Perrier', datetime.datetime(2020, 7, 11, 6, 27, 42), '@ProjectLincoln \\n\\nWhere were you 4 or 3, or 2 yrs ago? \\nWhen Trump was already vomiting on the US and what it stood… https://t.co/73FqjwLErM']\n",
      "['JC Goodman', datetime.datetime(2020, 7, 11, 6, 27, 42), 'Trump commuted the sentence of another criminal friend; and evaded impeachment! Until reform comes to the office of… https://t.co/E7EK5hFnMS']\n",
      "['Matties Diary', datetime.datetime(2020, 7, 11, 6, 27, 42), 'I want a full commute by Trump. https://t.co/3uH6hmlcN0']\n",
      "['eto demerze', datetime.datetime(2020, 7, 11, 6, 27, 41), '@RespectableLaw Best part is they did not sell bows in trump tower at the time.']\n",
      "['YourTimeIsUpDrumpf', datetime.datetime(2020, 7, 11, 6, 27, 41), 'TRUMP VIRUS\\n \\nLOOKS LIKE, DRASTIC TIMES CALL FOR DRASTIC MEASURES! \\n\\nIT APPEARS: TRUMP &amp; GOP LED SENATE: ARE ENABIL… https://t.co/HMp8emv3it']\n",
      "['majordesaster', datetime.datetime(2020, 7, 11, 6, 27, 41), '@JesterLocke @JimmyJo15013318 @kaboom12344 @viking_xrp @ShakoDoggo (3) What im trying to say whatever Trump plans w… https://t.co/Cgo6aCRgWd']\n",
      "['Henry Hornstein', datetime.datetime(2020, 7, 11, 6, 27, 41), '@realDonaldTrump Distraction and BS! That’s all Trump knows!']\n",
      "['only gaggin, no naggin', datetime.datetime(2020, 7, 11, 6, 27, 41), 'The way trump’s ascension has allowed politicians to not do research before they make claims anymore... https://t.co/UtnTJ7HZlo']\n",
      "['Page Morgan', datetime.datetime(2020, 7, 11, 6, 27, 41), 'Sorry pieces of shit!!!  https://t.co/vMxAj5X6xt']\n",
      "['Vic Livingston', datetime.datetime(2020, 7, 11, 6, 27, 41), '@AriMelber @morgfair ROSETTA STONE-Trump is a Putin-entrained #mindpuppet, a traitor. In the U.S., the mind-control… https://t.co/boD4zaXcLU']\n",
      "['Piers Clarkson', datetime.datetime(2020, 7, 11, 6, 27, 40), '@MarshaBlackburn Trump rejects the law.']\n",
      "['♔Angelica Viera', datetime.datetime(2020, 7, 11, 6, 27, 40), '@VenturaReport Yet trump is the problem? 🤔 #LawAndOrder']\n",
      "['Bean Counter', datetime.datetime(2020, 7, 11, 6, 27, 40), '@Gigiscik @Photosbyyvonnie @EdBaker3000 @mikewCromwell @janvinjoey @avaaaah224 @osabssalad @Nick_Trump7… https://t.co/9vIBO739eM']\n",
      "['Spyder D', datetime.datetime(2020, 7, 11, 6, 27, 38), 'Toobin: This is the most corrupt and cronyistic act\\nhttps://t.co/yxHB5WHWUP']\n",
      "['word_in_edgewise', datetime.datetime(2020, 7, 11, 6, 27, 38), \"~ DEAD cats. and mine will be voting for Trump, because he's a Stable Feline Genius. 🐾👍 https://t.co/J9BgJm7fHv\"]\n",
      "['Kami', datetime.datetime(2020, 7, 11, 6, 27, 37), '@tennis2018 @jeremymriddle It is because of people like you that Trump was elected president.']\n",
      "['.308NAT0', datetime.datetime(2020, 7, 11, 6, 27, 37), '@derrytweets @MeidasTouch @DonaldJTrumpJr What are you talking about? You talk about Trump being a creep but when I… https://t.co/ubPs7Oh0FB']\n",
      "['LaRaie', datetime.datetime(2020, 7, 11, 6, 27, 37), 'Donald Trump taking a cognitive test. “Unbelievable!” https://t.co/inbErIhxy7']\n",
      "['Thorns4Glory', datetime.datetime(2020, 7, 11, 6, 27, 37), '@lynnd87 @ETucc8 @FeelinFroggy6 @trump_predator @AngelWarrior321 @Jamierodr14 @FLOTUS @POTUS @realDonaldTrump You d… https://t.co/VtYcMnSZlY']\n",
      "['Brian Jones 🌎', datetime.datetime(2020, 7, 11, 6, 27, 36), '@tedcruz All the shit trump has done in the past month - tens of thousands dead from mismanaging thepandemic, failu… https://t.co/GCyJeqnq7y']\n",
      "['The Trump Countdown', datetime.datetime(2020, 7, 11, 6, 27, 36), \"Only 4641 hours (or less?) until the end of President Trump's first term! #LGBT #MuellerReport #TrumpCountdown #Vote\"]\n",
      "['The Mad Guesser', datetime.datetime(2020, 7, 11, 6, 27, 36), '@sdmattpotter Great news because now everyone infected will eventually develop vascular, neurological, &amp; blood dise… https://t.co/8edoNzOtch']\n",
      "['News_1jl4 Noticias Bitcoin Forex Health Fitness', datetime.datetime(2020, 7, 11, 6, 27, 35), 'Trump declares Democrats ‘party of socialism and worse’ .. \\nFoxNews - News - Noticia - Bitcoin - CryptoCurrency - F… https://t.co/GzS2unDZIZ']\n",
      "['Screenname', datetime.datetime(2020, 7, 11, 6, 27, 35), '@StephenKing Trump commuting Stone’s sentence is a bad deed indeed. However, I guarantee you that’s not even the to… https://t.co/rSWj1nyN9A']\n",
      "['Timothy Schmidt', datetime.datetime(2020, 7, 11, 6, 27, 35), '@jcruz78523974 @senatemajldr Makes his endorsement the day after Trump says he’ll wear a mask. Some leadership, Comrade.']\n",
      "['MaryGoody', datetime.datetime(2020, 7, 11, 6, 27, 34), '@tedcruz Ted Cruz and James Woods two ugly old white men who love Trump because they think they matter!🤮']\n",
      "['JimmyT', datetime.datetime(2020, 7, 11, 6, 27, 34), 'American justice tried Roger Stone in a court of law and found him guilty. \\nWhy isn’t justice served on this felon… https://t.co/X8ozsfOdDP']\n"
     ]
    }
   ],
   "source": [
    "trump = get_related_tweets('Trump')"
   ]
  },
  {
   "cell_type": "markdown",
   "metadata": {},
   "source": [
    "# Sentiment Analysis"
   ]
  },
  {
   "cell_type": "code",
   "execution_count": 16,
   "metadata": {
    "ExecuteTime": {
     "end_time": "2020-07-05T00:29:14.830233Z",
     "start_time": "2020-07-05T00:29:13.263573Z"
    }
   },
   "outputs": [],
   "source": [
    "from textblob import TextBlob"
   ]
  },
  {
   "cell_type": "markdown",
   "metadata": {},
   "source": [
    " The polarity score is a float with values ranging from -1 to +1 (100% negative sentiment to 100% positive sentiment)"
   ]
  },
  {
   "cell_type": "code",
   "execution_count": 18,
   "metadata": {
    "ExecuteTime": {
     "end_time": "2020-07-05T00:32:53.551366Z",
     "start_time": "2020-07-05T00:32:53.547131Z"
    }
   },
   "outputs": [
    {
     "name": "stdout",
     "output_type": "stream",
     "text": [
      "Sentiment Polarity Score:-0.2\n"
     ]
    }
   ],
   "source": [
    "# using the polarity score to measure positive or negative sentiment\n",
    "sentiment_score = TextBlob('Dawg am I trippen ? Let me kno i thought all that donald trump shit Was a Joke').sentiment.polarity\n",
    "print(f\"Sentiment Polarity Score:{sentiment_score}\")"
   ]
  },
  {
   "cell_type": "code",
   "execution_count": 22,
   "metadata": {
    "ExecuteTime": {
     "end_time": "2020-07-05T00:36:45.455775Z",
     "start_time": "2020-07-05T00:36:45.452095Z"
    }
   },
   "outputs": [],
   "source": [
    "# made above into a function \n",
    "def sentiment_polarity_score(tweet):\n",
    "    sentiment_score = TextBlob(tweet).sentiment.polarity\n",
    "    print(f\"Sentiment Polarity Score:{sentiment_score}\")"
   ]
  },
  {
   "cell_type": "code",
   "execution_count": 23,
   "metadata": {
    "ExecuteTime": {
     "end_time": "2020-07-05T00:36:46.041637Z",
     "start_time": "2020-07-05T00:36:46.038796Z"
    }
   },
   "outputs": [
    {
     "name": "stdout",
     "output_type": "stream",
     "text": [
      "Sentiment Polarity Score:-0.37249999999999994\n"
     ]
    }
   ],
   "source": [
    "sentiment_polarity_score('i mean this from the bottom of my heart: donald trump is a big stupid dumb dumb and so are the people who support him')"
   ]
  },
  {
   "cell_type": "code",
   "execution_count": 24,
   "metadata": {
    "ExecuteTime": {
     "end_time": "2020-07-05T00:40:41.020075Z",
     "start_time": "2020-07-05T00:40:41.016447Z"
    }
   },
   "outputs": [
    {
     "name": "stdout",
     "output_type": "stream",
     "text": [
      "Sentiment Polarity Score:-0.4\n"
     ]
    }
   ],
   "source": [
    "sentiment_polarity_score('Fuck Donald Trump')"
   ]
  },
  {
   "cell_type": "code",
   "execution_count": 25,
   "metadata": {
    "ExecuteTime": {
     "end_time": "2020-07-05T00:41:18.047625Z",
     "start_time": "2020-07-05T00:41:18.044008Z"
    },
    "scrolled": true
   },
   "outputs": [
    {
     "name": "stdout",
     "output_type": "stream",
     "text": [
      "Sentiment Polarity Score:0.9765625\n"
     ]
    }
   ],
   "source": [
    "sentiment_polarity_score('Donald Trump is even better than Barack!!!')"
   ]
  },
  {
   "cell_type": "code",
   "execution_count": 113,
   "metadata": {
    "ExecuteTime": {
     "end_time": "2020-07-11T06:28:33.023281Z",
     "start_time": "2020-07-11T06:28:32.979170Z"
    }
   },
   "outputs": [
    {
     "name": "stdout",
     "output_type": "stream",
     "text": [
      "                  name                time  \\\n",
      "0          FactsMatter 2020-07-11 06:28:19   \n",
      "1           Roy Parret 2020-07-11 06:28:18   \n",
      "2                NINJA 2020-07-11 06:28:18   \n",
      "3     ashutosh singhal 2020-07-11 06:28:18   \n",
      "4  The AssarV10 Team™© 2020-07-11 06:28:18   \n",
      "\n",
      "                                               tweet  sentiment  \n",
      "0  @washingtonpost Becoming? There is no deep sta...    0.01750  \n",
      "1  What a major load of crap the media and Dems a...   -0.36875  \n",
      "2  If you @GOP, senate, &amp; the house don’t fil...   -0.45000  \n",
      "3  @HuXijin_GT You know what will trump respond a...    0.00000  \n",
      "4  President Trump's Joint Press Statement with t...    0.00000  \n"
     ]
    }
   ],
   "source": [
    "trump['sentiment'] = trump.tweet.apply(lambda tweet: TextBlob(tweet).sentiment.polarity)\n",
    "print(trump.head())"
   ]
  },
  {
   "cell_type": "code",
   "execution_count": 114,
   "metadata": {
    "ExecuteTime": {
     "end_time": "2020-07-11T06:28:34.397247Z",
     "start_time": "2020-07-11T06:28:34.391162Z"
    }
   },
   "outputs": [
    {
     "name": "stdout",
     "output_type": "stream",
     "text": [
      "Number of Positive tweets : 31\n",
      "Number of Negative tweets : 35\n"
     ]
    }
   ],
   "source": [
    "# count od positve and negative sentiments\n",
    "trump_pos = trump[trump['sentiment'] > 0.0]\n",
    "trump_neg = trump[trump['sentiment'] < 0.0]\n",
    "print(f'Number of Positive tweets : {len(trump_pos)}')\n",
    "print(f'Number of Negative tweets : {len(trump_neg)}')"
   ]
  },
  {
   "cell_type": "markdown",
   "metadata": {},
   "source": [
    "# Pulling/Analysis on a Manhwa I love 'Solo Leveling'"
   ]
  },
  {
   "cell_type": "code",
   "execution_count": 40,
   "metadata": {
    "ExecuteTime": {
     "end_time": "2020-07-05T01:21:18.232676Z",
     "start_time": "2020-07-05T01:21:06.751903Z"
    }
   },
   "outputs": [
    {
     "name": "stdout",
     "output_type": "stream",
     "text": [
      "['Eustass the KID #824', datetime.datetime(2020, 7, 5, 1, 4, 13), 'This solo leveling reread made me like the series more lmaoo']\n",
      "['elisa ♡ GO生', datetime.datetime(2020, 7, 5, 0, 44, 14), '@II_NAME_II i read it off this site! https://t.co/cdfbQggmKv']\n",
      "['said {olhem meu fixado}', datetime.datetime(2020, 7, 5, 0, 30, 15), 'Lista de webtoons do said:\\n\\nJá li/estou em dia\\nSolo leveling\\nTower of gods\\nTales of demons and god\\n\\nVou ler\\nThe God… https://t.co/6DTXAqXDeW']\n",
      "['David Manjon', datetime.datetime(2020, 7, 5, 0, 19, 26), '@allmighto12 Solo leveling']\n",
      "['𝐜𝐡𝐚𝐫𝐥𝐢𝐞', datetime.datetime(2020, 7, 5, 0, 7, 16), 'trying solo leveling']\n",
      "['Marc🔲🔳|BLM|cr: Solo Leveling', datetime.datetime(2020, 7, 4, 23, 56, 15), 'Solo Leveling will get an anime. https://t.co/TZtylT7fyr']\n",
      "['Defext', datetime.datetime(2020, 7, 4, 23, 40, 50), '\"TAKE ME HOOOOME!  COUNTRY ROAD!\"\\n\\nHunt: Showdown | Manga Solo Leveling | Merch Store\\n\\nhttps://t.co/Oy4paVRVr7\\n\\nDef… https://t.co/uKwlTjcnVR']\n",
      "['Sensei 🍥', datetime.datetime(2020, 7, 4, 23, 21, 24), \"@SenseiTheShifu @akuuwa_camcam anime isn't out name is Solo leveling. it's really mad\"]\n",
      "['Scott', datetime.datetime(2020, 7, 4, 23, 6, 24), '@kaizokupapi anything like Solo Leveling tbh']\n",
      "['Rerunn 🌪', datetime.datetime(2020, 7, 4, 22, 56, 14), 'my only birthday wish is a Solo Leveling anime announcement #sololeveling']\n",
      "['JustCold', datetime.datetime(2020, 7, 4, 22, 52, 34), '@kaizokupapi @PridefuISin Solo leveling']\n",
      "['أحمـد', datetime.datetime(2020, 7, 4, 22, 32, 5), '@i_Bastii solo leveling']\n",
      "['lidjany⁷ᵇˡᵐ✊🏽✊🏾✊🏿', datetime.datetime(2020, 7, 4, 22, 13, 19), 'man imagine if solo leveling  got animated https://t.co/Wd6m8CmDv9']\n",
      "['Nosè', datetime.datetime(2020, 7, 4, 22, 9, 39), 'The similarities between the gamer and solo leveling tho']\n",
      "['maria jahad 💞 || screw ebg 🖕', datetime.datetime(2020, 7, 4, 22, 3, 6), '@KcnaGeo @bruhfunky (solo leveling)']\n",
      "['☆Champagne_Mami♪☆🍸', datetime.datetime(2020, 7, 4, 21, 56, 54), '@SNatuhamya 😂😂😂😂 &amp; they had Americans doing the voices, it was basically in English &amp; that alone. The story concept… https://t.co/BpsPCLnk81']\n",
      "['vibin’', datetime.datetime(2020, 7, 4, 21, 56, 34), 'Why didn’t they just do Solo Leveling....💀 https://t.co/fiPvpMnFbp']\n",
      "['𝑀𝑖𝑟𝑖𝑎`', datetime.datetime(2020, 7, 4, 21, 49, 43), 'Solo Leveling is soooo GoOoOd i wanna cry— 🥺 https://t.co/hXNinfKYCx']\n",
      "['Rojo', datetime.datetime(2020, 7, 4, 21, 44, 51), '@Crunchyroll Sounds like Solo leveling lmao, too bad its not']\n",
      "['syd', datetime.datetime(2020, 7, 4, 21, 21, 18), 'Hi! I’m new to #anitwt and looking for mutuals \\nrt/like if you like any of the following:\\n&gt; Haikyuu!\\n&gt; HxH\\n&gt;demon s… https://t.co/iuENxEs9rg']\n",
      "['⭐rua💧 cw: one piece', datetime.datetime(2020, 7, 4, 21, 7, 30), 'Solo leveling oppa where r u https://t.co/WkSXj1tRNB']\n",
      "['Dec19th♐️', datetime.datetime(2020, 7, 4, 20, 28, 43), 'If you haven’t read solo leveling you def missing out']\n",
      "['BΛBӨ⁷', datetime.datetime(2020, 7, 4, 20, 16, 56), 'Still no new Solo Leveling https://t.co/xyYtYQBhRB']\n",
      "['Kwurky', datetime.datetime(2020, 7, 4, 19, 46, 46), 'Is there a slow leveling toggle I keep missing in @Diablo? How do y’all keep hitting cap in 30 minutes playing solo… https://t.co/4rGRjKYKWn']\n",
      "['rayz', datetime.datetime(2020, 7, 4, 19, 37, 37), '@SovereignMeech @DarkskinKagami Nah might do soon is it good? Or another solo leveling regen']\n",
      "['Boa Hancock 🇰🇳🇯🇲', datetime.datetime(2020, 7, 4, 19, 22, 39), 'The way I just play solo so I avoid this because it’s SUCH a problem but it’s SO hard to do raids multiplayer dunge… https://t.co/4dpSpH9SZw']\n",
      "['Don', datetime.datetime(2020, 7, 4, 19, 22, 11), '@JaegerPath Detective conan, sun ken rock, solo leveling, bastard (webtoon), and samurai champloo']\n",
      "['Zia | Taka✖Mino', datetime.datetime(2020, 7, 4, 19, 14, 5), 'Just finished Solo Leveling Season 1. Damn that manhwa is really good! I finished S1 in less than a day! Now I need… https://t.co/Rbv6nDHZEb']\n",
      "['Said🇧🇷', datetime.datetime(2020, 7, 4, 19, 8, 53), 'Lista de webtoons do said:\\n\\nJá li/estou em dia\\nSolo leveling\\nTower of gods\\nTales of demons and god\\n\\nVou ler\\nThe God… https://t.co/VQXOoTUxvV']\n",
      "['lσuísє', datetime.datetime(2020, 7, 4, 19, 2, 36), 'I just finished the LN of solo leveling and the ending was meh is ok👌']\n",
      "['Lvden', datetime.datetime(2020, 7, 4, 18, 55, 41), '@Wild_Base SOLO LEVELING']\n",
      "['Nívsìn 🇰🇭', datetime.datetime(2020, 7, 4, 18, 50, 39), 'En attendant la suite de Solo Leveling go commencer Ranker Who Lives a Second Time']\n",
      "['21stNight', datetime.datetime(2020, 7, 4, 18, 47, 55), 'Why does Silver Link have such a big fetish for isekai/fantasy series... If so they should just do Solo Leveling OR… https://t.co/e8p5YvkZdK']\n",
      "['JEMARU', datetime.datetime(2020, 7, 4, 18, 25, 7), 'PLS PLS PLS PLS PLS PLS I NEED SEASON 2 OF SOLO LEVELING RIGHT NOW HUHU!! LET ME LIVE!!! AAAAHHH. I MISS JINWOO HUH… https://t.co/1E1dE83qkv']\n",
      "['Nanawoo', datetime.datetime(2020, 7, 4, 17, 58, 44), '@olidelly The leveling process is rough yeah but once you start unlocking spells and doing the solo challenges in t… https://t.co/C7mImgLE9N']\n",
      "['dūdü #OSegredoNaFloresta', datetime.datetime(2020, 7, 4, 17, 55, 21), '@_OtakusBrasil Solo leveling 🥺']\n",
      "['leo🥀', datetime.datetime(2020, 7, 4, 17, 53, 24), 'solo leveling 🔥']\n",
      "['Umbalt', datetime.datetime(2020, 7, 4, 17, 48, 42), '@ugliest_king Lmao it would be like that one solo leveling chapter \\n\"Error? What does error mean? Does ahjussi not… https://t.co/FuszbS0J3M']\n",
      "['🌈 capu 🌈', datetime.datetime(2020, 7, 4, 17, 33, 39), \"fuck it I'm gonna read solo leveling all over again idc\"]\n",
      "['f.p', datetime.datetime(2020, 7, 4, 17, 32, 19), '@_OtakusBrasil Solo Leveling']\n",
      "['soundcloud rapper', datetime.datetime(2020, 7, 4, 17, 26, 44), '@Quotemeorelse @30SECVlDEOS Ah, a fellow man of culture. Solo Leveling is the fucking best']\n",
      "['Bagas Dewangkara', datetime.datetime(2020, 7, 4, 17, 23, 43), '2 days to catch up solo leveling. Not bad. Now, which one should I read next?']\n",
      "['Zeegers', datetime.datetime(2020, 7, 4, 17, 21, 58), '#saturdayvibes LETS GOOOO! Get a few more on the Z 60 Crew! Come hangout and help me get that #twitchpartner ! \\n\\nFR… https://t.co/mCWIqjb44g']\n",
      "['FUG God Trippy', datetime.datetime(2020, 7, 4, 17, 21, 3), 'Man no solo leveling or ToG got me itching like a crack feen']\n",
      "[\"😋🧚\\u200d♀️ijekiel's wife🧚\\u200d♀️😋\", datetime.datetime(2020, 7, 4, 16, 43, 16), 'I am so happy with all the webtoon adaptetions but omg people wont shut up about a solo leveling anime christt']\n",
      "['rea (•̀ᴗ•́)و | DYING!', datetime.datetime(2020, 7, 4, 16, 39, 8), 'i really tried to read at least one light novel but anime and manhwa keep distracting me hslsoahanakasa solo leveli… https://t.co/U11EHuOIsq']\n",
      "['Louise⁷', datetime.datetime(2020, 7, 4, 16, 22, 32), 'In need of solo leveling and noblesse anime adaption !!']\n",
      "['⧖ luna⁷₈ | like/rt 📌', datetime.datetime(2020, 7, 4, 16, 13, 15), 'pls tell me someone here reads solo leveling so I can tell about it']\n",
      "['Az 🦋', datetime.datetime(2020, 7, 4, 15, 51, 5), '@arthur_merchezz @flupinette bah lit tower of god, god of highschool et hardcore solo leveling du coup']\n",
      "['Tim Boerner', datetime.datetime(2020, 7, 4, 15, 12, 27), '@RogersBase Will you be doing a live readthrough of\\nOmnicient Readers Viewpoint, the next one from the Solo Levelin… https://t.co/d952fi4Zoo']\n",
      "['ÜɐzsɐÜ', datetime.datetime(2020, 7, 4, 15, 8, 9), 'Solo leveling is the single greatest masterpiece of a production ever created by south korea, by a country mile! Pe… https://t.co/tHtAD7Wkw0']\n",
      "['Shin(i)', datetime.datetime(2020, 7, 4, 14, 56, 27), '@Buustache SOLO LEVELING MON POTE !']\n",
      "['ness 🍒 zibeombeom', datetime.datetime(2020, 7, 4, 14, 40, 11), '@nabibobettaau Webtoon: Solo leveling, tower of God, God of High School, Noblesse, Unordinary.']\n",
      "['Kinard Kujo', datetime.datetime(2020, 7, 4, 14, 36, 26), '@cheflord242 Solo leveling hard son']\n",
      "['𝔄𝔫𝔡𝔯𝔢', datetime.datetime(2020, 7, 4, 14, 21, 38), 'Solo leveling']\n",
      "['🌱rei', datetime.datetime(2020, 7, 4, 14, 5, 56), 'wait i miss solo leveling']\n",
      "['Luffy Strawhat Ninja', datetime.datetime(2020, 7, 4, 13, 35, 13), 'Liked on YouTube: [Solo Leveling MV] Hunter https://t.co/l0p4vkqEUm']\n",
      "['🍵あんどぅ🍼', datetime.datetime(2020, 7, 4, 13, 17, 45), '[MMV] Solo Leveling | Nothing In The Story https://t.co/wkq1Ziy4Ka @YouTubeより']\n",
      "['reja', datetime.datetime(2020, 7, 4, 13, 10, 7), '@bagasdew Need solo leveling anime']\n",
      "['Enya.', datetime.datetime(2020, 7, 4, 13, 8, 20), '@psychozakus I think you should read solo leveling. Really recommended that webnovel.']\n",
      "['Bagas Dewangkara', datetime.datetime(2020, 7, 4, 13, 4, 27), 'Solo leveling is good, but why did the comment contains a lot of spoilers?']\n",
      "['🥈', datetime.datetime(2020, 7, 4, 12, 50, 37), 'Solo leveling is just Human re:monster without the sex']\n",
      "['𝓝𝔂𝓪 • #𝓚𝓱𝓾𝓷𝓑𝓪𝓶 crw: One Punch Man', datetime.datetime(2020, 7, 4, 12, 45, 21), \"- Overlord LN\\n- Solo Leveling LN\\n- The King's Avatar LN\\n- Scum Villain Self Saving System by MXTX\\n\\n//Itching to reR… https://t.co/A3BlBFp2xI\"]\n",
      "['🌸🖤 ♡ Trainer Pink ♡ 🖤🌸', datetime.datetime(2020, 7, 4, 12, 35, 54), 'The art in Solo Leveling is god tier']\n",
      "['𝙠𝙞𝙣𝙧𝙤𝙪', datetime.datetime(2020, 7, 4, 12, 32, 18), \"Solo Leveling\\nMurim Login\\nThe Great Mage Returns After 4000 Years\\nSword Sheath's Child\\nThe Descent of the Demonic M… https://t.co/7vbOjcenVY\"]\n",
      "['🥈', datetime.datetime(2020, 7, 4, 12, 23, 20), 'I want more solo leveling AAAAAAAAAAAAAAAAAAAAAAAAAAAAAAAAAAAAAAAAAAAAAA']\n",
      "['demi', datetime.datetime(2020, 7, 4, 12, 3, 23), '@KilluaDokkan @Alex39810826 @Crunchyroll Yh solo leveling is very popular rn but I’m talking about overall like the… https://t.co/IAcnN8bkpL']\n",
      "['Kiki', datetime.datetime(2020, 7, 4, 11, 58, 19), 'reading solo leveling again &gt; doing nth\\n\\n( at least give me season 2 even this won’t be anime adaptation 😭 ) https://t.co/C3fvS8DMOA']\n"
     ]
    },
    {
     "name": "stdout",
     "output_type": "stream",
     "text": [
      "['𝚜𝚊𝚝 | 📌 𝚑𝚒𝚗𝚊𝚝𝚊 𝚑𝚊𝚛𝚎𝚖 𝚊𝚞', datetime.datetime(2020, 7, 4, 11, 15, 36), 'One of the main reasons for me to re-read Solo Leveling 🤤🔥🔥🔥 https://t.co/lh82OmL367']\n",
      "['Nix', datetime.datetime(2020, 7, 4, 10, 59, 3), 'I might cry tears of joy when Solo Leveling is back']\n",
      "['Yth Mpok omen', datetime.datetime(2020, 7, 4, 10, 48, 18), '@kirahimaru Solo leveling, corect me']\n",
      "['kira-san', datetime.datetime(2020, 7, 4, 10, 42, 38), '@kaguchiz Solo leveling']\n",
      "['Defext', datetime.datetime(2020, 7, 4, 10, 41, 53), 'OH MY GOD!!!\\n\\nChapter #45 of the Manga \"Solo Leveling\" was Absolutely OFF THE CHARTS!\\n\\nI\\'ve rarely read anything so… https://t.co/wpNS5kR83B']\n",
      "['Sohun Lee 이소훈', datetime.datetime(2020, 7, 4, 10, 18, 38), 'Solo Leveling &amp; Hunter X Hunter Chimera Arcs https://t.co/1kGrlmL6oZ 출처 @YouTube']\n",
      "['marc', datetime.datetime(2020, 7, 4, 10, 17, 16), 'solo leveling 🔟']\n",
      "['denden', datetime.datetime(2020, 7, 4, 10, 1, 28), 'Can Solo Leveling have an anime adaptation already plss']\n",
      "['Toxicpunk', datetime.datetime(2020, 7, 4, 9, 48, 18), '@edvangeIion Talk about it after you see solo leveling']\n",
      "['Marcus ll', datetime.datetime(2020, 7, 4, 9, 41, 29), 'Solo leveling needs a anime ASAP']\n",
      "['seijuro', datetime.datetime(2020, 7, 4, 9, 35, 55), '@Fan77Random Apocalypse no toride\\nAttack on titan\\nBerserk\\nMonster \\n\\nAlso some webtoon like\\nSolo leveling\\nBastard \\nS… https://t.co/7NTm5Iwmhj']\n",
      "['iamKingSolo', datetime.datetime(2020, 7, 4, 9, 18, 20), 'Read Solo Leveling and then The Beginning After The End https://t.co/v6NNyl2iJ1']\n",
      "['cer', datetime.datetime(2020, 7, 4, 9, 15, 52), 'might reread solo leveling']\n",
      "['lena ツ // cw: hxh', datetime.datetime(2020, 7, 4, 9, 13, 55), 'has anyone read solo leveling']\n",
      "['꧁༒x҉o҉ɹ҉p҉ɐ҉n҉Ὁ҉ ༒꧂(penis man)', datetime.datetime(2020, 7, 4, 9, 8, 15), '@humz44 Solo leveling light novel']\n",
      "['rami ｡◕‿◕｡', datetime.datetime(2020, 7, 4, 8, 50, 2), 'i want solo leveling season 2 ;(((']\n",
      "['米桶', datetime.datetime(2020, 7, 4, 8, 30, 12), 'solo leveling has ruined me i cant find any good manhwas anymore']\n",
      "['Name', datetime.datetime(2020, 7, 4, 7, 55, 4), \"@HANJlSUNGS Solo leveling! Sorry to bother but would you happen to know where to read it? I've heard its really goo… https://t.co/WV81AtHTb3\"]\n",
      "['Rune💎S-class diamond vendor', datetime.datetime(2020, 7, 4, 7, 54, 13), 'Didja know the S Class author also writes Solo Leveling. That one has webtoon though while S Class does not.....']\n",
      "['米桶', datetime.datetime(2020, 7, 4, 7, 50, 34), 'fuc i only have like 30 chapters left of solo leveling until im done,,,,,,crying']\n",
      "['$mallz™🇧🇸', datetime.datetime(2020, 7, 4, 7, 14, 59), 'Here I am, reading goh and solo leveling from chapter 1 again 😓']\n",
      "['ZedOjisan', datetime.datetime(2020, 7, 4, 7, 9, 45), \"30 minute sketch. I got so caught up in reading Solo Leveling I forgot to draw today.\\n\\nOkay, i didn't forget. I ele… https://t.co/xamKPgcgrl\"]\n",
      "['n ⁷', datetime.datetime(2020, 7, 4, 6, 54, 1), '@_vmkvchild Its awesome. Also another webtoon thats worth checking is Solo Leveling. Its my fav webtoon to date.\\n\\nW… https://t.co/D9wTSNGMwP']\n",
      "['My Stimmy Hurt', datetime.datetime(2020, 7, 4, 6, 48, 18), \"Nobody:\\n\\nMe: Guess I'll reread Solo Leveling again\"]\n",
      "['Nishu', datetime.datetime(2020, 7, 4, 6, 29, 40), 'I would sell my soul just to experience reading Solo Leveling for the first time https://t.co/NjZrOJSjvg']\n",
      "['du', datetime.datetime(2020, 7, 4, 6, 26, 6), '@SIRENZ___ and it’s by MAPPA? Oh yeah webtoons taking over now, all I need is solo leveling and hclw to be animated']\n",
      "['windy🍓', datetime.datetime(2020, 7, 4, 6, 10, 21), 'i miss solo leveling so much']\n",
      "['brando (reading dead dead demons)', datetime.datetime(2020, 7, 4, 6, 6, 28), 'I updated \"Solo Leveling\" in my manga list using #MyAniList. https://t.co/Jk3eczbaFs']\n",
      "['just dia', datetime.datetime(2020, 7, 4, 5, 49, 12), 'hhhhhh since solo leveling is on a break currently, ive been checking out more manhwas that give a similar vibe\\n\\nso… https://t.co/L5SRvbXkrr']\n",
      "['hoy', datetime.datetime(2020, 7, 4, 5, 16, 44), 'tbh really enjoy shounen webtoons like solo leveling']\n",
      "['Bianca Oyarzo', datetime.datetime(2020, 7, 4, 5, 1, 42), \"En serio, en Webtoons me leo Tower Of God, Freaking Romance, SubZero, Age Matters, Sweet home, I love yoo, Let's pl… https://t.co/TBjfGb14zH\"]\n",
      "[\"𝗛𝗘𝗘𝗦𝗘𝗨𝗡𝗚'ˢ ʷᶦᶠᵉᵘ ⁷\", datetime.datetime(2020, 7, 4, 4, 40, 1), '@heesunqie try Solo leveling, Legendary moonlight sculptor, Tales of demons and gods, second coming of gluttony, ra… https://t.co/danhK0qrhW']\n",
      "['Dark', datetime.datetime(2020, 7, 4, 4, 36, 17), '@daiyabruh When God of Highschool , ToG, and solo leveling doing numbers i don’t wanna see you capping on the TL']\n",
      "['simp guy', datetime.datetime(2020, 7, 4, 4, 24, 35), '@ReiSkyz I recommend too u. Solo leveling']\n",
      "['魁.', datetime.datetime(2020, 7, 4, 4, 23, 3), '⠀\\n\\nThis roleplay account is mainly Tokyo Ghoul and Solo Leveling themed, using Kim Sehyoon (Wow) of A.C.E as my cha… https://t.co/VbzOSH4xV3']\n",
      "['Defext', datetime.datetime(2020, 7, 4, 4, 21, 12), '\"Let\\'s get our logo on a Donger scarf!\"\\n\\nApex Legends | Manga Solo Leveling | Merch Store Design… https://t.co/RKlCg51rXv']\n",
      "['Aero. (つ≧▽≦)つ', datetime.datetime(2020, 7, 4, 4, 12, 56), 'I... We need solo Leveling s2!!!']\n",
      "['lives on the block and drives in iraq', datetime.datetime(2020, 7, 4, 4, 11, 53), '@Quotemeorelse @30SECVlDEOS You hype for solo leveling season 2??']\n",
      "['Kimmie D', datetime.datetime(2020, 7, 4, 4, 11, 52), 'Solo Leveling Live Read! 64-70! https://t.co/qZxZp7aU0n']\n",
      "['a‼| cw: saiki k szn 1|KITA DAY', datetime.datetime(2020, 7, 4, 4, 5, 52), '@imisskurooo the first one is from \"solo leveling\" (action/fantasy) and the second one is from \"love or hate\" (bl)']\n",
      "['blvkmvgic™ ➐', datetime.datetime(2020, 7, 4, 4, 1, 37), '@caprisunpapi_ read Solo Leveling']\n",
      "['simp guy', datetime.datetime(2020, 7, 4, 3, 46, 31), '@Rufus_GC @YaMomsHome @oko_senpai Got too say rufuis after one watch that time igot slime. solo leveling mang = rimaru']\n",
      "['Leah', datetime.datetime(2020, 7, 4, 3, 43, 50), '@suncrushe A manga called Solo Leveling, Sadly pretty much the early half is not in english (no idea why) on mangad… https://t.co/daJrd5sAsN']\n",
      "['𝐊𝐡𝐮𝐧🌻⁷', datetime.datetime(2020, 7, 4, 3, 32, 56), \"I just want to say past me yeasterday is disgusting because I said that solo leveling isn't THAT good like girl no,… https://t.co/UywCQ6kyhr\"]\n",
      "['César Gómez Alcolés.', datetime.datetime(2020, 7, 4, 3, 17, 42), 'Solo Leveling y Tower of God son otro pedo.']\n",
      "['ً', datetime.datetime(2020, 7, 4, 2, 53, 56), 'ㅤ\\n\\nㅤㅤㅤㅤ々 • I will 𝐏𝐑𝐎𝐓𝐄𝐂𝐓 my family\\nㅤㅤㅤeven if that means\\nㅤㅤㅤㅤ• • 𝐌𝐀𝐊𝐄 every 𝑯𝑼𝑵𝑻𝑬𝑹 in the WORLD\\nㅤㅤㅤㅤㅤㅤㅤㅤmy 𝑬𝑵𝑬𝑴𝒀.… https://t.co/rePEhldMjv']\n",
      "['Defext', datetime.datetime(2020, 7, 4, 2, 50, 20), 'I will be starting my LIVE SHOW, somewhat soon, tonight!  If you are up, by all means, stop on by and feel the POWE… https://t.co/6pZgZ8xGMM']\n",
      "['Meech', datetime.datetime(2020, 7, 4, 2, 39, 14), 'I miss solo leveling']\n",
      "['SEABEAR', datetime.datetime(2020, 7, 4, 1, 54, 25), \"@aixsyaaaaa_\\nI'm reading“Solo Leveling”, Download: https://t.co/xMd7lZx627\"]\n",
      "['🌸🖤 ♡ Trainer Pink ♡ 🖤🌸', datetime.datetime(2020, 7, 4, 1, 23, 46), 'Ufotable should pick up Solo Leveling']\n",
      "['Emonte 🛸🖤', datetime.datetime(2020, 7, 4, 1, 11, 40), 'I need Season 2 of Solo Leveling']\n",
      "['Snow-CoveredCharles', datetime.datetime(2020, 7, 4, 1, 10, 5), 'Just got done reading the Korean webtoon Solo Leveling, it is AMAZING! Thanks to @LovesWcourson  for showing it to me.']\n",
      "['Ghost of Coochie’s Past', datetime.datetime(2020, 7, 4, 0, 58, 14), '@_wolftsx @ragnirr Solo Leveling een getting an anime they say. But GoH coming out Monday and I cant wait to spam']\n",
      "['Alexis N Backstrand', datetime.datetime(2020, 7, 4, 0, 50, 9), '@BS_artsss This looks like some stuff straight out of Solo Leveling and I LOVE IT']\n",
      "['Thanatos.', datetime.datetime(2020, 7, 4, 0, 43, 47), '@ragnirr Between this one solo leveling &amp; God of high school mark my words these same ones claiming naruto and Kime… https://t.co/kKuMRnVhcp']\n",
      "['🎚️🎛️', datetime.datetime(2020, 7, 4, 0, 42, 4), '@Gordzdeadline Yeah dawg. Solo Leveling is insane']\n",
      "['🎚️🎛️', datetime.datetime(2020, 7, 4, 0, 40, 42), '@Gordzdeadline I think God of Highschool is probably better plot wise and Solo Leveling is better with the action']\n",
      "['GaryTheSnail', datetime.datetime(2020, 7, 4, 0, 39, 34), '@WaifuAlert @takitaaaa solo leveling']\n",
      "['Sei', datetime.datetime(2020, 7, 4, 0, 38, 26), 'ayo the japanese got solo leveling hitting different 😳😳😳😳 https://t.co/23rJHaxTqJ']\n",
      "['🎚️🎛️', datetime.datetime(2020, 7, 4, 0, 38, 14), '@Gordzdeadline You neeeeeeed to read solo leveling and God of Highschool']\n",
      "['sixlack stan account', datetime.datetime(2020, 7, 4, 0, 38, 14), 'Hardcore Leveling Warrior, The Gamer and Solo Leveling all need to be animated']\n",
      "['kage', datetime.datetime(2020, 7, 4, 0, 33, 10), '@thirteeenmo Remmeber when @yrn_nur said solo leveling is better😔']\n",
      "['Hamad Alruhaimani', datetime.datetime(2020, 7, 4, 0, 24, 37), '@KingOfLighting Did you delete your Solo Leveling videos?']\n",
      "['yunosburner', datetime.datetime(2020, 7, 4, 0, 23, 41), 'Hi I’m new to #anitwt so here are some manga/anime that I enjoy. Please add me to anime GCs!\\n\\n- MHA\\n- Haikyuu\\n- Bla… https://t.co/iiS8YluYwE']\n",
      "['Mizu not from 63rd', datetime.datetime(2020, 7, 4, 0, 23, 38), '@FcpgFN @TokyoBlix But dw after hxh (1 chapter left) im reading solo leveling']\n",
      "['jasper nijsters', datetime.datetime(2020, 7, 4, 0, 22, 52), '@SmexyLoser @ReadUnordinary @WaifuAlert @takitaaaa Tbh solo leveling would also be a great contesdant but yeah unor… https://t.co/yB6Xbqb3oX']\n",
      "['a', datetime.datetime(2020, 7, 4, 0, 16, 29), 'IDJSNDKCKDHSH I CLICKED THE WRONG LINK AND SAW GRAPHIC YAOI MSHDJFJSHSH I WANTED SOLO LEVELING']\n",
      "['syazana', datetime.datetime(2020, 7, 4, 0, 8, 2), 'if solo leveling is made into an anime i will die happy 😌']\n",
      "['lazkaVisuals', datetime.datetime(2020, 7, 3, 23, 44, 45), \"@Miightyyy Solo Leveling is a blessing, by far the best manhwa out there! :) \\n\\nCan't wait for the next season ^^\"]\n",
      "['米桶', datetime.datetime(2020, 7, 3, 23, 37, 35), '@yutaIogy solo leveling ITS SO GOOD AND THE MC IS SO HOT']\n",
      "['Nenoeil', datetime.datetime(2020, 7, 3, 23, 31, 52), \"@inconuu000 Todag, Darwin's game, Solo Leveling\"]\n",
      "['米桶', datetime.datetime(2020, 7, 3, 23, 27, 33), 'SOLO LEVELING SHOULD BE ANIMATED']\n",
      "['nul', datetime.datetime(2020, 7, 3, 23, 25, 11), \"@NAS33M_14 can't wait for the anime for The God of Highschool! and lool you've been a Solo Leveling advocate for a whilee yo, must be solid\"]\n",
      "['Kozuki Austen 🇬🇾🇰🇪', datetime.datetime(2020, 7, 3, 23, 19, 54), 'Solo Leveling season 1 was god tier content. Tap in and thank me later 👇🏾\\n\\nhttps://t.co/qWf8JfDGvA']\n",
      "['Maksimus Starka', datetime.datetime(2020, 7, 3, 22, 46, 14), '@IvNier \"One Punch Man\" is awesome as well ;)\\n\\nOn a side not - if you are super itchy, while waiting for a next cha… https://t.co/Z75xzR2gL7']\n",
      "['LJS', datetime.datetime(2020, 7, 3, 22, 43, 15), 'One of my fave trio!!!!! I remember reading this together with TOG and Noblesse before and wishing for it to be ani… https://t.co/5yFZZBqMIF']\n",
      "['ً', datetime.datetime(2020, 7, 3, 22, 36, 10), 'if solo leveling ever gets adapted into a anime it’s taking anime of the year easily no doubt shit is too damn good']\n",
      "['Andrielle Maria', datetime.datetime(2020, 7, 3, 22, 24), '@Mangalivrefc Solo leveling!? 😏']\n",
      "['Rell', datetime.datetime(2020, 7, 3, 22, 20, 11), 'Kingdom, Beserk, Hunter X Hunter, One Piece and Solo Leveling are top tier manga/manhwa. I have legit read them all multiple times 😭.']\n",
      "[\"Bad'\", datetime.datetime(2020, 7, 3, 22, 19, 35), 'Starting Solo Leveling 👀 https://t.co/DmPaGViaPU']\n",
      "['Ray Ali', datetime.datetime(2020, 7, 3, 22, 6, 56), '@MAGEChannel Please read:\\nThe Descent of the Demonic Master.\\nWould recommend reading this sinc you have done solo leveling.']\n",
      "['Imran', datetime.datetime(2020, 7, 3, 22, 1, 5), '@nultrix Solo Leveling 🔥🔥🔥']\n",
      "['ダニエル', datetime.datetime(2020, 7, 3, 22, 0, 48), 'Tower of God reaches solo leveling art consistency I love to see it, this arc is truly unbelievable']\n"
     ]
    },
    {
     "name": "stdout",
     "output_type": "stream",
     "text": [
      "['Jadon J. Pink', datetime.datetime(2020, 7, 3, 21, 51, 52), 'Imagine if solo leveling got an anime adaption']\n",
      "['Jake', datetime.datetime(2020, 7, 3, 21, 51, 30), '@rinsdoodles Zuko and solo leveling.']\n",
      "['OmniPouten', datetime.datetime(2020, 7, 3, 21, 37, 33), 'Solo Leveling reactions are deleted as the new companies are giving out strikes. Of course you can counter-claim th… https://t.co/hZ5jFEgMrc']\n",
      "['🚀𝐁 ✩ ##BLM', datetime.datetime(2020, 7, 3, 21, 37, 13), 'aight i’m reading Solo leveling']\n",
      "['Ilyas 🇩🇿🇪🇭☪️', datetime.datetime(2020, 7, 3, 21, 37, 11), '@Z_otfi Sun ken rock, jojo part 6 lel fog, solo leveling, the breaker.']\n",
      "['🧙🏽\\u200d♂️', datetime.datetime(2020, 7, 3, 21, 29, 32), '@RAIN6V I bet you still ain’t started solo leveling huh']\n",
      "['JahChu', datetime.datetime(2020, 7, 3, 21, 21, 32), '@Quotemeorelse @hexa_fleet @whosalex Solo leveling w']\n",
      "['bruh', datetime.datetime(2020, 7, 3, 21, 5, 35), '@Olleh Do you read/like manhwa? I just read solo leveling in 2 days, really enjoyed it 😁']\n",
      "['a‼| cw: saiki k szn 1|KITA DAY', datetime.datetime(2020, 7, 3, 20, 59, 24), '@kamibokuyuu \"SOLO LEVELING\" ITS SO GOOD']\n",
      "['drreee', datetime.datetime(2020, 7, 3, 20, 58, 11), 'Solo leveling I hope it gets great animated']\n",
      "['HUNCHO🤧🚀', datetime.datetime(2020, 7, 3, 20, 41, 55), '@bandz_tayy You need to read solo leveling its a mahnwa']\n",
      "['ؘ', datetime.datetime(2020, 7, 3, 20, 27, 13), '@bunn1y sung jinwoo from the webtoon solo leveling!']\n",
      "['Kimmie D', datetime.datetime(2020, 7, 3, 20, 0, 36), 'I wasn’t going to get on stream today but I NEED to read Solo Leveling. We’re on Chapter 74 if you want to catch up lol']\n",
      "['Vicente pa los amigos | Yotsuba to! Fan account', datetime.datetime(2020, 7, 3, 19, 13, 10), '@Mikeranjero98 Solo leveling']\n",
      "['nickiola ♡', datetime.datetime(2020, 7, 3, 19, 9, 22), 'i (finally) started reading solo leveling and it’s SO GOOD i love it']\n",
      "['𝖍𝖆𝖓𝖓𝖆𝖍 𝖇𝖙𝖜 👾', datetime.datetime(2020, 7, 3, 19, 0, 23), 'I’m a bitch for isekai, reincarnation, knowing the future, and mmorpg mangas/manhwas (doctor elise, solo leveling,… https://t.co/9nu37gQQKb']\n",
      "['Ghost of Coochie’s Past', datetime.datetime(2020, 7, 3, 18, 56, 14), 'Solo Leveling you say? https://t.co/ky4SAfp0dK https://t.co/zQ8gvjE3Pd']\n",
      "['ashley 💤', datetime.datetime(2020, 7, 3, 18, 55, 41), 'solo leveling deserves an anime adaptation']\n",
      "['LynXy ~ Reading Solo Leveling', datetime.datetime(2020, 7, 3, 18, 54, 29), 'Solo leveling designs for enemies is too heat 🔥🔥 https://t.co/GormSSrJ6E']\n",
      "['𝑯𝒖𝒏𝒕𝒆𝒓𝒔 𝑨𝒔𝒔𝒐𝒄𝒊𝒂𝒕𝒊𝒐𝒏 ⓅⓄⒹⒸⒶⓈⓉ', datetime.datetime(2020, 7, 3, 18, 49, 50), 'The purge has begun R.I.P to the solo leveling youtube community https://t.co/sGL98trLvy']\n",
      "['Dozie', datetime.datetime(2020, 7, 3, 18, 42, 56), 'When i would finally lose it is when they announce solo leveling anime adaption.😤']\n",
      "['.', datetime.datetime(2020, 7, 3, 18, 27, 28), 'I NEED MORE SOLO LEVELING']\n",
      "['Soken', datetime.datetime(2020, 7, 3, 18, 26, 27), '@Hypza_2 @DaizenOp solo leveling']\n",
      "['Nas ✌🏻', datetime.datetime(2020, 7, 3, 18, 2, 29), '@nultrix Took me a month to start and catch up to The God of Highschool, 489 chapters is EZ clap. Bro I can’t for y… https://t.co/85kPA0em0S']\n",
      "['nul', datetime.datetime(2020, 7, 3, 17, 59, 48), '@NAS33M_14 489, lightwork and ahh, fair man - GG to that one. guess solo leveling will be the hypee']\n",
      "['Crucici', datetime.datetime(2020, 7, 3, 17, 29, 45), 'I love solo leveling https://t.co/6xlAdE93kv']\n",
      "['Mr Lahey', datetime.datetime(2020, 7, 3, 17, 28, 54), '@dainton23 @XhuntingG @solo_nite @Treyarch @RevivedGamerHD I do hope for normal leveling but I doubt they will go b… https://t.co/HlYmvmoDPB']\n",
      "['Heavenly Demon', datetime.datetime(2020, 7, 3, 17, 21, 59), '@GoldenBalmung After i read solo leveling &amp; Unordinary ill check it out']\n",
      "['Jobel', datetime.datetime(2020, 7, 3, 17, 17, 51), '@shiimochii Ive seen people talk about ToG is it worth it? \\nalso if u like manhwa u gotta read the one that stands above all Solo Leveling']\n",
      "['Zeegers', datetime.datetime(2020, 7, 3, 17, 7, 54), 'SLeeeeEeEepy today, however were live and injecting coffee. Come hangout! &lt;3\\n\\nFREE 20 pack 1 pull ZG power leveling… https://t.co/xLDod9sWo4']\n",
      "['Rogue🧘🏽\\u200d♂️', datetime.datetime(2020, 7, 3, 17, 4, 6), '@PirateKingWvC5 Sweeet still being patient with solo leveling']\n",
      "['Dimitri 🖤', datetime.datetime(2020, 7, 3, 16, 52, 31), 'Solo Leveling is FIREEEE']\n",
      "['simping for lucas', datetime.datetime(2020, 7, 3, 16, 47, 36), 'since tower of god already got an anime adaptation, next up solo leveling and the yaoi one (idunno the title) sana… https://t.co/tkpSf8054F']\n",
      "['Weea.', datetime.datetime(2020, 7, 3, 16, 40, 9), '@softyetsmooth lol join vc i will tell you when solo leveling comes out']\n",
      "['Mr Curious', datetime.datetime(2020, 7, 3, 16, 33, 44), '@GinFrecess @lssbobby @25thKiichi Fab, Black Lagoon, Beastars, Dr Stone, Mob Psycho, Haikyuu, Prison School, 20th C… https://t.co/dimJ8Kzm4v']\n",
      "['Dominik The Russian MMA Shill', datetime.datetime(2020, 7, 3, 16, 31, 49), 'My biggest hope seeing all these Manhwa adaptations is that also one for Solo Leveling gets made.… https://t.co/ZzF9tAK1UZ']\n",
      "['lazerxsquadron', datetime.datetime(2020, 7, 3, 16, 31, 26), 'Hey guys :) check out one of our highly recommended webtoon for you to enjoy, Solo Leveling. #sololeveling #webtoon… https://t.co/A0K0mCDKxQ']\n",
      "['🔮', datetime.datetime(2020, 7, 3, 16, 24, 18), 'A couple of my favorites \\n\\nApotheosis\\nSolo leveling \\nPeerless battle spirit \\nBattle through the heavens \\nLiterally… https://t.co/PUwOJLGJqc']\n",
      "['craco クラコ', datetime.datetime(2020, 7, 3, 16, 16, 38), \"@ILLEGIRL4dimple Started with Girl's of the Wilds on Line\\nThen I read a bunch like Orange Marmalade, Where Tangents… https://t.co/8eJE5E2dJU\"]\n",
      "['Alyssa🌊', datetime.datetime(2020, 7, 3, 16, 12, 15), 'Does anyone else read the manhwa Solo Leveling??? I need to talk about it with people my gOD']\n",
      "['Kevi Thee Mini Stallion✨', datetime.datetime(2020, 7, 3, 16, 1, 40), '@DrugInYourVains Have you read solo leveling?']\n",
      "['Bleach_Bae', datetime.datetime(2020, 7, 3, 15, 54, 33), 'Now we got Bleach anime back \\n\\nWe need a Solo leveling anime adaptation movement']\n",
      "['DarkLink - King of the Vilebloods', datetime.datetime(2020, 7, 3, 15, 52, 14), 'Yoo record of ragnarok is legit my new fav manga , shit of this qas full color no lie solo leveling you got some ma… https://t.co/ten0LSWBlc']\n",
      "['Maher', datetime.datetime(2020, 7, 3, 15, 48, 20), 'People still read solo leveling 😭😭']\n",
      "['🇰🇭 - 🇨🇳陳達仁 - 🇰🇷다렌툼', datetime.datetime(2020, 7, 3, 15, 37, 22), 'If you guys like Solo Leveling, look at Tomb Raider King, almost the same design, not that bad 😊']\n",
      "['Luffy Strawhat Ninja', datetime.datetime(2020, 7, 3, 15, 35, 11), 'Liked on YouTube: Everything Black | Solo Leveling [MMV] https://t.co/9GBC7tdvK7']\n",
      "['Leon Ziemer', datetime.datetime(2020, 7, 3, 15, 31, 23), 'Solo Leveling Sung Jin Woo x Igris FAN-ANIMATION 2/2 + ARISE https://t.co/KkjxSWRsCR via @YouTube']\n",
      "['domoh', datetime.datetime(2020, 7, 3, 15, 21, 50), 'Read Solo Leveling https://t.co/rKYDPEi7Ro']\n",
      "['⚡️Sky⚡️', datetime.datetime(2020, 7, 3, 15, 19, 21), 'Read Solo Leveling']\n",
      "['Jv', datetime.datetime(2020, 7, 3, 15, 19, 4), 'Might reread like the last 70 ch of solo leveling']\n",
      "['fujoshi senpai', datetime.datetime(2020, 7, 3, 15, 5, 46), 'the era of manhwas getting an anime is finally here, so what up solo leveling']\n",
      "['dani ☪', datetime.datetime(2020, 7, 3, 15, 0, 52), 'ummm where do u read solo leveling?']\n",
      "['nul', datetime.datetime(2020, 7, 3, 14, 43, 11), 'caught back up to JJK, Overlord and Chainsaw Man \\n\\nnext priorities will be: Usogui, Solo Leveling and Demon Slayer https://t.co/xIBJU3Bvit']\n",
      "['JIYEON2__', datetime.datetime(2020, 7, 3, 14, 6, 34), 'Reread solo leveling cause why not 😳']\n",
      "['PJ🇵🇭 ~ PjChamp', datetime.datetime(2020, 7, 3, 14, 5, 57), 'Read Solo Leveling. https://t.co/vUHIz4gBcN']\n",
      "['✝クリスト✝', datetime.datetime(2020, 7, 3, 13, 37, 18), 'start reading a new manhwa/manga🤔\\nReread solo leveling and prison school 😍']\n",
      "['Ernesto Arciniega', datetime.datetime(2020, 7, 3, 13, 35, 46), '@RepTARDIS Catching upon what was popular so I finished the first season of Sword Art Online. It’s ok. Watching no… https://t.co/hJhTgJLaUL']\n",
      "['Luffy Strawhat Ninja', datetime.datetime(2020, 7, 3, 13, 35, 6), 'Liked on YouTube: [MMV] Solo Leveling | The Phoenix https://t.co/rCGSs3mmfZ']\n",
      "['Cpt. Obi.', datetime.datetime(2020, 7, 3, 13, 10, 25), 'We need Anime adaptation of Solo Leveling.']\n",
      "['G W E N N Y🥀', datetime.datetime(2020, 7, 3, 13, 8, 5), 'i regret not reading solo leveling before. ang astig pla talaga neto.']\n",
      "['🇰🇭 - 🇨🇳陳達仁 - 🇰🇷다렌툼', datetime.datetime(2020, 7, 3, 13, 6, 58), 'I wait the season 2 of Solo Leveling so much like I readed again and again the fair season and it is so cool and go… https://t.co/CrNO70T2WT']\n",
      "['dipa', datetime.datetime(2020, 7, 3, 12, 57, 55), 'Re-read solo leveling 🙂 https://t.co/BSJbPl8sZh']\n",
      "['tsukkimina', datetime.datetime(2020, 7, 3, 12, 28, 10), 'i was hoping he would say lookism but solo leveling is ok too 😔😔']\n",
      "['tsukkimina', datetime.datetime(2020, 7, 3, 12, 25, 58), 'I JUST FOUND OUT MY 1ST BRO READ WEBTOON TOO????? AND HE READ SOLO LEVELING??????? BYE']\n",
      "['U R E K M A Z I N O', datetime.datetime(2020, 7, 3, 12, 19, 28), 'My top 3 manhwa \\nTower of God\\nLookism\\nSolo Leveling']\n",
      "['euri💜✨', datetime.datetime(2020, 7, 3, 12, 1, 13), 'Solo Leveling https://t.co/NM9FCh3afi']\n",
      "['Orgaya @ 🏡 ( 🇮🇱)', datetime.datetime(2020, 7, 3, 11, 40, 32), 'Live for a couple hrs.\\nWoW Classic. Mage Solo leveling [ZF]\\nhttps://t.co/pJ7E54DbqM\\nCome say hi!']\n",
      "['Shadow Sovereign 🌞🌻', datetime.datetime(2020, 7, 3, 11, 35, 8), 'My face every chapter after 20 of solo leveling https://t.co/21bfJr8hI5']\n"
     ]
    },
    {
     "name": "stdout",
     "output_type": "stream",
     "text": [
      "['donnn', datetime.datetime(2020, 7, 3, 11, 11, 30), \"Wooo boy, have I been missin' out on Solo Leveling. This shit is nasty good\"]\n",
      "['Kimmie D', datetime.datetime(2020, 7, 3, 10, 41, 12), 'Solo Leveling is so good 😞 I’m obsessed. Halfway through !']\n",
      "['A Phoenix in a garden', datetime.datetime(2020, 7, 3, 10, 0, 22), '@NotLoxi Go read some manwha, noblesse, flow , solo leveling, a returners magic should be special, winter woods, bastard, sweet home, gosu']\n",
      "['xiaolongbao', datetime.datetime(2020, 7, 3, 9, 59, 48), 'Done, pretty good but its no solo leveling or weak hero, 8/10']\n",
      "['Coby', datetime.datetime(2020, 7, 3, 9, 37, 8), 'Having read the novel, I feel like the delay of Solo Leveling S2 stems from having to rewrite some of the anti-Japa… https://t.co/EIppnQERYm']\n",
      "['Rods', datetime.datetime(2020, 7, 3, 9, 35, 6), '@MightyBean_ The God of High School, Solo Leveling']\n",
      "['꧁༒x҉o҉ɹ҉p҉ɐ҉n҉Ὁ҉ ༒꧂(penis man)', datetime.datetime(2020, 7, 3, 9, 27, 8), '@RishxMeruem Solo leveling anime coming 2029']\n",
      "['Nɪᴄᴀ ✾ HUA CHENG SUPREMACY', datetime.datetime(2020, 7, 3, 9, 26, 44), '@Ambyzo solo leveling']\n",
      "['kay', datetime.datetime(2020, 7, 3, 9, 11, 5), 'shld i re-read solo leveling yeah i think so call me a manwhore']\n",
      "['sadoink', datetime.datetime(2020, 7, 3, 9, 10, 6), '@burinnz i dont think i ever wanna feel so connected to a person again bruh. fuk dat shet 😤 im on my mf solo leveling grind']\n",
      "['miaa', datetime.datetime(2020, 7, 3, 8, 40, 52), 'the fact ive watched almost all the solo leveling edits on insta that i can tell if ive seen the edit or not just b… https://t.co/A3CoS9TSIH']\n",
      "['GoodGuy Ðåv¥ 🚀', datetime.datetime(2020, 7, 3, 8, 35, 23), '@BuildingRoman85 @TaysAnime Solo leveling= https://t.co/g6y0vVMDPZ']\n",
      "['shouyou ☀ 𝗮𝘀𝗵 // manga spolier', datetime.datetime(2020, 7, 3, 8, 18, 43), 'SOLO LEVELING GETTING ANIMATED WHENNNN?????? https://t.co/KBKecPnTVF']\n",
      "['Nahim', datetime.datetime(2020, 7, 3, 8, 13, 19), 'Just give me Solo leveling season 2 already. https://t.co/A4mhOzhPPs']\n",
      "['FabianMR6668', datetime.datetime(2020, 7, 3, 8, 1, 31), 'solo leveling\\nskeleton soldier\\ntomb rider king https://t.co/1OzhHUfxd4']\n",
      "['Rerunn 🌪', datetime.datetime(2020, 7, 3, 7, 53, 8), '@p51mustangs @YoStfuRosee Solo Leveling 🔥🔥🔥']\n",
      "['oxurian', datetime.datetime(2020, 7, 3, 7, 49, 58), '@wshsavalecouz @Douloubilou @Sardoche_Lol Solo leveling']\n",
      "['だいすき です', datetime.datetime(2020, 7, 3, 7, 49, 24), 'Solo leveling, read it']\n",
      "['ジェリー', datetime.datetime(2020, 7, 3, 7, 40, 35), '@animedaiily It’s not an anime but Manhwa it’s called solo leveling 😭']\n",
      "['ribicca', datetime.datetime(2020, 7, 3, 7, 36, 6), 'solo leveling 1000000000% recommend *chefs kisses*']\n",
      "['kei', datetime.datetime(2020, 7, 3, 7, 30, 27), 'UFOTABLE would be the best studio for the job if ever Solo Leveling gets an anime adaptation https://t.co/09EljWHeCZ']\n",
      "['danny', datetime.datetime(2020, 7, 3, 7, 20, 6), \"@Bleach_Bae Fist solo leveling, now Jujutsu kaisen? Your picking up too many W's sis🤧\"]\n",
      "['Y', datetime.datetime(2020, 7, 3, 7, 19, 56), \"Solo leveling, you're next!\"]\n",
      "['ひなちま', datetime.datetime(2020, 7, 3, 7, 8, 32), '@jiqyai need new webtoon to read anyway since solo leveling on hiatus right now']\n",
      "['𝖊́𝖛𝖊𝖑𝖑𝖊𝖓', datetime.datetime(2020, 7, 3, 7, 7, 13), '✰ solo leveling.']\n",
      "['s', datetime.datetime(2020, 7, 3, 6, 48, 51), 'solo-leveling is so good']\n",
      "['~Zero', datetime.datetime(2020, 7, 3, 6, 42, 14), '@xKaotic_ @RiotMoosey @aibunv I would really recommend the solo leveling web novel, it’s fully finished and goes a… https://t.co/s6nJKjzdHi']\n",
      "['𝕷𝖚𝖈𝖐𝖎', datetime.datetime(2020, 7, 3, 6, 40), '@cakepattycake_ Ight maybe one day ill check it out but I dont like solo leveling at all so I prolly wont like the other one']\n",
      "['reez! 🌒', datetime.datetime(2020, 7, 3, 6, 39, 1), \"@EnchantedLucki imo, its cool tho. i've read the LN so ion follow the manga bit too much. but its still good. u bet… https://t.co/9FAXCe3LC4\"]\n",
      "['orangnya.', datetime.datetime(2020, 7, 3, 6, 35, 59), '@stanmenfess solo leveling, eleceed']\n",
      "['Kimmie D', datetime.datetime(2020, 7, 3, 5, 53, 43), 'Solo Leveling live read, Chapter 61-70!!! https://t.co/qZxZp7aU0n']\n",
      "['Siddd', datetime.datetime(2020, 7, 3, 5, 51, 43), '@AzureIceFlare @Sherwood_Red @zerowondering solo leveling reference 😎']\n",
      "['rissa', datetime.datetime(2020, 7, 3, 5, 42, 14), 'if i made a thread of jinwoo from solo leveling being hot, would anyone be mad? 👀']\n",
      "['The Tower of Biscuits', datetime.datetime(2020, 7, 3, 5, 37, 5), 'reading solo leveling and listening to some new pop smoke #RIPWOO https://t.co/ZJ43ExFuH0']\n",
      "['Russell', datetime.datetime(2020, 7, 3, 5, 36, 35), '@TheRealDNT Watching is cool and shit but you should definitely read solo leveling .']\n",
      "['BAKEMONO ⚡', datetime.datetime(2020, 7, 3, 5, 29, 55), '@wshsavalecouz @Douloubilou @Sardoche_Lol Solo leveling']\n",
      "['jackie', datetime.datetime(2020, 7, 3, 5, 23, 53), 'wait a min i just realized july is gonna be so good... solo leveling should be coming back, new seasons of rezero a… https://t.co/proUMBzx9q']\n",
      "['Tyler | Monogatari stan🐌', datetime.datetime(2020, 7, 3, 5, 22, 6), 'Goodnight read the Light Novel and Webtoon of Solo Leveling❤️']\n",
      "['filo', datetime.datetime(2020, 7, 3, 4, 40, 26), 'unsa ni murag solo leveling na level up chuchu and all???']\n",
      "['Robert Adams', datetime.datetime(2020, 7, 3, 4, 31, 37), \"@yasmontie Solo Leveling was such a fun read. Looking forward to the next season/set if chapters. I'm looking forwa… https://t.co/ZOVtQS4VbA\"]\n",
      "['Alex-senpai: BLM forever and always', datetime.datetime(2020, 7, 3, 4, 20, 43), '@MightyBean_ God of Highschool a banger, Lore Olympus, Room of Swords, Hardcore Solo leveling warrior just a few of my favs']\n",
      "['reading 2ha 🍭', datetime.datetime(2020, 7, 3, 4, 13, 45), 'dokja (left) lowkey looks like jinwoo from solo leveling (right) 😆 #orv https://t.co/s5DUms4LEP']\n",
      "['Shao', datetime.datetime(2020, 7, 3, 4, 13, 40), '@Baddestt_Cat Please tell me you read solo leveling']\n",
      "['goth scott summers', datetime.datetime(2020, 7, 3, 3, 53, 35), '@Timwarring1129 @RLewisReports Yeah, i dont know if i want an anime out of solo leveling, tower of God anime is loo… https://t.co/iqLpZaISvr']\n",
      "['KRNG AK 🇯🇲', datetime.datetime(2020, 7, 3, 3, 52, 44), '@GodWolfZ @TheOceaneOpz @kruzer @Akyeret ngl i was raging playing that shit solo but once i learn about the levelin… https://t.co/56E9EngvY5']\n",
      "['Allen West', datetime.datetime(2020, 7, 3, 3, 48, 29), '@yasmontie I think Solo Leveling is alot shorter than the other 2 like it only has 110 chapters']\n",
      "['kid', datetime.datetime(2020, 7, 3, 3, 36, 2), 'solo-leveling and tomb raider king is absolutely 100% perfect manhua for shounen lovers. iloveit.']\n",
      "['DCB | Chris Miller', datetime.datetime(2020, 7, 3, 3, 20, 48), '@DMV_Makoto I tried Solo Leveling but couldn’t get into it']\n",
      "['DMV_Makoto', datetime.datetime(2020, 7, 3, 3, 19, 51), '@DJHuoshen I don’t have anything new. You could check out “The Gamer” webnovel. It’s almost like Solo Leveling. I’l… https://t.co/7BS8wSWToG']\n",
      "['j', datetime.datetime(2020, 7, 3, 2, 44, 58), \"Hi I'm new to #anitwt and Im looking for people to talk too about anime/manga\\n\\n stuff i like reading/watching\\n- One… https://t.co/cKR4Y88p8G\"]\n",
      "['sunled #G2ARMY', datetime.datetime(2020, 7, 3, 2, 41, 4), '@KillSection Solo Leveling POGGERS']\n",
      "['bye.', datetime.datetime(2020, 7, 3, 2, 9, 13), '@subtanyarl Original : How to fight, Tales of the Unusual, Strangers From Hell, Solo Leveling (belum ada versi resm… https://t.co/ttBjsGS3WW']\n",
      "['Alvaro', datetime.datetime(2020, 7, 3, 1, 45, 24), '@aibunv Watch and read... also read Solo Leveling and God of Highschool (first episode to air Monday as well on Crunchyroll/VRV)']\n",
      "['𝕳𝖆𝖑𝖈ó𝖓 𝕭𝖑𝖆𝖓𝖈𝖔', datetime.datetime(2020, 7, 3, 1, 23, 15), 'I miss Solo Leveling']\n",
      "['sasuke', datetime.datetime(2020, 7, 3, 0, 52, 4), '@izsoobin @chaewonbloom kikis on my side rn bc of solo leveling and since kiki is coming lia is coming too ❤️']\n",
      "['𝚛 𝚎 𝚒 𝚗 ⇆ || ᴛꜱᴜᴋɪ', datetime.datetime(2020, 7, 3, 0, 46, 42), \"@sili_moon Daaamn so 485 it is. Tell me you're also reading solo leveling?\"]\n",
      "['Bleach_Bae', datetime.datetime(2020, 7, 3, 0, 40, 44), 'Okay finished Solo leveling chapter 45!!\\n\\nLoving this whole plot and how he levels up😭😭😭❤️❤️❤️\\n\\nAbsolutely loving t… https://t.co/Y6uzIfM1Ul']\n",
      "[\"Ace's wife A.C.A.B\", datetime.datetime(2020, 7, 3, 0, 40, 10), \"Can't wait till the day that Tower of God an Solo leveling come back. https://t.co/Zk1f9bA5ya\"]\n",
      "['Bleach_Bae', datetime.datetime(2020, 7, 3, 0, 28, 2), 'HE SAID THIS SHIT SO COLD LIKE \\n\\nMYHYYYHHCUFUGIVUYVHUVFG I AM FREAKING OUT !!!!!!! \\n\\nSOLO LEVELING https://t.co/iemAN9tnuP']\n",
      "['Gajelas.', datetime.datetime(2020, 7, 3, 0, 27, 35), '@stanmenfess Noblesse,tower of god,bastard, the god of highschool,solo leveling, troll trap suka bgttt😭']\n",
      "['Remz', datetime.datetime(2020, 7, 3, 0, 25, 31), \"So that's why Solo Leveling hasn't come back yet\"]\n",
      "['PandemoniumBunny', datetime.datetime(2020, 7, 3, 0, 19, 44), \"If a Solo Leveling the webtoon does NOT get turned into an amazing anime ima flip my shit. \\n\\nIf you haven't read it… https://t.co/Bq4qovsSLP\"]\n",
      "['🕵️\\u200d♂️', datetime.datetime(2020, 7, 3, 0, 17, 44), 'We move\\n(Source: solo leveling) https://t.co/WsL6VmcVNZ https://t.co/bGFNPOWFQv']\n",
      "['CHR46_XY', datetime.datetime(2020, 7, 3, 0, 10, 22), '@sentiljos @subtanyarl Ranker who lives a second time juga bagus mirip2 sma solo leveling']\n",
      "['Bleach_Bae', datetime.datetime(2020, 7, 3, 0, 8, 5), '@Bwam_Solid Solo leveling a Korean comic']\n",
      "['Borugod', datetime.datetime(2020, 7, 3, 0, 2, 32), 'Another Solo leveling fan? Love to see it https://t.co/RtYh2A9dcr']\n",
      "['Scot Vaillancourt', datetime.datetime(2020, 7, 3, 0, 0, 26), 'And here I sit, on the floor of my bathroom, having finished solo leveling']\n",
      "['Mau di?', datetime.datetime(2020, 7, 2, 23, 58, 26), '@subtanyarl Engga ada di app webtoon tapi coba aja baca\\n1. Solo leveling\\n2. Medical returns\\n3. I am sorcerer king\\n4… https://t.co/aSXUZDQbBH']\n",
      "['Lysol Wipes ™', datetime.datetime(2020, 7, 2, 23, 47, 32), '@megucore scratches head... i still havent finished solo leveling....']\n",
      "['Jae-ree', datetime.datetime(2020, 7, 2, 23, 39, 22), '@RiotMoosey @aibunv ^ this. Solo leveling is currently on break so season 2 hasn’t released yet... perfect time to catch up!']\n",
      "['Trøxipy', datetime.datetime(2020, 7, 2, 23, 3, 53), 'Re reading Solo Leveling screw it']\n",
      "['kurt cortel', datetime.datetime(2020, 7, 2, 23, 2, 57), 'Netflix: Solo Leveling - anime series. - Sign the Petition! https://t.co/T5MZDLbdHL via @UKChange']\n",
      "['JayBoss', datetime.datetime(2020, 7, 2, 22, 54, 52), 'Solo leveling https://t.co/tWlLwLnNZ3']\n",
      "['Bleach_Bae', datetime.datetime(2020, 7, 2, 22, 38, 49), '“Amia come outside and swim with your family”\\n\\nNah I’m showered and ready to finish solo leveling tonight ! https://t.co/IChQMJ8lRW']\n",
      "['ᴇᴍᴍᴀ ༄ ᴊᴏᴇʟ ɪs ᴍʏ ᴅᴀᴅ ༄ ready for #TLOUPROM', datetime.datetime(2020, 7, 2, 22, 19, 5), \"I want Solo Leveling second season, I'm thirsty for some Sung Jin-Woo https://t.co/LiThg3TrOP\"]\n",
      "['Potahoe⁷🐳', datetime.datetime(2020, 7, 2, 22, 17, 6), \"look at this hot mf i love him now HE'S TOO OP\\n\\nsauce: Solo Leveling\\n\\n#sololeveling https://t.co/rXBP4Rrlla\"]\n",
      "['Tuan Muda', datetime.datetime(2020, 7, 2, 22, 5, 29), '@giffarizky Solo leveling']\n",
      "['j_dub', datetime.datetime(2020, 7, 2, 21, 38, 22), '@xSMACKIIN @aCriminaI @inosuwa solo leveling it’s a webtoon they should make it into an anime tho it’s heat']\n",
      "['Moose', datetime.datetime(2020, 7, 2, 21, 26, 43), '@aibunv smooch ily miss you too hope all is well. https://t.co/feUSy9cVHd here is where i read but be careful bc a… https://t.co/X3V4knGe9D']\n",
      "['frank', datetime.datetime(2020, 7, 2, 21, 18, 32), 'Manwhas que recomiendo (MUST READ)\\n\\n- Tower of God\\n- Solo Leveling\\n- DICE']\n",
      "['Moose', datetime.datetime(2020, 7, 2, 21, 16, 43), '@aibunv have you read solo leveling??']\n"
     ]
    },
    {
     "name": "stdout",
     "output_type": "stream",
     "text": [
      "['Tsaucetheking', datetime.datetime(2020, 7, 2, 20, 52, 54), \"@HeavenlyControl It's solo leveling, people still gonna watch it\"]\n",
      "['Orgaya @ 🏡 ( 🇮🇱)', datetime.datetime(2020, 7, 2, 20, 42, 42), 'Just want to chill 4 abit..😶\\nhttps://t.co/pJ7E54DbqM\\nWoW Classic [Leveling mage in ZF 44-52 Solo]\\nCome and hang out… https://t.co/oV6o2fdrdV']\n",
      "['Lotomoto', datetime.datetime(2020, 7, 2, 20, 30, 22), '@peachiechuwu SOLO LEVELING!!']\n",
      "['Nobu', datetime.datetime(2020, 7, 2, 20, 17, 19), '@_Majinbuuuu Solo leveling']\n",
      "['꧁༒x҉o҉ɹ҉p҉ɐ҉n҉Ὁ҉ ༒꧂(penis man)', datetime.datetime(2020, 7, 2, 20, 10, 42), 'If this is a true translation then solo leveling is the best piece of fiction on earth #sololeveling https://t.co/4d9aiJZMdy']\n",
      "['²⁰¹³ Líbano 🐋⁷ 🇩🇴', datetime.datetime(2020, 7, 2, 19, 46, 32), '@lovelychimin_ Solo leveling']\n",
      "['Molotov Cocktease', datetime.datetime(2020, 7, 2, 19, 46, 23), \"@VillageTaker It's not me blame blame the solo leveling people they tricked me\"]\n",
      "['Molotov Cocktease', datetime.datetime(2020, 7, 2, 19, 24, 1), 'Solo leveling is back guys https://t.co/6LPURqxEpM']\n",
      "['zapaled29', datetime.datetime(2020, 7, 2, 19, 21, 34), 'Sung Solo Leveling is so AWESOME! #sololeveling https://t.co/7TjOAYqWhd']\n",
      "['نارسِيسْ', datetime.datetime(2020, 7, 2, 19, 17, 27), '@hxii3d solo leveling?']\n",
      "['Toan Enadiz', datetime.datetime(2020, 7, 2, 19, 6, 13), \"I have a nice setup going. When I'm on my PC, I play Trails in the Sky. When I'm on my laptop, I read the Solo Leve… https://t.co/tHkVFHUbf4\"]\n",
      "['ash', datetime.datetime(2020, 7, 2, 19, 4, 51), '@g3rtrud Solo leveling']\n",
      "['猫', datetime.datetime(2020, 7, 2, 18, 52, 45), 'I still hate this bitch from Solo Leveling. https://t.co/7rxeaW9NKH']\n",
      "['Kay’ 😤', datetime.datetime(2020, 7, 2, 18, 51, 18), '@CieloZer_ Lis Solo Leveling']\n",
      "['D shin', datetime.datetime(2020, 7, 2, 18, 29, 28), '@LasSecours @romane_bc Bref lis solo leveling']\n",
      "['𝗣𝗘𝗣𝗢 🦍', datetime.datetime(2020, 7, 2, 17, 53, 1), '@SatsuOW Dr stone need to read more. Solo leveling also need to read more. I still rate them both 8 at least.']\n",
      "['𝐒𝐚𝐭𝐬𝐮🌙', datetime.datetime(2020, 7, 2, 17, 51, 17), '@pepoxler Give Dr. Stone &amp; Solo Leveling more love']\n",
      "['ri ☔', datetime.datetime(2020, 7, 2, 17, 42, 5), \"I'm hoping that Solo Leveling will get anime adaption sooner. 💝\"]\n",
      "['Zeegers', datetime.datetime(2020, 7, 2, 17, 41, 16), 'Had audio issues, were LIVE now though! LETS GET THOSE EXPERIENCE POINTS\\n\\nFREE 20 pack 1 pull ZG power leveling, 42… https://t.co/iddms5r30u']\n",
      "['Scyphern', datetime.datetime(2020, 7, 2, 17, 32, 27), '@Yaihiko_12 @WaifuMenu Lmao that statue from solo leveling']\n",
      "['Diego O', datetime.datetime(2020, 7, 2, 17, 29, 55), '@ZboyShonen Solo Leveling!']\n",
      "['Alvin Atwater, Author of Anime Trope System series', datetime.datetime(2020, 7, 2, 17, 21, 43), \"@DJ_Raviesta -Konosuba's a hilarious series via anime.\\n-Manga: I'm about to start Solo Leveling. Many of my fans ur… https://t.co/9ZVpcfYGth\"]\n",
      "['Nahim', datetime.datetime(2020, 7, 2, 17, 1, 11), '@Dena_vicc All i need is solo leveling season 2 nowwwww😭']\n",
      "['rae ⭒ salomé day!', datetime.datetime(2020, 7, 2, 17, 1, 6), 'goodnight, read solo leveling &lt;3 https://t.co/xfHiL33FVq']\n",
      "['sadie⁷', datetime.datetime(2020, 7, 2, 16, 56, 24), \"@rmsvibrator Solo Leveling but it's not on Webtoon anymore 😔\"]\n",
      "['Cheta', datetime.datetime(2020, 7, 2, 16, 49, 18), '10th time reading solo leveling so tempted to go to the light Novel']\n",
      "['eupi💫stan loona⁷', datetime.datetime(2020, 7, 2, 16, 48, 28), '@khunhoe solo leveling, you just gotta read it']\n",
      "['Nir Artov', datetime.datetime(2020, 7, 2, 16, 37, 53), '@ColdCriti Where would ypu put solo leveling just looking at pages randomly?\\nI personally would put it in ss']\n",
      "[\"ฅ'ω'ฅ\", datetime.datetime(2020, 7, 2, 16, 37, 3), \"All in all solo leveling is really worth the read. I'd rate it 9/10. \\n\\nPlease read solo leveling 😊💕\"]\n",
      "[\"ฅ'ω'ฅ\", datetime.datetime(2020, 7, 2, 16, 34, 54), \"Plot wise, solo leveling is pretty good. I absolutely love the climax part. Wouldn't want to go further cuz i'd be… https://t.co/qCHTavCGwT\"]\n",
      "['Ayomi~kun', datetime.datetime(2020, 7, 2, 16, 20, 51), 'gonna read solo leveling']\n",
      "['•°•ZEYA•°• - Moon Cleaving Boner', datetime.datetime(2020, 7, 2, 16, 14, 45), \"@laughtalee True... that's why I usually only post ToG and solo leveling, but I'm trying to post more of other things now\"]\n",
      "['hiyori', datetime.datetime(2020, 7, 2, 16, 6, 11), 'Omg why does everyone compare every korean webnovel or webtoon to solo leveling i swear its so annoying']\n",
      "['Captain 🎸', datetime.datetime(2020, 7, 2, 16, 1, 44), '*starts reading ORV LN*\\n*look at the amount of chapter*\\nWhat do u mean its twice as fucking long as Solo Leveling-']\n",
      "[\"gon & killua's mom\", datetime.datetime(2020, 7, 2, 15, 56, 53), \"tapusin ko solo leveling tonight and then it's all animes this month 😩😩😩😩\"]\n",
      "['Last Chance', datetime.datetime(2020, 7, 2, 15, 33, 50), \"@OverallOtaku Good morning! Just finished editing a video, now it's time for some Solo Leveling\"]\n",
      "[\"ฅ'ω'ฅ\", datetime.datetime(2020, 7, 2, 15, 20, 49), 'Thoughts on Solo Leveling\\n\\n°•A thread•°']\n",
      "['kaido sama', datetime.datetime(2020, 7, 2, 15, 20, 16), '@CJ215600286919 @fellowsimp1306 @itanimeirl Solo leveling bro you gotta read']\n",
      "['Teddy (currently reading Tower of God)', datetime.datetime(2020, 7, 2, 15, 17, 3), '@Saewaeh_Batman Yep. Fuck solo leveling, I’m reading this after I’m caught up to Tower of god']\n",
      "['Flaza D. ude', datetime.datetime(2020, 7, 2, 15, 16, 24), 'I read all of Solo Leveling in like 6 hours last night, and I relate to Sung-Jin Woo, not as a person, but he chose… https://t.co/zgkXncjwcm']\n",
      "['Patrick Manning', datetime.datetime(2020, 7, 2, 15, 10, 21), '@britanybritany_ Weaklings smh, well read solo leveling nah it rel good']\n",
      "['𝑯𝒖𝒏𝒕𝒆𝒓𝒔 𝑨𝒔𝒔𝒐𝒄𝒊𝒂𝒕𝒊𝒐𝒏 ⓅⓄⒹⒸⒶⓈⓉ', datetime.datetime(2020, 7, 2, 15, 0, 19), 'The solo leveling community on youtube is about to take a big hit. Its sad really 😞 #sololeveling']\n",
      "                      name                time  \\\n",
      "0     Eustass the KID #824 2020-07-05 01:04:13   \n",
      "1              elisa ♡ GO生 2020-07-05 00:44:14   \n",
      "2  said {olhem meu fixado} 2020-07-05 00:30:15   \n",
      "3             David Manjon 2020-07-05 00:19:26   \n",
      "4                  𝐜𝐡𝐚𝐫𝐥𝐢𝐞 2020-07-05 00:07:16   \n",
      "\n",
      "                                               tweet  sentiment  \n",
      "0  This solo leveling reread made me like the ser...        0.5  \n",
      "1  @II_NAME_II i read it off this site! https://t...        0.0  \n",
      "2  Lista de webtoons do said:\\n\\nJá li/estou em d...        0.0  \n",
      "3                         @allmighto12 Solo leveling        0.0  \n",
      "4                               trying solo leveling        0.0  \n"
     ]
    }
   ],
   "source": [
    "df = pd.DataFrame(get_related_tweets('Solo Leveling'))\n",
    "df['sentiment'] = df.tweet.apply(lambda tweet: TextBlob(tweet).sentiment.polarity)\n",
    "print(df.head())"
   ]
  },
  {
   "cell_type": "code",
   "execution_count": 45,
   "metadata": {
    "ExecuteTime": {
     "end_time": "2020-07-05T01:29:01.092993Z",
     "start_time": "2020-07-05T01:29:01.081284Z"
    }
   },
   "outputs": [
    {
     "data": {
      "text/html": [
       "<div>\n",
       "<style scoped>\n",
       "    .dataframe tbody tr th:only-of-type {\n",
       "        vertical-align: middle;\n",
       "    }\n",
       "\n",
       "    .dataframe tbody tr th {\n",
       "        vertical-align: top;\n",
       "    }\n",
       "\n",
       "    .dataframe thead th {\n",
       "        text-align: right;\n",
       "    }\n",
       "</style>\n",
       "<table border=\"1\" class=\"dataframe\">\n",
       "  <thead>\n",
       "    <tr style=\"text-align: right;\">\n",
       "      <th></th>\n",
       "      <th>name</th>\n",
       "      <th>time</th>\n",
       "      <th>tweet</th>\n",
       "      <th>sentiment</th>\n",
       "    </tr>\n",
       "  </thead>\n",
       "  <tbody>\n",
       "    <tr>\n",
       "      <th>0</th>\n",
       "      <td>Eustass the KID #824</td>\n",
       "      <td>2020-07-05 01:04:13</td>\n",
       "      <td>This solo leveling reread made me like the ser...</td>\n",
       "      <td>0.500000</td>\n",
       "    </tr>\n",
       "    <tr>\n",
       "      <th>1</th>\n",
       "      <td>elisa ♡ GO生</td>\n",
       "      <td>2020-07-05 00:44:14</td>\n",
       "      <td>@II_NAME_II i read it off this site! https://t...</td>\n",
       "      <td>0.000000</td>\n",
       "    </tr>\n",
       "    <tr>\n",
       "      <th>2</th>\n",
       "      <td>said {olhem meu fixado}</td>\n",
       "      <td>2020-07-05 00:30:15</td>\n",
       "      <td>Lista de webtoons do said:\\n\\nJá li/estou em d...</td>\n",
       "      <td>0.000000</td>\n",
       "    </tr>\n",
       "    <tr>\n",
       "      <th>3</th>\n",
       "      <td>David Manjon</td>\n",
       "      <td>2020-07-05 00:19:26</td>\n",
       "      <td>@allmighto12 Solo leveling</td>\n",
       "      <td>0.000000</td>\n",
       "    </tr>\n",
       "    <tr>\n",
       "      <th>4</th>\n",
       "      <td>𝐜𝐡𝐚𝐫𝐥𝐢𝐞</td>\n",
       "      <td>2020-07-05 00:07:16</td>\n",
       "      <td>trying solo leveling</td>\n",
       "      <td>0.000000</td>\n",
       "    </tr>\n",
       "    <tr>\n",
       "      <th>5</th>\n",
       "      <td>Marc🔲🔳|BLM|cr: Solo Leveling</td>\n",
       "      <td>2020-07-04 23:56:15</td>\n",
       "      <td>Solo Leveling will get an anime. https://t.co/...</td>\n",
       "      <td>0.000000</td>\n",
       "    </tr>\n",
       "    <tr>\n",
       "      <th>6</th>\n",
       "      <td>Defext</td>\n",
       "      <td>2020-07-04 23:40:50</td>\n",
       "      <td>\"TAKE ME HOOOOME!  COUNTRY ROAD!\"\\n\\nHunt: Sho...</td>\n",
       "      <td>0.000000</td>\n",
       "    </tr>\n",
       "    <tr>\n",
       "      <th>7</th>\n",
       "      <td>Sensei 🍥</td>\n",
       "      <td>2020-07-04 23:21:24</td>\n",
       "      <td>@SenseiTheShifu @akuuwa_camcam anime isn't out...</td>\n",
       "      <td>-0.625000</td>\n",
       "    </tr>\n",
       "    <tr>\n",
       "      <th>8</th>\n",
       "      <td>Scott</td>\n",
       "      <td>2020-07-04 23:06:24</td>\n",
       "      <td>@kaizokupapi anything like Solo Leveling tbh</td>\n",
       "      <td>0.000000</td>\n",
       "    </tr>\n",
       "    <tr>\n",
       "      <th>9</th>\n",
       "      <td>Rerunn 🌪</td>\n",
       "      <td>2020-07-04 22:56:14</td>\n",
       "      <td>my only birthday wish is a Solo Leveling anime...</td>\n",
       "      <td>0.000000</td>\n",
       "    </tr>\n",
       "    <tr>\n",
       "      <th>10</th>\n",
       "      <td>JustCold</td>\n",
       "      <td>2020-07-04 22:52:34</td>\n",
       "      <td>@kaizokupapi @PridefuISin Solo leveling</td>\n",
       "      <td>0.000000</td>\n",
       "    </tr>\n",
       "    <tr>\n",
       "      <th>11</th>\n",
       "      <td>أحمـد</td>\n",
       "      <td>2020-07-04 22:32:05</td>\n",
       "      <td>@i_Bastii solo leveling</td>\n",
       "      <td>0.000000</td>\n",
       "    </tr>\n",
       "    <tr>\n",
       "      <th>12</th>\n",
       "      <td>lidjany⁷ᵇˡᵐ✊🏽✊🏾✊🏿</td>\n",
       "      <td>2020-07-04 22:13:19</td>\n",
       "      <td>man imagine if solo leveling  got animated htt...</td>\n",
       "      <td>0.000000</td>\n",
       "    </tr>\n",
       "    <tr>\n",
       "      <th>13</th>\n",
       "      <td>Nosè</td>\n",
       "      <td>2020-07-04 22:09:39</td>\n",
       "      <td>The similarities between the gamer and solo le...</td>\n",
       "      <td>0.000000</td>\n",
       "    </tr>\n",
       "    <tr>\n",
       "      <th>14</th>\n",
       "      <td>maria jahad 💞 || screw ebg 🖕</td>\n",
       "      <td>2020-07-04 22:03:06</td>\n",
       "      <td>@KcnaGeo @bruhfunky (solo leveling)</td>\n",
       "      <td>0.000000</td>\n",
       "    </tr>\n",
       "    <tr>\n",
       "      <th>15</th>\n",
       "      <td>☆Champagne_Mami♪☆🍸</td>\n",
       "      <td>2020-07-04 21:56:54</td>\n",
       "      <td>@SNatuhamya 😂😂😂😂 &amp;amp; they had Americans doin...</td>\n",
       "      <td>0.000000</td>\n",
       "    </tr>\n",
       "    <tr>\n",
       "      <th>16</th>\n",
       "      <td>vibin’</td>\n",
       "      <td>2020-07-04 21:56:34</td>\n",
       "      <td>Why didn’t they just do Solo Leveling....💀 htt...</td>\n",
       "      <td>0.000000</td>\n",
       "    </tr>\n",
       "    <tr>\n",
       "      <th>17</th>\n",
       "      <td>𝑀𝑖𝑟𝑖𝑎`</td>\n",
       "      <td>2020-07-04 21:49:43</td>\n",
       "      <td>Solo Leveling is soooo GoOoOd i wanna cry— 🥺 h...</td>\n",
       "      <td>0.000000</td>\n",
       "    </tr>\n",
       "    <tr>\n",
       "      <th>18</th>\n",
       "      <td>Rojo</td>\n",
       "      <td>2020-07-04 21:44:51</td>\n",
       "      <td>@Crunchyroll Sounds like Solo leveling lmao, t...</td>\n",
       "      <td>-0.050000</td>\n",
       "    </tr>\n",
       "    <tr>\n",
       "      <th>19</th>\n",
       "      <td>syd</td>\n",
       "      <td>2020-07-04 21:21:18</td>\n",
       "      <td>Hi! I’m new to #anitwt and looking for mutuals...</td>\n",
       "      <td>0.068182</td>\n",
       "    </tr>\n",
       "  </tbody>\n",
       "</table>\n",
       "</div>"
      ],
      "text/plain": [
       "                            name                time  \\\n",
       "0           Eustass the KID #824 2020-07-05 01:04:13   \n",
       "1                    elisa ♡ GO生 2020-07-05 00:44:14   \n",
       "2        said {olhem meu fixado} 2020-07-05 00:30:15   \n",
       "3                   David Manjon 2020-07-05 00:19:26   \n",
       "4                        𝐜𝐡𝐚𝐫𝐥𝐢𝐞 2020-07-05 00:07:16   \n",
       "5   Marc🔲🔳|BLM|cr: Solo Leveling 2020-07-04 23:56:15   \n",
       "6                         Defext 2020-07-04 23:40:50   \n",
       "7                       Sensei 🍥 2020-07-04 23:21:24   \n",
       "8                          Scott 2020-07-04 23:06:24   \n",
       "9                       Rerunn 🌪 2020-07-04 22:56:14   \n",
       "10                      JustCold 2020-07-04 22:52:34   \n",
       "11                         أحمـد 2020-07-04 22:32:05   \n",
       "12             lidjany⁷ᵇˡᵐ✊🏽✊🏾✊🏿 2020-07-04 22:13:19   \n",
       "13                          Nosè 2020-07-04 22:09:39   \n",
       "14  maria jahad 💞 || screw ebg 🖕 2020-07-04 22:03:06   \n",
       "15            ☆Champagne_Mami♪☆🍸 2020-07-04 21:56:54   \n",
       "16                        vibin’ 2020-07-04 21:56:34   \n",
       "17                        𝑀𝑖𝑟𝑖𝑎` 2020-07-04 21:49:43   \n",
       "18                          Rojo 2020-07-04 21:44:51   \n",
       "19                           syd 2020-07-04 21:21:18   \n",
       "\n",
       "                                                tweet  sentiment  \n",
       "0   This solo leveling reread made me like the ser...   0.500000  \n",
       "1   @II_NAME_II i read it off this site! https://t...   0.000000  \n",
       "2   Lista de webtoons do said:\\n\\nJá li/estou em d...   0.000000  \n",
       "3                          @allmighto12 Solo leveling   0.000000  \n",
       "4                                trying solo leveling   0.000000  \n",
       "5   Solo Leveling will get an anime. https://t.co/...   0.000000  \n",
       "6   \"TAKE ME HOOOOME!  COUNTRY ROAD!\"\\n\\nHunt: Sho...   0.000000  \n",
       "7   @SenseiTheShifu @akuuwa_camcam anime isn't out...  -0.625000  \n",
       "8        @kaizokupapi anything like Solo Leveling tbh   0.000000  \n",
       "9   my only birthday wish is a Solo Leveling anime...   0.000000  \n",
       "10            @kaizokupapi @PridefuISin Solo leveling   0.000000  \n",
       "11                            @i_Bastii solo leveling   0.000000  \n",
       "12  man imagine if solo leveling  got animated htt...   0.000000  \n",
       "13  The similarities between the gamer and solo le...   0.000000  \n",
       "14                @KcnaGeo @bruhfunky (solo leveling)   0.000000  \n",
       "15  @SNatuhamya 😂😂😂😂 &amp; they had Americans doin...   0.000000  \n",
       "16  Why didn’t they just do Solo Leveling....💀 htt...   0.000000  \n",
       "17  Solo Leveling is soooo GoOoOd i wanna cry— 🥺 h...   0.000000  \n",
       "18  @Crunchyroll Sounds like Solo leveling lmao, t...  -0.050000  \n",
       "19  Hi! I’m new to #anitwt and looking for mutuals...   0.068182  "
      ]
     },
     "execution_count": 45,
     "metadata": {},
     "output_type": "execute_result"
    }
   ],
   "source": [
    "df.head(20)"
   ]
  },
  {
   "cell_type": "code",
   "execution_count": 43,
   "metadata": {
    "ExecuteTime": {
     "end_time": "2020-07-05T01:26:34.121967Z",
     "start_time": "2020-07-05T01:26:34.112459Z"
    },
    "scrolled": true
   },
   "outputs": [
    {
     "name": "stdout",
     "output_type": "stream",
     "text": [
      "Number of Positive tweets : 116\n",
      "Number of Negative tweets : 35\n"
     ]
    }
   ],
   "source": [
    "# count od positve and negative sentiments\n",
    "df_pos = df[df['sentiment'] > 0.0]\n",
    "df_neg = df[df['sentiment'] < 0.0]\n",
    "print(f'Number of Positive tweets : {len(df_pos)}')\n",
    "print(f'Number of Negative tweets : {len(df_neg)}')"
   ]
  },
  {
   "cell_type": "code",
   "execution_count": 54,
   "metadata": {
    "ExecuteTime": {
     "end_time": "2020-07-10T16:40:25.836920Z",
     "start_time": "2020-07-10T16:40:25.824658Z"
    }
   },
   "outputs": [
    {
     "data": {
      "text/html": [
       "<div>\n",
       "<style scoped>\n",
       "    .dataframe tbody tr th:only-of-type {\n",
       "        vertical-align: middle;\n",
       "    }\n",
       "\n",
       "    .dataframe tbody tr th {\n",
       "        vertical-align: top;\n",
       "    }\n",
       "\n",
       "    .dataframe thead th {\n",
       "        text-align: right;\n",
       "    }\n",
       "</style>\n",
       "<table border=\"1\" class=\"dataframe\">\n",
       "  <thead>\n",
       "    <tr style=\"text-align: right;\">\n",
       "      <th></th>\n",
       "      <th>name</th>\n",
       "      <th>time</th>\n",
       "      <th>tweet</th>\n",
       "      <th>sentiment</th>\n",
       "    </tr>\n",
       "  </thead>\n",
       "  <tbody>\n",
       "    <tr>\n",
       "      <th>7</th>\n",
       "      <td>Sensei 🍥</td>\n",
       "      <td>2020-07-04 23:21:24</td>\n",
       "      <td>@SenseiTheShifu @akuuwa_camcam anime isn't out...</td>\n",
       "      <td>-0.625000</td>\n",
       "    </tr>\n",
       "    <tr>\n",
       "      <th>18</th>\n",
       "      <td>Rojo</td>\n",
       "      <td>2020-07-04 21:44:51</td>\n",
       "      <td>@Crunchyroll Sounds like Solo leveling lmao, t...</td>\n",
       "      <td>-0.050000</td>\n",
       "    </tr>\n",
       "    <tr>\n",
       "      <th>21</th>\n",
       "      <td>Dec19th♐️</td>\n",
       "      <td>2020-07-04 20:28:43</td>\n",
       "      <td>If you haven’t read solo leveling you def miss...</td>\n",
       "      <td>-0.200000</td>\n",
       "    </tr>\n",
       "    <tr>\n",
       "      <th>22</th>\n",
       "      <td>BΛBӨ⁷</td>\n",
       "      <td>2020-07-04 20:16:56</td>\n",
       "      <td>Still no new Solo Leveling https://t.co/xyYtYQ...</td>\n",
       "      <td>-0.068182</td>\n",
       "    </tr>\n",
       "    <tr>\n",
       "      <th>23</th>\n",
       "      <td>Kwurky</td>\n",
       "      <td>2020-07-04 19:46:46</td>\n",
       "      <td>Is there a slow leveling toggle I keep missing...</td>\n",
       "      <td>-0.250000</td>\n",
       "    </tr>\n",
       "    <tr>\n",
       "      <th>25</th>\n",
       "      <td>Boa Hancock 🇰🇳🇯🇲</td>\n",
       "      <td>2020-07-04 19:22:39</td>\n",
       "      <td>The way I just play solo so I avoid this becau...</td>\n",
       "      <td>-0.145833</td>\n",
       "    </tr>\n",
       "    <tr>\n",
       "      <th>34</th>\n",
       "      <td>Nanawoo</td>\n",
       "      <td>2020-07-04 17:58:44</td>\n",
       "      <td>@olidelly The leveling process is rough yeah b...</td>\n",
       "      <td>-0.100000</td>\n",
       "    </tr>\n",
       "    <tr>\n",
       "      <th>38</th>\n",
       "      <td>🌈 capu 🌈</td>\n",
       "      <td>2020-07-04 17:33:39</td>\n",
       "      <td>fuck it I'm gonna read solo leveling all over ...</td>\n",
       "      <td>-0.400000</td>\n",
       "    </tr>\n",
       "    <tr>\n",
       "      <th>53</th>\n",
       "      <td>Kinard Kujo</td>\n",
       "      <td>2020-07-04 14:36:26</td>\n",
       "      <td>@cheflord242 Solo leveling hard son</td>\n",
       "      <td>-0.291667</td>\n",
       "    </tr>\n",
       "    <tr>\n",
       "      <th>56</th>\n",
       "      <td>Luffy Strawhat Ninja</td>\n",
       "      <td>2020-07-04 13:35:13</td>\n",
       "      <td>Liked on YouTube: [Solo Leveling MV] Hunter ht...</td>\n",
       "      <td>-0.075000</td>\n",
       "    </tr>\n",
       "    <tr>\n",
       "      <th>62</th>\n",
       "      <td>𝓝𝔂𝓪 • #𝓚𝓱𝓾𝓷𝓑𝓪𝓶 crw: One Punch Man</td>\n",
       "      <td>2020-07-04 12:45:21</td>\n",
       "      <td>- Overlord LN\\n- Solo Leveling LN\\n- The King'...</td>\n",
       "      <td>-0.300000</td>\n",
       "    </tr>\n",
       "    <tr>\n",
       "      <th>67</th>\n",
       "      <td>Kiki</td>\n",
       "      <td>2020-07-04 11:58:19</td>\n",
       "      <td>reading solo leveling again &amp;gt; doing nth\\n\\n...</td>\n",
       "      <td>-0.300000</td>\n",
       "    </tr>\n",
       "    <tr>\n",
       "      <th>85</th>\n",
       "      <td>Name</td>\n",
       "      <td>2020-07-04 07:55:04</td>\n",
       "      <td>@HANJlSUNGS Solo leveling! Sorry to bother but...</td>\n",
       "      <td>-0.150000</td>\n",
       "    </tr>\n",
       "    <tr>\n",
       "      <th>107</th>\n",
       "      <td>a‼| cw: saiki k szn 1|KITA DAY</td>\n",
       "      <td>2020-07-04 04:05:52</td>\n",
       "      <td>@imisskurooo the first one is from \"solo level...</td>\n",
       "      <td>-0.012500</td>\n",
       "    </tr>\n",
       "    <tr>\n",
       "      <th>111</th>\n",
       "      <td>𝐊𝐡𝐮𝐧🌻⁷</td>\n",
       "      <td>2020-07-04 03:32:56</td>\n",
       "      <td>I just want to say past me yeasterday is disgu...</td>\n",
       "      <td>-0.183333</td>\n",
       "    </tr>\n",
       "    <tr>\n",
       "      <th>123</th>\n",
       "      <td>🎚️🎛️</td>\n",
       "      <td>2020-07-04 00:42:04</td>\n",
       "      <td>@Gordzdeadline Yeah dawg. Solo Leveling is insane</td>\n",
       "      <td>-1.000000</td>\n",
       "    </tr>\n",
       "    <tr>\n",
       "      <th>134</th>\n",
       "      <td>a</td>\n",
       "      <td>2020-07-04 00:16:29</td>\n",
       "      <td>IDJSNDKCKDHSH I CLICKED THE WRONG LINK AND SAW...</td>\n",
       "      <td>-0.250000</td>\n",
       "    </tr>\n",
       "    <tr>\n",
       "      <th>138</th>\n",
       "      <td>Nenoeil</td>\n",
       "      <td>2020-07-03 23:31:52</td>\n",
       "      <td>@inconuu000 Todag, Darwin's game, Solo Leveling</td>\n",
       "      <td>-0.400000</td>\n",
       "    </tr>\n",
       "    <tr>\n",
       "      <th>178</th>\n",
       "      <td>Heavenly Demon</td>\n",
       "      <td>2020-07-03 17:21:59</td>\n",
       "      <td>@GoldenBalmung After i read solo leveling &amp;amp...</td>\n",
       "      <td>-0.500000</td>\n",
       "    </tr>\n",
       "    <tr>\n",
       "      <th>185</th>\n",
       "      <td>Mr Curious</td>\n",
       "      <td>2020-07-03 16:33:44</td>\n",
       "      <td>@GinFrecess @lssbobby @25thKiichi Fab, Black L...</td>\n",
       "      <td>-0.083333</td>\n",
       "    </tr>\n",
       "    <tr>\n",
       "      <th>195</th>\n",
       "      <td>🇰🇭 - 🇨🇳陳達仁 - 🇰🇷다렌툼</td>\n",
       "      <td>2020-07-03 15:37:22</td>\n",
       "      <td>If you guys like Solo Leveling, look at Tomb R...</td>\n",
       "      <td>-0.350000</td>\n",
       "    </tr>\n",
       "    <tr>\n",
       "      <th>208</th>\n",
       "      <td>Luffy Strawhat Ninja</td>\n",
       "      <td>2020-07-03 13:35:06</td>\n",
       "      <td>Liked on YouTube: [MMV] Solo Leveling | The Ph...</td>\n",
       "      <td>-0.075000</td>\n",
       "    </tr>\n",
       "    <tr>\n",
       "      <th>219</th>\n",
       "      <td>donnn</td>\n",
       "      <td>2020-07-03 11:11:30</td>\n",
       "      <td>Wooo boy, have I been missin' out on Solo Leve...</td>\n",
       "      <td>-0.166667</td>\n",
       "    </tr>\n",
       "    <tr>\n",
       "      <th>246</th>\n",
       "      <td>𝕷𝖚𝖈𝖐𝖎</td>\n",
       "      <td>2020-07-03 06:40:00</td>\n",
       "      <td>@cakepattycake_ Ight maybe one day ill check i...</td>\n",
       "      <td>-0.312500</td>\n",
       "    </tr>\n",
       "    <tr>\n",
       "      <th>251</th>\n",
       "      <td>rissa</td>\n",
       "      <td>2020-07-03 05:42:14</td>\n",
       "      <td>if i made a thread of jinwoo from solo levelin...</td>\n",
       "      <td>-0.187500</td>\n",
       "    </tr>\n",
       "    <tr>\n",
       "      <th>259</th>\n",
       "      <td>Alex-senpai: BLM forever and always</td>\n",
       "      <td>2020-07-03 04:20:43</td>\n",
       "      <td>@MightyBean_ God of Highschool a banger, Lore ...</td>\n",
       "      <td>-0.200000</td>\n",
       "    </tr>\n",
       "    <tr>\n",
       "      <th>263</th>\n",
       "      <td>KRNG AK 🇯🇲</td>\n",
       "      <td>2020-07-03 03:52:44</td>\n",
       "      <td>@GodWolfZ @TheOceaneOpz @kruzer @Akyeret ngl i...</td>\n",
       "      <td>-0.200000</td>\n",
       "    </tr>\n",
       "    <tr>\n",
       "      <th>264</th>\n",
       "      <td>Allen West</td>\n",
       "      <td>2020-07-03 03:48:29</td>\n",
       "      <td>@yasmontie I think Solo Leveling is alot short...</td>\n",
       "      <td>-0.062500</td>\n",
       "    </tr>\n",
       "    <tr>\n",
       "      <th>277</th>\n",
       "      <td>Bleach_Bae</td>\n",
       "      <td>2020-07-03 00:28:02</td>\n",
       "      <td>HE SAID THIS SHIT SO COLD LIKE \\n\\nMYHYYYHHCUF...</td>\n",
       "      <td>-0.600000</td>\n",
       "    </tr>\n",
       "    <tr>\n",
       "      <th>297</th>\n",
       "      <td>Moose</td>\n",
       "      <td>2020-07-02 21:26:43</td>\n",
       "      <td>@aibunv smooch ily miss you too hope all is we...</td>\n",
       "      <td>-0.100000</td>\n",
       "    </tr>\n",
       "    <tr>\n",
       "      <th>312</th>\n",
       "      <td>猫</td>\n",
       "      <td>2020-07-02 18:52:45</td>\n",
       "      <td>I still hate this bitch from Solo Leveling. ht...</td>\n",
       "      <td>-0.800000</td>\n",
       "    </tr>\n",
       "    <tr>\n",
       "      <th>332</th>\n",
       "      <td>hiyori</td>\n",
       "      <td>2020-07-02 16:06:11</td>\n",
       "      <td>Omg why does everyone compare every korean web...</td>\n",
       "      <td>-0.800000</td>\n",
       "    </tr>\n",
       "    <tr>\n",
       "      <th>333</th>\n",
       "      <td>Captain 🎸</td>\n",
       "      <td>2020-07-02 16:01:44</td>\n",
       "      <td>*starts reading ORV LN*\\n*look at the amount o...</td>\n",
       "      <td>-0.181250</td>\n",
       "    </tr>\n",
       "    <tr>\n",
       "      <th>338</th>\n",
       "      <td>Teddy (currently reading Tower of God)</td>\n",
       "      <td>2020-07-02 15:17:03</td>\n",
       "      <td>@Saewaeh_Batman Yep. Fuck solo leveling, I’m r...</td>\n",
       "      <td>-0.400000</td>\n",
       "    </tr>\n",
       "    <tr>\n",
       "      <th>341</th>\n",
       "      <td>𝑯𝒖𝒏𝒕𝒆𝒓𝒔 𝑨𝒔𝒔𝒐𝒄𝒊𝒂𝒕𝒊𝒐𝒏 ⓅⓄⒹⒸⒶⓈⓉ</td>\n",
       "      <td>2020-07-02 15:00:19</td>\n",
       "      <td>The solo leveling community on youtube is abou...</td>\n",
       "      <td>-0.100000</td>\n",
       "    </tr>\n",
       "  </tbody>\n",
       "</table>\n",
       "</div>"
      ],
      "text/plain": [
       "                                       name                time  \\\n",
       "7                                  Sensei 🍥 2020-07-04 23:21:24   \n",
       "18                                     Rojo 2020-07-04 21:44:51   \n",
       "21                                Dec19th♐️ 2020-07-04 20:28:43   \n",
       "22                                    BΛBӨ⁷ 2020-07-04 20:16:56   \n",
       "23                                   Kwurky 2020-07-04 19:46:46   \n",
       "25                         Boa Hancock 🇰🇳🇯🇲 2020-07-04 19:22:39   \n",
       "34                                  Nanawoo 2020-07-04 17:58:44   \n",
       "38                                 🌈 capu 🌈 2020-07-04 17:33:39   \n",
       "53                              Kinard Kujo 2020-07-04 14:36:26   \n",
       "56                     Luffy Strawhat Ninja 2020-07-04 13:35:13   \n",
       "62        𝓝𝔂𝓪 • #𝓚𝓱𝓾𝓷𝓑𝓪𝓶 crw: One Punch Man 2020-07-04 12:45:21   \n",
       "67                                     Kiki 2020-07-04 11:58:19   \n",
       "85                                     Name 2020-07-04 07:55:04   \n",
       "107          a‼| cw: saiki k szn 1|KITA DAY 2020-07-04 04:05:52   \n",
       "111                                  𝐊𝐡𝐮𝐧🌻⁷ 2020-07-04 03:32:56   \n",
       "123                                    🎚️🎛️ 2020-07-04 00:42:04   \n",
       "134                                       a 2020-07-04 00:16:29   \n",
       "138                                 Nenoeil 2020-07-03 23:31:52   \n",
       "178                          Heavenly Demon 2020-07-03 17:21:59   \n",
       "185                              Mr Curious 2020-07-03 16:33:44   \n",
       "195                      🇰🇭 - 🇨🇳陳達仁 - 🇰🇷다렌툼 2020-07-03 15:37:22   \n",
       "208                    Luffy Strawhat Ninja 2020-07-03 13:35:06   \n",
       "219                                   donnn 2020-07-03 11:11:30   \n",
       "246                                   𝕷𝖚𝖈𝖐𝖎 2020-07-03 06:40:00   \n",
       "251                                   rissa 2020-07-03 05:42:14   \n",
       "259     Alex-senpai: BLM forever and always 2020-07-03 04:20:43   \n",
       "263                              KRNG AK 🇯🇲 2020-07-03 03:52:44   \n",
       "264                              Allen West 2020-07-03 03:48:29   \n",
       "277                              Bleach_Bae 2020-07-03 00:28:02   \n",
       "297                                   Moose 2020-07-02 21:26:43   \n",
       "312                                       猫 2020-07-02 18:52:45   \n",
       "332                                  hiyori 2020-07-02 16:06:11   \n",
       "333                               Captain 🎸 2020-07-02 16:01:44   \n",
       "338  Teddy (currently reading Tower of God) 2020-07-02 15:17:03   \n",
       "341             𝑯𝒖𝒏𝒕𝒆𝒓𝒔 𝑨𝒔𝒔𝒐𝒄𝒊𝒂𝒕𝒊𝒐𝒏 ⓅⓄⒹⒸⒶⓈⓉ 2020-07-02 15:00:19   \n",
       "\n",
       "                                                 tweet  sentiment  \n",
       "7    @SenseiTheShifu @akuuwa_camcam anime isn't out...  -0.625000  \n",
       "18   @Crunchyroll Sounds like Solo leveling lmao, t...  -0.050000  \n",
       "21   If you haven’t read solo leveling you def miss...  -0.200000  \n",
       "22   Still no new Solo Leveling https://t.co/xyYtYQ...  -0.068182  \n",
       "23   Is there a slow leveling toggle I keep missing...  -0.250000  \n",
       "25   The way I just play solo so I avoid this becau...  -0.145833  \n",
       "34   @olidelly The leveling process is rough yeah b...  -0.100000  \n",
       "38   fuck it I'm gonna read solo leveling all over ...  -0.400000  \n",
       "53                 @cheflord242 Solo leveling hard son  -0.291667  \n",
       "56   Liked on YouTube: [Solo Leveling MV] Hunter ht...  -0.075000  \n",
       "62   - Overlord LN\\n- Solo Leveling LN\\n- The King'...  -0.300000  \n",
       "67   reading solo leveling again &gt; doing nth\\n\\n...  -0.300000  \n",
       "85   @HANJlSUNGS Solo leveling! Sorry to bother but...  -0.150000  \n",
       "107  @imisskurooo the first one is from \"solo level...  -0.012500  \n",
       "111  I just want to say past me yeasterday is disgu...  -0.183333  \n",
       "123  @Gordzdeadline Yeah dawg. Solo Leveling is insane  -1.000000  \n",
       "134  IDJSNDKCKDHSH I CLICKED THE WRONG LINK AND SAW...  -0.250000  \n",
       "138    @inconuu000 Todag, Darwin's game, Solo Leveling  -0.400000  \n",
       "178  @GoldenBalmung After i read solo leveling &amp...  -0.500000  \n",
       "185  @GinFrecess @lssbobby @25thKiichi Fab, Black L...  -0.083333  \n",
       "195  If you guys like Solo Leveling, look at Tomb R...  -0.350000  \n",
       "208  Liked on YouTube: [MMV] Solo Leveling | The Ph...  -0.075000  \n",
       "219  Wooo boy, have I been missin' out on Solo Leve...  -0.166667  \n",
       "246  @cakepattycake_ Ight maybe one day ill check i...  -0.312500  \n",
       "251  if i made a thread of jinwoo from solo levelin...  -0.187500  \n",
       "259  @MightyBean_ God of Highschool a banger, Lore ...  -0.200000  \n",
       "263  @GodWolfZ @TheOceaneOpz @kruzer @Akyeret ngl i...  -0.200000  \n",
       "264  @yasmontie I think Solo Leveling is alot short...  -0.062500  \n",
       "277  HE SAID THIS SHIT SO COLD LIKE \\n\\nMYHYYYHHCUF...  -0.600000  \n",
       "297  @aibunv smooch ily miss you too hope all is we...  -0.100000  \n",
       "312  I still hate this bitch from Solo Leveling. ht...  -0.800000  \n",
       "332  Omg why does everyone compare every korean web...  -0.800000  \n",
       "333  *starts reading ORV LN*\\n*look at the amount o...  -0.181250  \n",
       "338  @Saewaeh_Batman Yep. Fuck solo leveling, I’m r...  -0.400000  \n",
       "341  The solo leveling community on youtube is abou...  -0.100000  "
      ]
     },
     "execution_count": 54,
     "metadata": {},
     "output_type": "execute_result"
    }
   ],
   "source": [
    "df_neg"
   ]
  },
  {
   "cell_type": "markdown",
   "metadata": {},
   "source": [
    "# Botometer"
   ]
  },
  {
   "cell_type": "markdown",
   "metadata": {},
   "source": [
    "Botometer is a way to check if a twitter account is likey a bot or a human.\n",
    "\n",
    "The threshold score is anything more then 0.5"
   ]
  },
  {
   "cell_type": "code",
   "execution_count": 121,
   "metadata": {
    "ExecuteTime": {
     "end_time": "2020-07-21T17:47:38.017284Z",
     "start_time": "2020-07-21T17:47:38.008940Z"
    }
   },
   "outputs": [],
   "source": [
    "twitter_app_auth = {\n",
    "                    'consumer_key': consumer_key,\n",
    "                    'consumer_secret': consumer_secret,\n",
    "                    'access_token': access_token,\n",
    "                    'access_token_secret': access_token_secret\n",
    "                   }\n",
    "botometer_api_url = \"https://botometer-pro.p.rapidapi.com\"\n",
    "\n",
    "bom = Botometer(\n",
    "                wait_on_ratelimit = True,\n",
    "                botometer_api_url=botometer_api_url,\n",
    "                rapidapi_key = rapidapi_key,\n",
    "                **twitter_app_auth)"
   ]
  },
  {
   "cell_type": "code",
   "execution_count": 122,
   "metadata": {
    "ExecuteTime": {
     "end_time": "2020-07-21T17:47:47.801190Z",
     "start_time": "2020-07-21T17:47:38.868483Z"
    }
   },
   "outputs": [
    {
     "data": {
      "text/plain": [
       "{'cap': {'english': 0.032183220269696264, 'universal': 0.012907437350993261},\n",
       " 'categories': {'content': 0.09728515292570794,\n",
       "  'friend': 0.27037007428252813,\n",
       "  'network': 0.34666299754087365,\n",
       "  'sentiment': 0.18409613537355868,\n",
       "  'temporal': 0.5682806832825182,\n",
       "  'user': 0.07248797510053138},\n",
       " 'display_scores': {'content': 0.5,\n",
       "  'english': 1.6,\n",
       "  'friend': 1.4,\n",
       "  'network': 1.7,\n",
       "  'sentiment': 0.9,\n",
       "  'temporal': 2.8,\n",
       "  'universal': 1.0,\n",
       "  'user': 0.4},\n",
       " 'scores': {'english': 0.32230602190830704, 'universal': 0.19466773728450495},\n",
       " 'user': {'id_str': '145873444', 'screen_name': 'kiki'}}"
      ]
     },
     "execution_count": 122,
     "metadata": {},
     "output_type": "execute_result"
    }
   ],
   "source": [
    "result = bom.check_account('@Kiki')\n",
    "result"
   ]
  },
  {
   "cell_type": "code",
   "execution_count": 102,
   "metadata": {
    "ExecuteTime": {
     "end_time": "2020-07-11T06:07:10.730422Z",
     "start_time": "2020-07-11T06:07:09.338837Z"
    }
   },
   "outputs": [
    {
     "data": {
      "text/plain": [
       "{'cap': {'english': 0.8469348665516686, 'universal': 0.7936717511946978},\n",
       " 'categories': {'content': 0.9705383630789866,\n",
       "  'friend': 0.8436115245501081,\n",
       "  'network': 0.8542226523970341,\n",
       "  'sentiment': 0.9668243506947798,\n",
       "  'temporal': 0.9154774806186731,\n",
       "  'user': 0.7884215012480346},\n",
       " 'display_scores': {'content': 4.9,\n",
       "  'english': 4.6,\n",
       "  'friend': 4.2,\n",
       "  'network': 4.3,\n",
       "  'sentiment': 4.8,\n",
       "  'temporal': 4.6,\n",
       "  'universal': 4.6,\n",
       "  'user': 3.9},\n",
       " 'scores': {'english': 0.9298669453061029, 'universal': 0.9206457832445352},\n",
       " 'user': {'id_str': '1237048771919446018', 'screen_name': 'sdman3311'}}"
      ]
     },
     "execution_count": 102,
     "metadata": {},
     "output_type": "execute_result"
    }
   ],
   "source": [
    "result2 = bom.check_account('sdman3311')\n",
    "result2"
   ]
  },
  {
   "cell_type": "code",
   "execution_count": 115,
   "metadata": {
    "ExecuteTime": {
     "end_time": "2020-07-13T18:40:36.698378Z",
     "start_time": "2020-07-13T18:40:34.826113Z"
    }
   },
   "outputs": [
    {
     "data": {
      "text/plain": [
       "{'cap': {'english': 0.8469348665516686, 'universal': 0.7936717511946978},\n",
       " 'categories': {'content': 0.9705383630789866,\n",
       "  'friend': 0.8522428331103449,\n",
       "  'network': 0.8542226523970341,\n",
       "  'sentiment': 0.9668243506947798,\n",
       "  'temporal': 0.9154774806186731,\n",
       "  'user': 0.7884215012480346},\n",
       " 'display_scores': {'content': 4.9,\n",
       "  'english': 4.6,\n",
       "  'friend': 4.3,\n",
       "  'network': 4.3,\n",
       "  'sentiment': 4.8,\n",
       "  'temporal': 4.6,\n",
       "  'universal': 4.6,\n",
       "  'user': 3.9},\n",
       " 'scores': {'english': 0.9298669453061029, 'universal': 0.9206457832445352},\n",
       " 'user': {'id_str': '1237048771919446018', 'screen_name': 'sdman3311'}}"
      ]
     },
     "execution_count": 115,
     "metadata": {},
     "output_type": "execute_result"
    }
   ],
   "source": [
    "bom.check_account(df.name)"
   ]
  },
  {
   "cell_type": "code",
   "execution_count": 123,
   "metadata": {
    "ExecuteTime": {
     "end_time": "2020-07-21T17:48:12.030900Z",
     "start_time": "2020-07-21T17:47:51.946237Z"
    }
   },
   "outputs": [
    {
     "ename": "TweepError",
     "evalue": "[{'code': 34, 'message': 'Sorry, that page does not exist.'}]",
     "output_type": "error",
     "traceback": [
      "\u001b[0;31m---------------------------------------------------------------------------\u001b[0m",
      "\u001b[0;31mTweepError\u001b[0m                                Traceback (most recent call last)",
      "\u001b[0;32m<ipython-input-123-6ee44c149f53>\u001b[0m in \u001b[0;36m<module>\u001b[0;34m\u001b[0m\n\u001b[1;32m      1\u001b[0m \u001b[0;32mfor\u001b[0m \u001b[0mx\u001b[0m \u001b[0;32min\u001b[0m \u001b[0mdf_neg\u001b[0m\u001b[0;34m.\u001b[0m\u001b[0mname\u001b[0m\u001b[0;34m:\u001b[0m\u001b[0;34m\u001b[0m\u001b[0;34m\u001b[0m\u001b[0m\n\u001b[0;32m----> 2\u001b[0;31m     \u001b[0mbom\u001b[0m\u001b[0;34m.\u001b[0m\u001b[0mcheck_account\u001b[0m\u001b[0;34m(\u001b[0m\u001b[0;34mf'{x}'\u001b[0m\u001b[0;34m)\u001b[0m\u001b[0;34m\u001b[0m\u001b[0;34m\u001b[0m\u001b[0m\n\u001b[0m",
      "\u001b[0;32m//anaconda3/lib/python3.7/site-packages/botometer/__init__.py\u001b[0m in \u001b[0;36mcheck_account\u001b[0;34m(self, user, full_user_object)\u001b[0m\n\u001b[1;32m    124\u001b[0m     \u001b[0;32mdef\u001b[0m \u001b[0mcheck_account\u001b[0m\u001b[0;34m(\u001b[0m\u001b[0mself\u001b[0m\u001b[0;34m,\u001b[0m \u001b[0muser\u001b[0m\u001b[0;34m,\u001b[0m \u001b[0mfull_user_object\u001b[0m\u001b[0;34m=\u001b[0m\u001b[0;32mFalse\u001b[0m\u001b[0;34m)\u001b[0m\u001b[0;34m:\u001b[0m\u001b[0;34m\u001b[0m\u001b[0;34m\u001b[0m\u001b[0m\n\u001b[1;32m    125\u001b[0m         payload = self._get_twitter_data(user,\n\u001b[0;32m--> 126\u001b[0;31m                                          full_user_object=full_user_object)\n\u001b[0m\u001b[1;32m    127\u001b[0m         \u001b[0;32mif\u001b[0m \u001b[0;32mnot\u001b[0m \u001b[0mpayload\u001b[0m\u001b[0;34m[\u001b[0m\u001b[0;34m'timeline'\u001b[0m\u001b[0;34m]\u001b[0m\u001b[0;34m:\u001b[0m\u001b[0;34m\u001b[0m\u001b[0;34m\u001b[0m\u001b[0m\n\u001b[1;32m    128\u001b[0m             \u001b[0;32mraise\u001b[0m \u001b[0mNoTimelineError\u001b[0m\u001b[0;34m(\u001b[0m\u001b[0mpayload\u001b[0m\u001b[0;34m[\u001b[0m\u001b[0;34m'user'\u001b[0m\u001b[0;34m]\u001b[0m\u001b[0;34m)\u001b[0m\u001b[0;34m\u001b[0m\u001b[0;34m\u001b[0m\u001b[0m\n",
      "\u001b[0;32m//anaconda3/lib/python3.7/site-packages/botometer/__init__.py\u001b[0m in \u001b[0;36m_get_twitter_data\u001b[0;34m(self, user, full_user_object)\u001b[0m\n\u001b[1;32m     76\u001b[0m                     \u001b[0muser\u001b[0m\u001b[0;34m,\u001b[0m\u001b[0;34m\u001b[0m\u001b[0;34m\u001b[0m\u001b[0m\n\u001b[1;32m     77\u001b[0m                     \u001b[0minclude_rts\u001b[0m\u001b[0;34m=\u001b[0m\u001b[0;32mTrue\u001b[0m\u001b[0;34m,\u001b[0m\u001b[0;34m\u001b[0m\u001b[0;34m\u001b[0m\u001b[0m\n\u001b[0;32m---> 78\u001b[0;31m                     \u001b[0mcount\u001b[0m\u001b[0;34m=\u001b[0m\u001b[0;36m200\u001b[0m\u001b[0;34m,\u001b[0m\u001b[0;34m\u001b[0m\u001b[0;34m\u001b[0m\u001b[0m\n\u001b[0m\u001b[1;32m     79\u001b[0m                     )\n\u001b[1;32m     80\u001b[0m \u001b[0;34m\u001b[0m\u001b[0m\n",
      "\u001b[0;32m//anaconda3/lib/python3.7/site-packages/tweepy/binder.py\u001b[0m in \u001b[0;36m_call\u001b[0;34m(*args, **kwargs)\u001b[0m\n\u001b[1;32m    248\u001b[0m                 \u001b[0;32mreturn\u001b[0m \u001b[0mmethod\u001b[0m\u001b[0;34m\u001b[0m\u001b[0;34m\u001b[0m\u001b[0m\n\u001b[1;32m    249\u001b[0m             \u001b[0;32melse\u001b[0m\u001b[0;34m:\u001b[0m\u001b[0;34m\u001b[0m\u001b[0;34m\u001b[0m\u001b[0m\n\u001b[0;32m--> 250\u001b[0;31m                 \u001b[0;32mreturn\u001b[0m \u001b[0mmethod\u001b[0m\u001b[0;34m.\u001b[0m\u001b[0mexecute\u001b[0m\u001b[0;34m(\u001b[0m\u001b[0;34m)\u001b[0m\u001b[0;34m\u001b[0m\u001b[0;34m\u001b[0m\u001b[0m\n\u001b[0m\u001b[1;32m    251\u001b[0m         \u001b[0;32mfinally\u001b[0m\u001b[0;34m:\u001b[0m\u001b[0;34m\u001b[0m\u001b[0;34m\u001b[0m\u001b[0m\n\u001b[1;32m    252\u001b[0m             \u001b[0mmethod\u001b[0m\u001b[0;34m.\u001b[0m\u001b[0msession\u001b[0m\u001b[0;34m.\u001b[0m\u001b[0mclose\u001b[0m\u001b[0;34m(\u001b[0m\u001b[0;34m)\u001b[0m\u001b[0;34m\u001b[0m\u001b[0;34m\u001b[0m\u001b[0m\n",
      "\u001b[0;32m//anaconda3/lib/python3.7/site-packages/tweepy/binder.py\u001b[0m in \u001b[0;36mexecute\u001b[0;34m(self)\u001b[0m\n\u001b[1;32m    231\u001b[0m                     \u001b[0;32mraise\u001b[0m \u001b[0mRateLimitError\u001b[0m\u001b[0;34m(\u001b[0m\u001b[0merror_msg\u001b[0m\u001b[0;34m,\u001b[0m \u001b[0mresp\u001b[0m\u001b[0;34m)\u001b[0m\u001b[0;34m\u001b[0m\u001b[0;34m\u001b[0m\u001b[0m\n\u001b[1;32m    232\u001b[0m                 \u001b[0;32melse\u001b[0m\u001b[0;34m:\u001b[0m\u001b[0;34m\u001b[0m\u001b[0;34m\u001b[0m\u001b[0m\n\u001b[0;32m--> 233\u001b[0;31m                     \u001b[0;32mraise\u001b[0m \u001b[0mTweepError\u001b[0m\u001b[0;34m(\u001b[0m\u001b[0merror_msg\u001b[0m\u001b[0;34m,\u001b[0m \u001b[0mresp\u001b[0m\u001b[0;34m,\u001b[0m \u001b[0mapi_code\u001b[0m\u001b[0;34m=\u001b[0m\u001b[0mapi_error_code\u001b[0m\u001b[0;34m)\u001b[0m\u001b[0;34m\u001b[0m\u001b[0;34m\u001b[0m\u001b[0m\n\u001b[0m\u001b[1;32m    234\u001b[0m \u001b[0;34m\u001b[0m\u001b[0m\n\u001b[1;32m    235\u001b[0m             \u001b[0;31m# Parse the response payload\u001b[0m\u001b[0;34m\u001b[0m\u001b[0;34m\u001b[0m\u001b[0;34m\u001b[0m\u001b[0m\n",
      "\u001b[0;31mTweepError\u001b[0m: [{'code': 34, 'message': 'Sorry, that page does not exist.'}]"
     ]
    }
   ],
   "source": [
    "for x in df_neg.name:\n",
    "    bom.check_account(f'{x}')"
   ]
  },
  {
   "cell_type": "code",
   "execution_count": null,
   "metadata": {},
   "outputs": [],
   "source": []
  }
 ],
 "metadata": {
  "kernelspec": {
   "display_name": "Python 3",
   "language": "python",
   "name": "python3"
  },
  "language_info": {
   "codemirror_mode": {
    "name": "ipython",
    "version": 3
   },
   "file_extension": ".py",
   "mimetype": "text/x-python",
   "name": "python",
   "nbconvert_exporter": "python",
   "pygments_lexer": "ipython3",
   "version": "3.7.3"
  },
  "toc": {
   "base_numbering": 1,
   "nav_menu": {},
   "number_sections": true,
   "sideBar": true,
   "skip_h1_title": false,
   "title_cell": "Table of Contents",
   "title_sidebar": "Contents",
   "toc_cell": false,
   "toc_position": {},
   "toc_section_display": true,
   "toc_window_display": false
  },
  "varInspector": {
   "cols": {
    "lenName": 16,
    "lenType": 16,
    "lenVar": 40
   },
   "kernels_config": {
    "python": {
     "delete_cmd_postfix": "",
     "delete_cmd_prefix": "del ",
     "library": "var_list.py",
     "varRefreshCmd": "print(var_dic_list())"
    },
    "r": {
     "delete_cmd_postfix": ") ",
     "delete_cmd_prefix": "rm(",
     "library": "var_list.r",
     "varRefreshCmd": "cat(var_dic_list()) "
    }
   },
   "types_to_exclude": [
    "module",
    "function",
    "builtin_function_or_method",
    "instance",
    "_Feature"
   ],
   "window_display": false
  }
 },
 "nbformat": 4,
 "nbformat_minor": 2
}
