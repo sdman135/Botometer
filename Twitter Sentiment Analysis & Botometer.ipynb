{
 "cells": [
  {
   "cell_type": "markdown",
   "metadata": {},
   "source": [
    "# Imports"
   ]
  },
  {
   "cell_type": "code",
   "execution_count": 5,
   "metadata": {
    "ExecuteTime": {
     "end_time": "2020-07-05T00:02:53.084354Z",
     "start_time": "2020-07-05T00:02:52.764736Z"
    }
   },
   "outputs": [],
   "source": [
    "import botometer\n",
    "import tweepy"
   ]
  },
  {
   "cell_type": "code",
   "execution_count": 26,
   "metadata": {
    "ExecuteTime": {
     "end_time": "2020-07-05T00:56:02.151491Z",
     "start_time": "2020-07-05T00:56:02.137644Z"
    },
    "scrolled": true
   },
   "outputs": [],
   "source": [
    "# Running file with my Twitter API keys\n",
    "%run config/config.py"
   ]
  },
  {
   "cell_type": "markdown",
   "metadata": {},
   "source": [
    "# API setup"
   ]
  },
  {
   "cell_type": "code",
   "execution_count": 10,
   "metadata": {
    "ExecuteTime": {
     "end_time": "2020-07-05T00:04:15.011217Z",
     "start_time": "2020-07-05T00:04:15.006754Z"
    }
   },
   "outputs": [],
   "source": [
    "# OAuthHandler instance , passing consumer API keys and Access tokens\n",
    "auth = tweepy.OAuthHandler(consumer_key, consumer_secret)\n",
    "auth.set_access_token(access_token,access_token_secret)"
   ]
  },
  {
   "cell_type": "code",
   "execution_count": 11,
   "metadata": {
    "ExecuteTime": {
     "end_time": "2020-07-05T00:07:48.406577Z",
     "start_time": "2020-07-05T00:07:48.403666Z"
    }
   },
   "outputs": [],
   "source": [
    "# Passing API method to OAuthHandler instance\n",
    "api = tweepy.API(auth)"
   ]
  },
  {
   "cell_type": "markdown",
   "metadata": {},
   "source": [
    "# Pulling Tweets"
   ]
  },
  {
   "cell_type": "code",
   "execution_count": 14,
   "metadata": {
    "ExecuteTime": {
     "end_time": "2020-07-05T00:21:16.506874Z",
     "start_time": "2020-07-05T00:21:16.501255Z"
    }
   },
   "outputs": [],
   "source": [
    "# function to query tweets containing the \"key_word\", limited to 1000 items\n",
    "\n",
    "def get_related_tweets(key_word):\n",
    "    \n",
    "    twitter_users = []\n",
    "    tweet_time = []\n",
    "    tweet_string = [] \n",
    "    \n",
    "    for tweet in tweepy.Cursor(api.search,q=key_word, count=1000).items(1000):\n",
    "            # Using orginal tweets not retweets\n",
    "            if (not tweet.retweeted) and ('RT @' not in tweet.text):\n",
    "                # Only using english tweets\n",
    "                if tweet.lang == \"en\":\n",
    "                    # Tweeter's username \n",
    "                    twitter_users.append(tweet.user.name)\n",
    "                    # Time tweet was created\n",
    "                    tweet_time.append(tweet.created_at)\n",
    "                    # Actual tweet\n",
    "                    tweet_string.append(tweet.text)\n",
    "                    print([tweet.user.name,tweet.created_at,tweet.text])\n",
    "    # Creating dataframe with desired info\n",
    "    df = pd.DataFrame({'name':twitter_users, 'time': tweet_time, 'tweet': tweet_string})\n",
    "    \n",
    "    return df"
   ]
  },
  {
   "cell_type": "code",
   "execution_count": 15,
   "metadata": {
    "ExecuteTime": {
     "end_time": "2020-07-05T00:25:49.671181Z",
     "start_time": "2020-07-05T00:25:42.974468Z"
    }
   },
   "outputs": [
    {
     "name": "stdout",
     "output_type": "stream",
     "text": [
      "['kevin nicolay', datetime.datetime(2020, 7, 5, 0, 25, 37), '@kayleighmcenany @realDonaldTrump And I will be one that will be there to stand with Donald Trump!!']\n",
      "['RealTruth05', datetime.datetime(2020, 7, 5, 0, 25, 37), '@itsJeffTiedrich Donald Trump is a sheltered, trust fund baby… He doesn’t know the first thing about fighting, or w… https://t.co/8atplbFvmj']\n",
      "['Christine Peace', datetime.datetime(2020, 7, 5, 0, 25, 35), '@Franz3456 @FLOTUS @POTUS @WhiteHouse Donald Trump would know, right?\\nHe loves those DICKtatorships.']\n",
      "['VICTORY', datetime.datetime(2020, 7, 5, 0, 25, 33), '@BangerBang2 👏⭐️⭐️⭐️😊THANK YOU FOR YOUR FOLLOW😊 ➽FINE WORK EXPOSING➽😠LIBERALS &amp; THE ESTABLISHMENT⬅︎😊➽🇺🇸✟✞GOD BLESS… https://t.co/gdHUcaIU5c']\n",
      "['Robert M Sanford', datetime.datetime(2020, 7, 5, 0, 25, 30), '@johnamick @KimJongOiler @SaraCarterDC Joe Biden\\'s \"mistakes\" are the exact same as Donald Trump\\'s.\\n\\nTrump impeache… https://t.co/TnWaTXURH2']\n",
      "['Jules Morgan', datetime.datetime(2020, 7, 5, 0, 25, 27), '@BexHope @atrupar It’s always public transit for downtown events. More people are coming out now that Donald Trump… https://t.co/TbypnDZlXS']\n",
      "['heroic dose', datetime.datetime(2020, 7, 5, 0, 25, 25), \"@charliekirk11 @realDonaldTrump Here's a pic of me and my close friend, Donald Trump.\"]\n",
      "['mary meglemre', datetime.datetime(2020, 7, 5, 0, 25, 22), 'Wow, at least Trump is telegraphing his punches... https://t.co/TGEigkKapp']\n",
      "['Winners Write History 🇺🇲', datetime.datetime(2020, 7, 5, 0, 25, 21), '@FoxInWolfs @minerfan_14 @bennyjohnson Again, Donald Trump is going to absolutely destroy him in the debates. \\n\\nPeo… https://t.co/PgIaFW13ni']\n",
      "['Mary E. Royal', datetime.datetime(2020, 7, 5, 0, 25, 20), '@marcorubio So you are talking about you,Mitch,Paul,Lindsey,and the head of the corrupt republican mob,Donald duck?… https://t.co/6p43zxJrVY']\n",
      "['Pauly', datetime.datetime(2020, 7, 5, 0, 25, 20), '@JoeBiden Donald Trump calls you \"sleepy Joe\" because everyone will be able to sleep at night during your presidency']\n",
      "['Z Bone', datetime.datetime(2020, 7, 5, 0, 25, 18), '@berry_mint12 @mmpadellan @realDonaldTrump Bradley’s content paid for by the campaign to re-elect Donald Trump...… https://t.co/RsENaaw1WM']\n",
      "['Greg Fann', datetime.datetime(2020, 7, 5, 0, 25, 14), '\"18 Republican states and President Donald Trump\\'s Justice Department have forced onto the docket this fall\"\\n\\nIt\\'s… https://t.co/g8dk6LJi1Q']\n",
      "['Antisocial Butterfly', datetime.datetime(2020, 7, 5, 0, 25, 14), 'Dark and divisive President Donald Trump:\\nWe will proclaim the ideals of the Declaration of Independence and we wil… https://t.co/divUKb54UT']\n",
      "[\"It's all a blur.\", datetime.datetime(2020, 7, 5, 0, 25, 13), 'The fact that this is even being talked about points to the need for his removal by whatever means necessary.  https://t.co/8ML6bs2dQ2']\n",
      "['Val rivera', datetime.datetime(2020, 7, 5, 0, 25, 10), \"Donald Trump Is Now 'America's No. 1 Traitor,' Says Veterans Group https://t.co/YR2LW7l9NS via @Yahoo\"]\n",
      "['Ray', datetime.datetime(2020, 7, 5, 0, 25, 9), 'Dawg am I trippen ? Let me kno i thought all that donald trump shit Was a Joke']\n",
      "['CR', datetime.datetime(2020, 7, 5, 0, 25, 7), '@JoeJose83654039 @SharikaSoal84 Got to get the before 2002 photos before trump band him and was the only one who te… https://t.co/IJKJKGIdus']\n",
      "['DEY-G', datetime.datetime(2020, 7, 5, 0, 25, 6), 'Donald Trump on the Eric Andre show would be the greatest thing ever.']\n",
      "['Linds W', datetime.datetime(2020, 7, 5, 0, 25, 3), '@GeorgeResch so disappointed to see a like on Donald Trump Jrs’ post. #TanksGoodNews #FourthofJuly2020 #America https://t.co/giLplEPiRw']\n",
      "['Pedro Figueroa', datetime.datetime(2020, 7, 5, 0, 25, 2), 'Just saw the most distasteful and opportunistic campaign commercial by Donald Trump in NBC. We’re voting you out of… https://t.co/XhQIzkSd96']\n",
      "['Judy Clark', datetime.datetime(2020, 7, 5, 0, 24, 59), '@JeffTheGK @realDonaldTrump Donald J Trump, of course.']\n",
      "['☁︎𝑜𝑐𝑒𝑎𝑛☁︎', datetime.datetime(2020, 7, 5, 0, 24, 59), '@0ClownFish0 Donald Trump’s children']\n",
      "['WarMonitor', datetime.datetime(2020, 7, 5, 0, 24, 55), 'Unlikely, but maybe possible. \\n\\nhttps://t.co/okVlCGeWbQ']\n",
      "['DBIGZ 🇺🇸🥈 🥉 Promoted by Patriots🇺🇸', datetime.datetime(2020, 7, 5, 0, 24, 53), '@maggiewise111 @jimscileppi @AnalyticalHeart @marc_Q1 @KarenLadybug1 @Toddscrypto @RoeSroe794120 @tslanning… https://t.co/E3gtTez11e']\n",
      "['ly_cong', datetime.datetime(2020, 7, 5, 0, 24, 51), '@realDonaldTrump Mr. President Donald j. Trump wishes you good health against vandals']\n",
      "['Lin Wood', datetime.datetime(2020, 7, 5, 0, 24, 48), '@GOPChairwoman @realDonaldTrump 3 Presidents:\\n\\nGeorge Washington led the fight for our country to be free. \\n\\nAbraha… https://t.co/U5guBLF8NI']\n",
      "['Allyson Ford', datetime.datetime(2020, 7, 5, 0, 24, 48), '\"Ms. Trump claimed that she consented to the agreement — and signed away her interests in several family properties… https://t.co/9tPw0GQ9gB']\n",
      "['Citizen Action Now', datetime.datetime(2020, 7, 5, 0, 24, 46), 'I wonder how many black people are dying this weekend in Chicago. I wonder what the Obamas are doing this weekend?… https://t.co/EswMFEl4Sa']\n",
      "['Richard Fost', datetime.datetime(2020, 7, 5, 0, 24, 41), '@esglaude @realDonaldTrump Joy Reid nailed it in June 2019 when a guest on Deadline White House and said “Donald Tr… https://t.co/LdXt1egoDL']\n",
      "['Debbie Polak', datetime.datetime(2020, 7, 5, 0, 24, 37), '@polak_debbie Happy Independence Day to @realDonaldTrump @RobertKennedyJr @GenFlynn @EricTrump and to all my follow… https://t.co/lZmDHHA36Z']\n",
      "['Willow Silverhawk', datetime.datetime(2020, 7, 5, 0, 24, 37), '@WhiteHouse Leadership: Whatever happens, you’re responsible. If it doesn’t happen, you’re responsible.\\n\\n— Donald J… https://t.co/HiulhCkfZO']\n",
      "['estrella ✨🌙', datetime.datetime(2020, 7, 5, 0, 24, 33), 'President Donald Trump or Congress : To close down the military base Fort Hood - Sign the Petition! https://t.co/1x0S6xhI7g via @Change']\n",
      "['alyssa', datetime.datetime(2020, 7, 5, 0, 24, 32), 'i mean this from the bottom of my heart: donald trump is a big stupid dumb dumb and so are the people who support him ❤️']\n",
      "['JAFaraglioni', datetime.datetime(2020, 7, 5, 0, 24, 30), '@DeAnna4Congress If you are a fan of The Real Donald Trump, please get therapy. You have lost all touch with Truth,… https://t.co/PJhtZL7C1t']\n",
      "['Sean Doherty', datetime.datetime(2020, 7, 5, 0, 24, 30), 'I think @david_j_roth nailed it when he called his brain “a gilded bowl of rotten nectarines.”… https://t.co/06a1lFjtL3']\n",
      "['SanjuroYojimbo', datetime.datetime(2020, 7, 5, 0, 24, 30), \"Donald Trump's Independence Day speech today was on point. I do not see how he's wrong on what Americans want, that… https://t.co/wMujIbxzBb\"]\n",
      "['Genie Lauren', datetime.datetime(2020, 7, 5, 0, 24, 29), \"This is how I feel about (and encounter) Donald Trump's tweets. https://t.co/dFHW5ontIl\"]\n",
      "['DBIGZ 🇺🇸🥈 🥉 Promoted by Patriots🇺🇸', datetime.datetime(2020, 7, 5, 0, 24, 28), \"@CyndyCali @realDonaldTrump Anti-President Trump rappers😶, what's your beef with him? Prez ain't trickin or simpin… https://t.co/dBCnVtqGi2\"]\n",
      "['that girl', datetime.datetime(2020, 7, 5, 0, 24, 23), '@BobQuarantine @Zoleh_905 @LucyCrowell @drdavidsamadi Donald Trump is a huge Epstein guy.  So is Bill Barr.']\n",
      "['☾ ♛ 𝕵𝖔𝖏𝖔 ♚ ✝︎', datetime.datetime(2020, 7, 5, 0, 24, 19), 'Fuck Donald Trump']\n",
      "['chris armstrong', datetime.datetime(2020, 7, 5, 0, 24, 15), 'President Donald Trump or Congress : To close down the military base Fort Hood - Sign the Petition! https://t.co/F9L69mrYfI via @Change']\n",
      "['Orlando Kitchen & Bath 🇨🇦🇺🇸🌊', datetime.datetime(2020, 7, 5, 0, 24, 14), 'Then something has to be done about Trump using artists music without permission. Legalized some sort of form that… https://t.co/wFrHu8is5L']\n",
      "['Shit Poster', datetime.datetime(2020, 7, 5, 0, 24, 14), 'I rang Donald Trump because it sneezed at Dave.']\n",
      "['Steve supports #BidenForPresident2020', datetime.datetime(2020, 7, 5, 0, 24, 13), 'Please share. Donald J Trump is taking over from Benedict Arnold as America’s # 1 traitor in history. https://t.co/n7fZIiLJ1c']\n",
      "['DEPLORABLE JB', datetime.datetime(2020, 7, 5, 0, 24, 12), '@JoeBiden The Best Is Yet To Come-President Donald J. Trump']\n",
      "['Skittle Costanza', datetime.datetime(2020, 7, 5, 0, 24, 9), 'Donald Trump is even better than Barack!!!']\n",
      "['Shamontiel 🐾 📚 🌊', datetime.datetime(2020, 7, 5, 0, 24, 8), 'Kimberly Guilfoyle, fundraising official for Trump campaign and Donald Trump Jr.’s girlfriend, tests positive for C… https://t.co/CLLt2eaUKM']\n",
      "['sedun dnes graham', datetime.datetime(2020, 7, 5, 0, 24, 7), '@W49969890 @Kalogrym @thehill Also nope that does not make me right wing silly lefty that makes me look at you and… https://t.co/aC3vxi3IyO']\n",
      "['Política y Economía', datetime.datetime(2020, 7, 5, 0, 24, 7), \"overwhelmed by the Covid-19 pandemic and the economic crisis that has ensued. Most important of all, Donald Trump's… https://t.co/88FlKP9CX1\"]\n",
      "['andres', datetime.datetime(2020, 7, 5, 0, 24, 5), \"Who is against Donald Trump all the shit on the planet is against donal trump, Cuba Venezuela China Iran isis that'… https://t.co/2O8SXxlXEL\"]\n",
      "['Liz Bernstein 🏳️\\u200d🌈', datetime.datetime(2020, 7, 5, 0, 24, 4), \"@Chugarz @MiaFarrow @AndyRichter @realDonaldTrump You're not a patriot if you respect Donald Trump\"]\n",
      "['Clyde B 🇺🇸 🗽 ⚓️', datetime.datetime(2020, 7, 5, 0, 24, 1), '@DeAnna4Congress I think that The Lincoln Project is spot on when it deals with our supposed leader. I promote it e… https://t.co/To3k8VfJQj']\n",
      "['ʎǝlɥsɐ BLM', datetime.datetime(2020, 7, 5, 0, 23, 58), 'Yeah it’s fuck Donald Trump https://t.co/vlx3myfNeK']\n"
     ]
    },
    {
     "name": "stdout",
     "output_type": "stream",
     "text": [
      "['Renzo Mora', datetime.datetime(2020, 7, 5, 0, 23, 57), \"Frank Sinatra's Daughter Nancy Reveals What Her Father Would Have Thought About Donald Trump If He Was Alive - From… https://t.co/2Kkd7Oaque\"]\n",
      "['@KatiePorterKicksAss', datetime.datetime(2020, 7, 5, 0, 23, 54), 'The media is mostly silent. For professional reasons. But I am personally convinced, having read The Dangerous Case… https://t.co/82UiqFF9ak']\n",
      "['Kaitie B', datetime.datetime(2020, 7, 5, 0, 23, 52), 'OOooooooh so the testing causes Covid. Wow Donald Trump figured it out. What a GD stable genius. https://t.co/ORnF8wYZqA']\n",
      "['meghanchavalier', datetime.datetime(2020, 7, 5, 0, 23, 50), \"@ProjectLincoln Only respected people deserve that title...he is still donald trump washed up 80's has-been reality… https://t.co/bOBaocc3Fw\"]\n",
      "['The New Minority', datetime.datetime(2020, 7, 5, 0, 23, 49), '@Logic_Phallusy @RudyRc01301978 Yes on the Photoshop. I wish people would stop using it to prove a point when all t… https://t.co/KQS8h2Ldwx']\n",
      "['Michelle Gemini 🌸', datetime.datetime(2020, 7, 5, 0, 23, 49), '@JasonMillerinDC Donald Trump needs to release his taxes.']\n",
      "['DBIGZ 🇺🇸🥈 🥉 Promoted by Patriots🇺🇸', datetime.datetime(2020, 7, 5, 0, 23, 47), '@Dago70_2 @MoreThanSilver1 @twitslvtblocker @Satchalistic1 @ModSpecialist_ @2019knuckles @TrumpBrigade2 @mtursi2000… https://t.co/yfeDlCCczm']\n",
      "['Basil the Great Mouse Infective', datetime.datetime(2020, 7, 5, 0, 23, 43), '@thor_benson @DevinCow Donald Trump is a gd idiot but this is just him going from a paragraph about one war to a pa… https://t.co/rE37rYlniT']\n",
      "['Monty Morshed', datetime.datetime(2020, 7, 5, 0, 23, 36), '@Wiesener4 @BillOReilly Donald J. Trump\\n\\nhttps://t.co/Gguh5jaysM']\n",
      "['Vegas John', datetime.datetime(2020, 7, 5, 0, 23, 36), '\"Pleasant or Paradise sweeping the forest floor, you all were there!  Nobody knows sweeping more than me, and you k… https://t.co/zVvFQ6McxF']\n",
      "['kaybah', datetime.datetime(2020, 7, 5, 0, 23, 35), 'Donald Trump: Free Political Prisoner Leonard Peltier - Sign the Petition! https://t.co/vTx2mQDA1v via @Change']\n",
      "['Bob', datetime.datetime(2020, 7, 5, 0, 23, 34), 'Donald #Trump Reelection Campaign Reportedly ‘Paralyzed’ By His ‘Erratic Behavior,’ Internal Rifts https://t.co/z4yBQsLOi8 #SmartNews']\n",
      "['The Mysteries of Iniquity', datetime.datetime(2020, 7, 5, 0, 23, 32), 'On July 3rd Trump delivered a divisive speech to the nation at Mt. Rushmore. \\n\\nTrump is the 45th president. \\n\\nRushm… https://t.co/bHQq9nZRWK']\n",
      "['Kari Day', datetime.datetime(2020, 7, 5, 0, 23, 32), '@JoeBiden You are so right as President Donald J Trump as our president for 4 more years. @realDonaldTrump']\n",
      "['leary61@yahoo.com', datetime.datetime(2020, 7, 5, 0, 23, 30), 'Carl Reiner’s Daughter Tweets Final Dig At Donald Trump On Her Late Father’s Behalf https://t.co/U0zHoTpUaa']\n",
      "['murican', datetime.datetime(2020, 7, 5, 0, 23, 28), '@SteveScalise @realDonaldTrump Steve, be careful. I hear a lot of Secret Service have Corona virus and Donald Trump… https://t.co/rTiVY7L6c9']\n",
      "['Adam Rifkin 🐼', datetime.datetime(2020, 7, 5, 0, 23, 28), '@CaslerNoel @realDonaldTrump Any real board of directors would have fired Donald Trump as CEO decades ago.']\n",
      "['Home Design LA', datetime.datetime(2020, 7, 5, 0, 23, 27), 'America under Donald Trump will be remembered as a fundamentally dumb country undone by ignorance, arrogance and an… https://t.co/STCTQkpBkh']\n",
      "['Mary-Elizabeth Pross', datetime.datetime(2020, 7, 5, 0, 23, 26), \"Donald Trump Is Now 'America's No. 1 Traitor,' Says Veterans Group https://t.co/NituShIJjc\"]\n",
      "['John Milosky', datetime.datetime(2020, 7, 5, 0, 23, 24), '@hughhewitt @KellyannePolls @realDonaldTrump All the speech does is prove that Donald Trump is a true racist and wi… https://t.co/GrvYQhx0yU']\n",
      "['Michael', datetime.datetime(2020, 7, 5, 0, 23, 23), '@drdavidsamadi @MAGALisaHartz Donald Trump purchased 29m doses of hydroxychloroquine already. CNN or some other New… https://t.co/XuLAPE2Ulc']\n",
      "['DBIGZ 🇺🇸🥈 🥉 Promoted by Patriots🇺🇸', datetime.datetime(2020, 7, 5, 0, 23, 22), \"@DoingRight1 Anti-President Trump rappers😶, what's your beef with him? Prez ain't trickin or simpin in fact flexed… https://t.co/h0MFikweuA\"]\n",
      "['Robert Hull', datetime.datetime(2020, 7, 5, 0, 23, 22), 'The Surge: If Donald Trump loses, this will be why. https://t.co/yr8JWet7wO']\n",
      "['Welcome to the Apocalypse', datetime.datetime(2020, 7, 5, 0, 23, 16), \"US President Donald Trump's business ties to Kingdom of Saudi Arabia run long and deep\\n\\nhttps://t.co/ICmhFC3uZ4\"]\n",
      "['Daveinflint', datetime.datetime(2020, 7, 5, 0, 23, 15), 'How can the people at CNN like this?\\n\\nhttps://t.co/2vVs1UZEhi']\n",
      "['thisismeworld', datetime.datetime(2020, 7, 5, 0, 23, 12), '@TamMeadus709 @JustinTrudeau You are thinking of Donald Trump.']\n",
      "['Paul Williamson', datetime.datetime(2020, 7, 5, 0, 23, 11), '@kathrynresister @LA_Karma1 My totally honest irreversible answer is if any of these endings actually happen to rea… https://t.co/5xAmFBU7nC']\n",
      "['American Patriot', datetime.datetime(2020, 7, 5, 0, 23, 10), 'Trump May End Obama Attack on Suburbia via Activist Housing Rules https://t.co/UgW9A3fHyM via @BreitbartNews']\n",
      "['RICK T', datetime.datetime(2020, 7, 5, 0, 23, 7), '@LessGovMoreFun @Dagleishmv PROFESSOR HELMUT IT WILL BE\\n100% CHANCE VICTORY THIS NOVEMBER FOR DONALD TRUMP\\nBECAUSE… https://t.co/iEf6RGR9Fc']\n",
      "['Margarita', datetime.datetime(2020, 7, 5, 0, 23, 5), 'Donald Trump is a racist @realDonaldTrump @WhiteHouse @SenateGOP @HouseGOP https://t.co/72PFm8ZpzO']\n",
      "['Allison', datetime.datetime(2020, 7, 5, 0, 23, 4), '📷 rinokami: skywalkingreys: sandandglass: Donald Trump gets attacked by an eagle. This eagle truly represents Ameri… https://t.co/q9ppdTkMeM']\n",
      "['🇺🇸🇺🇸Keri Lynn Munson🇺🇸🇺🇸', datetime.datetime(2020, 7, 5, 0, 23, 2), '@nautalii Happy 4th of July!!! GOD BLESS THE USA &amp; OUR PRESIDENT DONALD TRUMP!']\n",
      "['citizensforimpeachingtrump@gmail.com', datetime.datetime(2020, 7, 5, 0, 23, 1), 'Neil Young Condemns Donald Trump’s Use Of His Music At Mount Rushmore Event https://t.co/Jm85sBU2Bd']\n",
      "['anna', datetime.datetime(2020, 7, 5, 0, 23), 'imagine confidently supporting donald trump lmao imagine wearing his merch.... there is literally nothing more embarrassing']\n",
      "['Lynette supports Joe Biden', datetime.datetime(2020, 7, 5, 0, 22, 51), 'Donald Trump has completely berserk meltdown as coronavirus closes in on him https://t.co/PnDzr2t9ar via @PalmerReport']\n",
      "['Vote! Obama-2020 🇺🇲', datetime.datetime(2020, 7, 5, 0, 22, 50), \"@rsdeshazer @costareports @PhilipRucker Sorry didn't know you could read. If you can read this and any number of cr… https://t.co/nLv1bnZ3EL\"]\n",
      "['WTOP', datetime.datetime(2020, 7, 5, 0, 22, 47), 'President Donald Trump saluted America on the Fourth of July with remarks at the White House Saturday that echoed t… https://t.co/9BsLWRNJLh']\n"
     ]
    },
    {
     "ename": "NameError",
     "evalue": "name 'pd' is not defined",
     "output_type": "error",
     "traceback": [
      "\u001b[0;31m---------------------------------------------------------------------------\u001b[0m",
      "\u001b[0;31mNameError\u001b[0m                                 Traceback (most recent call last)",
      "\u001b[0;32m<ipython-input-15-19d8fdc6065a>\u001b[0m in \u001b[0;36m<module>\u001b[0;34m\u001b[0m\n\u001b[0;32m----> 1\u001b[0;31m \u001b[0mget_related_tweets\u001b[0m\u001b[0;34m(\u001b[0m\u001b[0;34m'Donald Trump'\u001b[0m\u001b[0;34m)\u001b[0m\u001b[0;34m\u001b[0m\u001b[0;34m\u001b[0m\u001b[0m\n\u001b[0m",
      "\u001b[0;32m<ipython-input-14-a779da166f52>\u001b[0m in \u001b[0;36mget_related_tweets\u001b[0;34m(key_word)\u001b[0m\n\u001b[1;32m     20\u001b[0m                     \u001b[0mprint\u001b[0m\u001b[0;34m(\u001b[0m\u001b[0;34m[\u001b[0m\u001b[0mtweet\u001b[0m\u001b[0;34m.\u001b[0m\u001b[0muser\u001b[0m\u001b[0;34m.\u001b[0m\u001b[0mname\u001b[0m\u001b[0;34m,\u001b[0m\u001b[0mtweet\u001b[0m\u001b[0;34m.\u001b[0m\u001b[0mcreated_at\u001b[0m\u001b[0;34m,\u001b[0m\u001b[0mtweet\u001b[0m\u001b[0;34m.\u001b[0m\u001b[0mtext\u001b[0m\u001b[0;34m]\u001b[0m\u001b[0;34m)\u001b[0m\u001b[0;34m\u001b[0m\u001b[0;34m\u001b[0m\u001b[0m\n\u001b[1;32m     21\u001b[0m     \u001b[0;31m# Creating dataframe with desired info\u001b[0m\u001b[0;34m\u001b[0m\u001b[0;34m\u001b[0m\u001b[0;34m\u001b[0m\u001b[0m\n\u001b[0;32m---> 22\u001b[0;31m     \u001b[0mdf\u001b[0m \u001b[0;34m=\u001b[0m \u001b[0mpd\u001b[0m\u001b[0;34m.\u001b[0m\u001b[0mDataFrame\u001b[0m\u001b[0;34m(\u001b[0m\u001b[0;34m{\u001b[0m\u001b[0;34m'name'\u001b[0m\u001b[0;34m:\u001b[0m\u001b[0mtwitter_users\u001b[0m\u001b[0;34m,\u001b[0m \u001b[0;34m'time'\u001b[0m\u001b[0;34m:\u001b[0m \u001b[0mtweet_time\u001b[0m\u001b[0;34m,\u001b[0m \u001b[0;34m'tweet'\u001b[0m\u001b[0;34m:\u001b[0m \u001b[0mtweet_string\u001b[0m\u001b[0;34m}\u001b[0m\u001b[0;34m)\u001b[0m\u001b[0;34m\u001b[0m\u001b[0;34m\u001b[0m\u001b[0m\n\u001b[0m\u001b[1;32m     23\u001b[0m \u001b[0;34m\u001b[0m\u001b[0m\n\u001b[1;32m     24\u001b[0m     \u001b[0;32mreturn\u001b[0m \u001b[0mdf\u001b[0m\u001b[0;34m\u001b[0m\u001b[0;34m\u001b[0m\u001b[0m\n",
      "\u001b[0;31mNameError\u001b[0m: name 'pd' is not defined"
     ]
    }
   ],
   "source": [
    "get_related_tweets('Donald Trump')"
   ]
  },
  {
   "cell_type": "markdown",
   "metadata": {},
   "source": [
    "# Sentiment Analysis"
   ]
  },
  {
   "cell_type": "code",
   "execution_count": 16,
   "metadata": {
    "ExecuteTime": {
     "end_time": "2020-07-05T00:29:14.830233Z",
     "start_time": "2020-07-05T00:29:13.263573Z"
    }
   },
   "outputs": [],
   "source": [
    "\n",
    "from textblob import TextBlob"
   ]
  },
  {
   "cell_type": "markdown",
   "metadata": {},
   "source": [
    " The polarity score is a float with values from -1 to +1"
   ]
  },
  {
   "cell_type": "code",
   "execution_count": 18,
   "metadata": {
    "ExecuteTime": {
     "end_time": "2020-07-05T00:32:53.551366Z",
     "start_time": "2020-07-05T00:32:53.547131Z"
    }
   },
   "outputs": [
    {
     "name": "stdout",
     "output_type": "stream",
     "text": [
      "Sentiment Polarity Score:-0.2\n"
     ]
    }
   ],
   "source": [
    "# using the polarity score to measure positive or negative sentiment\n",
    "sentiment_score = TextBlob('Dawg am I trippen ? Let me kno i thought all that donald trump shit Was a Joke').sentiment.polarity\n",
    "print(f\"Sentiment Polarity Score:{sentiment_score}\")"
   ]
  },
  {
   "cell_type": "code",
   "execution_count": 22,
   "metadata": {
    "ExecuteTime": {
     "end_time": "2020-07-05T00:36:45.455775Z",
     "start_time": "2020-07-05T00:36:45.452095Z"
    }
   },
   "outputs": [],
   "source": [
    "# made above into a function \n",
    "def sentiment_polarity_score(tweet):\n",
    "    sentiment_score = TextBlob(tweet).sentiment.polarity\n",
    "    print(f\"Sentiment Polarity Score:{sentiment_score}\")"
   ]
  },
  {
   "cell_type": "code",
   "execution_count": 23,
   "metadata": {
    "ExecuteTime": {
     "end_time": "2020-07-05T00:36:46.041637Z",
     "start_time": "2020-07-05T00:36:46.038796Z"
    }
   },
   "outputs": [
    {
     "name": "stdout",
     "output_type": "stream",
     "text": [
      "Sentiment Polarity Score:-0.37249999999999994\n"
     ]
    }
   ],
   "source": [
    "sentiment_polarity_score('i mean this from the bottom of my heart: donald trump is a big stupid dumb dumb and so are the people who support him')"
   ]
  },
  {
   "cell_type": "code",
   "execution_count": 24,
   "metadata": {
    "ExecuteTime": {
     "end_time": "2020-07-05T00:40:41.020075Z",
     "start_time": "2020-07-05T00:40:41.016447Z"
    }
   },
   "outputs": [
    {
     "name": "stdout",
     "output_type": "stream",
     "text": [
      "Sentiment Polarity Score:-0.4\n"
     ]
    }
   ],
   "source": [
    "sentiment_polarity_score('Fuck Donald Trump')"
   ]
  },
  {
   "cell_type": "code",
   "execution_count": 25,
   "metadata": {
    "ExecuteTime": {
     "end_time": "2020-07-05T00:41:18.047625Z",
     "start_time": "2020-07-05T00:41:18.044008Z"
    }
   },
   "outputs": [
    {
     "name": "stdout",
     "output_type": "stream",
     "text": [
      "Sentiment Polarity Score:0.9765625\n"
     ]
    }
   ],
   "source": [
    "sentiment_polarity_score('Donald Trump is even better than Barack!!!')"
   ]
  },
  {
   "cell_type": "code",
   "execution_count": null,
   "metadata": {},
   "outputs": [],
   "source": []
  }
 ],
 "metadata": {
  "kernelspec": {
   "display_name": "Python 3",
   "language": "python",
   "name": "python3"
  },
  "language_info": {
   "codemirror_mode": {
    "name": "ipython",
    "version": 3
   },
   "file_extension": ".py",
   "mimetype": "text/x-python",
   "name": "python",
   "nbconvert_exporter": "python",
   "pygments_lexer": "ipython3",
   "version": "3.7.3"
  },
  "toc": {
   "base_numbering": 1,
   "nav_menu": {},
   "number_sections": true,
   "sideBar": true,
   "skip_h1_title": false,
   "title_cell": "Table of Contents",
   "title_sidebar": "Contents",
   "toc_cell": false,
   "toc_position": {},
   "toc_section_display": true,
   "toc_window_display": false
  },
  "varInspector": {
   "cols": {
    "lenName": 16,
    "lenType": 16,
    "lenVar": 40
   },
   "kernels_config": {
    "python": {
     "delete_cmd_postfix": "",
     "delete_cmd_prefix": "del ",
     "library": "var_list.py",
     "varRefreshCmd": "print(var_dic_list())"
    },
    "r": {
     "delete_cmd_postfix": ") ",
     "delete_cmd_prefix": "rm(",
     "library": "var_list.r",
     "varRefreshCmd": "cat(var_dic_list()) "
    }
   },
   "types_to_exclude": [
    "module",
    "function",
    "builtin_function_or_method",
    "instance",
    "_Feature"
   ],
   "window_display": false
  }
 },
 "nbformat": 4,
 "nbformat_minor": 2
}
