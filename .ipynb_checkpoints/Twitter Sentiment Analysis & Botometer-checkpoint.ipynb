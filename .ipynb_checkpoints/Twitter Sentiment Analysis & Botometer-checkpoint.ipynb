{
 "cells": [
  {
   "cell_type": "code",
   "execution_count": 1,
   "metadata": {
    "ExecuteTime": {
     "end_time": "2020-04-29T05:43:33.373926Z",
     "start_time": "2020-04-29T05:43:33.202145Z"
    }
   },
   "outputs": [],
   "source": [
    "from botometer import Botometer"
   ]
  },
  {
   "cell_type": "code",
   "execution_count": 2,
   "metadata": {
    "ExecuteTime": {
     "end_time": "2020-04-29T05:47:45.066123Z",
     "start_time": "2020-04-29T05:47:43.383271Z"
    }
   },
   "outputs": [
    {
     "name": "stdout",
     "output_type": "stream",
     "text": [
      "{\n",
      "  \"message\": \"Test request OK!\", \n",
      "  \"status\": \"test ok\"\n",
      "}\n",
      "\n"
     ]
    }
   ],
   "source": [
    "import requests\n",
    "\n",
    "url = \"https://osome-botometer.p.rapidapi.com/2/check_account\"\n",
    "\n",
    "payload = \"{    \\\"user\\\": {        \\\"id\\\": \\\"1234567890\\\",        \\\"screen_name\\\": \\\"IUNetSci\\\",        \\\"...\\\": \\\"...\\\"    },    \\\"timeline\\\": [{            \\\"id\\\": 1234567890,            \\\"text\\\": \\\"@Botometer is so cool!\\\",            \\\"...\\\": \\\"...\\\"        },        \\\"...\\\"    ],    \\\"mentions\\\": [{            \\\"id\\\": 9876543210,            \\\"text\\\": \\\"@TruthyAtIndiana is also cool!\\\",            \\\"...\\\": \\\"...\\\"        },        \\\"...\\\"    ]}\"\n",
    "header = \n",
    "\n",
    "response = requests.request(\"POST\", url, data=payload, headers=headers)\n",
    "\n",
    "print(response.text)"
   ]
  },
  {
   "cell_type": "code",
   "execution_count": 4,
   "metadata": {
    "ExecuteTime": {
     "end_time": "2020-04-29T05:52:51.103129Z",
     "start_time": "2020-04-29T05:52:51.100065Z"
    }
   },
   "outputs": [],
   "source": []
  },
  {
   "cell_type": "code",
   "execution_count": 6,
   "metadata": {
    "ExecuteTime": {
     "end_time": "2020-04-29T05:57:55.078908Z",
     "start_time": "2020-04-29T05:57:55.068091Z"
    }
   },
   "outputs": [
    {
     "ename": "TypeError",
     "evalue": "__init__() missing 2 required positional arguments: 'consumer_key' and 'consumer_secret'",
     "output_type": "error",
     "traceback": [
      "\u001b[0;31m---------------------------------------------------------------------------\u001b[0m",
      "\u001b[0;31mTypeError\u001b[0m                                 Traceback (most recent call last)",
      "\u001b[0;32m<ipython-input-6-466de583d574>\u001b[0m in \u001b[0;36m<module>\u001b[0;34m\u001b[0m\n\u001b[0;32m----> 1\u001b[0;31m \u001b[0mbotometer\u001b[0m \u001b[0;34m=\u001b[0m \u001b[0mBotometer\u001b[0m\u001b[0;34m(\u001b[0m\u001b[0mrapidapi_key\u001b[0m\u001b[0;34m=\u001b[0m\u001b[0mrapidapi_key\u001b[0m\u001b[0;34m,\u001b[0m \u001b[0mwait_on_ratelimit\u001b[0m\u001b[0;34m=\u001b[0m\u001b[0;32mTrue\u001b[0m\u001b[0;34m)\u001b[0m\u001b[0;34m\u001b[0m\u001b[0;34m\u001b[0m\u001b[0m\n\u001b[0m",
      "\u001b[0;31mTypeError\u001b[0m: __init__() missing 2 required positional arguments: 'consumer_key' and 'consumer_secret'"
     ]
    }
   ],
   "source": [
    "botometer = Botometer(rapidapi_key=rapidapi_key, wait_on_ratelimit=True)"
   ]
  },
  {
   "cell_type": "code",
   "execution_count": 8,
   "metadata": {
    "ExecuteTime": {
     "end_time": "2020-04-29T05:59:43.888068Z",
     "start_time": "2020-04-29T05:59:43.882132Z"
    }
   },
   "outputs": [
    {
     "ename": "SyntaxError",
     "evalue": "invalid syntax (<ipython-input-8-01a11c247f00>, line 1)",
     "output_type": "error",
     "traceback": [
      "\u001b[0;36m  File \u001b[0;32m\"<ipython-input-8-01a11c247f00>\"\u001b[0;36m, line \u001b[0;32m1\u001b[0m\n\u001b[0;31m    POST /oauth2/token HTTP/1.1\u001b[0m\n\u001b[0m                          ^\u001b[0m\n\u001b[0;31mSyntaxError\u001b[0m\u001b[0;31m:\u001b[0m invalid syntax\n"
     ]
    }
   ],
   "source": []
  },
  {
   "cell_type": "code",
   "execution_count": null,
   "metadata": {},
   "outputs": [],
   "source": []
  }
 ],
 "metadata": {
  "kernelspec": {
   "display_name": "Python 3",
   "language": "python",
   "name": "python3"
  },
  "language_info": {
   "codemirror_mode": {
    "name": "ipython",
    "version": 3
   },
   "file_extension": ".py",
   "mimetype": "text/x-python",
   "name": "python",
   "nbconvert_exporter": "python",
   "pygments_lexer": "ipython3",
   "version": "3.7.3"
  },
  "toc": {
   "base_numbering": 1,
   "nav_menu": {},
   "number_sections": true,
   "sideBar": true,
   "skip_h1_title": false,
   "title_cell": "Table of Contents",
   "title_sidebar": "Contents",
   "toc_cell": false,
   "toc_position": {},
   "toc_section_display": true,
   "toc_window_display": false
  },
  "varInspector": {
   "cols": {
    "lenName": 16,
    "lenType": 16,
    "lenVar": 40
   },
   "kernels_config": {
    "python": {
     "delete_cmd_postfix": "",
     "delete_cmd_prefix": "del ",
     "library": "var_list.py",
     "varRefreshCmd": "print(var_dic_list())"
    },
    "r": {
     "delete_cmd_postfix": ") ",
     "delete_cmd_prefix": "rm(",
     "library": "var_list.r",
     "varRefreshCmd": "cat(var_dic_list()) "
    }
   },
   "types_to_exclude": [
    "module",
    "function",
    "builtin_function_or_method",
    "instance",
    "_Feature"
   ],
   "window_display": false
  }
 },
 "nbformat": 4,
 "nbformat_minor": 2
}
